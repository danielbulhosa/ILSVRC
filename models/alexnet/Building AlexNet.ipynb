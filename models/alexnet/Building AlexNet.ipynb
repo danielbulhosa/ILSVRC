{
 "cells": [
  {
   "cell_type": "code",
   "execution_count": 1,
   "metadata": {},
   "outputs": [
    {
     "name": "stderr",
     "output_type": "stream",
     "text": [
      "Using TensorFlow backend.\n"
     ]
    }
   ],
   "source": [
    "import tensorflow as tf\n",
    "import keras.models as mod\n",
    "import keras.layers as lyr\n",
    "import keras.optimizers as opt\n",
    "import keras.losses as loss\n",
    "import keras.metrics as met\n",
    "import keras.regularizers as reg\n",
    "from keras import backend as K\n",
    "import keras.initializers as init\n",
    "import keras.callbacks as call\n",
    "import numpy as np\n",
    "import albumentations\n",
    "import cv2\n",
    "import os\n",
    "import pickle\n",
    "import time\n",
    "import cupy as cp\n",
    "import re\n",
    "import matplotlib.pyplot as plt\n",
    "import math\n",
    "from keras_tqdm import TQDMNotebookCallback\n",
    "from numba import cuda\n",
    "import gc\n",
    "# Literally had to restart computer for Cupy to work...\n",
    "# https://github.com/explosion/spaCy/issues/2778\n",
    "# Docs here: https://docs-cupy.chainer.org/en/stable/index.html\n",
    "# Will probably need to restart computer each time the kernel \n",
    "# resets to get Cupy to work..."
   ]
  },
  {
   "cell_type": "code",
   "execution_count": 2,
   "metadata": {},
   "outputs": [],
   "source": [
    "# Supposedly frees GPU memory: https://www.kaggle.com/c/jigsaw-unintended-bias-in-toxicity-classification/discussion/96876\n",
    "cuda.select_device(0)\n",
    "cuda.close()"
   ]
  },
  {
   "cell_type": "markdown",
   "metadata": {},
   "source": [
    "# I. Preprocessing Definition\n",
    "\n",
    "Rescaled and cropped in the terminal with `convert`. The scripts is called `preprocess_images.sh` and can be found in the `Datasets/ILSVRC2012/` folder. The script itself contains comments explaining how the command works and sources of inspiration.\n",
    "\n",
    "After that we can calculate the PCA over all the pixels and store the resulting eigenvectors in a pickle file. It seems that the cropping augmentation is truly random so we will treat it as such and use the pre-built one in albumentations. We will also add a step in our custom (Sequence-class based) augmentator that adds the PCA noise. We just need to double check whether the input to this class is a np.array, tensor, or something else.\n",
    "\n",
    "See: \n",
    "+ [Custom Augmentations With Keras][1]: How to use the Keras [Sequence][2] class to create custom image augmentations (beyond those built into Keras, including those from Albumentations).\n",
    "+ [PCA On Alexnet Training Data][3]: Found this because I wanted to confirm the interpretation that RGB PCA should be taken over all pixels. Thought it could be taken over each pixel separately too. Read a paper somewhere making the point that the statistics of pixels should be locationally invariant. This makes sense since the color palette and brightness of an image set should overall not correlate with specific locations of the pixels assuming there isn't some strong correlation between the photographic lighting or color conditions (i.e. same photo studio or such). This is the theoretical motivation for taking the PCA over all pixels irrespective of their location in their images. \n",
    "+ [Augmentations: A Library For Augmenting Image Data][4]: Created by Kaggle competitors, this library is hella dope. Worth looking at their Github to see their featured examples of transformations. Really fun things you can do with images.\n",
    "\n",
    "[1]: https://medium.com/the-artificial-impostor/custom-image-augmentation-with-keras-70595b01aeac\n",
    "[2]: https://github.com/keras-team/keras/blob/04cbccc8038c105374eef6eb2ce96d6746999860/keras/utils/data_utils.py\n",
    "[3]: https://deshanadesai.github.io/notes/Fancy-PCA-with-Scikit-Image\n",
    "[4]: https://albumentations.readthedocs.io/en/latest/api/augmentations.html"
   ]
  },
  {
   "cell_type": "markdown",
   "metadata": {},
   "source": [
    "## I.a) Calculating mean"
   ]
  },
  {
   "cell_type": "markdown",
   "metadata": {},
   "source": [
    "Note that if $X_i$ denotes the length three vector of RGB values for pixel $i$ in our image set, and $\\bar{X}$ denote the mean of the random vector $X$ then:\n",
    "\n",
    "$$\n",
    "\\begin{align}\n",
    "\\bar{X} &= \\frac{1}{N} \\sum_{i}  X_i \\\\\n",
    "\\end{align}\n",
    "$$\n",
    "\n",
    "So the mean of $X$ can be calculated additively! This is what we do, in order to not overflow the memory of this notebook."
   ]
  },
  {
   "cell_type": "code",
   "execution_count": 2,
   "metadata": {},
   "outputs": [
    {
     "name": "stdout",
     "output_type": "stream",
     "text": [
      "1001\r\n"
     ]
    }
   ],
   "source": [
    "# Number of class folders\n",
    "!ls Datasets/ILSVRC2012/Training | wc -l"
   ]
  },
  {
   "cell_type": "code",
   "execution_count": 3,
   "metadata": {
    "collapsed": true
   },
   "outputs": [
    {
     "name": "stdout",
     "output_type": "stream",
     "text": [
      "\n",
      "    Iteration #1 Completed in 0.02 minutes.\n",
      "    Average iteration time: 0.02 minutes\n",
      "    Estimated time remaining: 20.02 minutes\n",
      "    \n",
      "\n",
      "    Iteration #2 Completed in 0.02 minutes.\n",
      "    Average iteration time: 0.02 minutes\n",
      "    Estimated time remaining: 20.0 minutes\n",
      "    \n"
     ]
    },
    {
     "ename": "KeyboardInterrupt",
     "evalue": "",
     "output_type": "error",
     "traceback": [
      "\u001b[0;31m---------------------------------------------------------------------------\u001b[0m",
      "\u001b[0;31mKeyboardInterrupt\u001b[0m                         Traceback (most recent call last)",
      "\u001b[0;32m<ipython-input-3-c27f60200ac1>\u001b[0m in \u001b[0;36m<module>\u001b[0;34m\u001b[0m\n\u001b[1;32m     24\u001b[0m     \u001b[0;32mfor\u001b[0m \u001b[0mimage\u001b[0m \u001b[0;32min\u001b[0m \u001b[0mclass_images\u001b[0m\u001b[0;34m:\u001b[0m\u001b[0;34m\u001b[0m\u001b[0;34m\u001b[0m\u001b[0m\n\u001b[1;32m     25\u001b[0m         \u001b[0mimage_path\u001b[0m \u001b[0;34m=\u001b[0m \u001b[0mfull_class_path\u001b[0m \u001b[0;34m+\u001b[0m \u001b[0mimage\u001b[0m\u001b[0;34m\u001b[0m\u001b[0;34m\u001b[0m\u001b[0m\n\u001b[0;32m---> 26\u001b[0;31m         \u001b[0mpixel_array\u001b[0m \u001b[0;34m=\u001b[0m \u001b[0mcp\u001b[0m\u001b[0;34m.\u001b[0m\u001b[0marray\u001b[0m\u001b[0;34m(\u001b[0m\u001b[0mcv2\u001b[0m\u001b[0;34m.\u001b[0m\u001b[0mimread\u001b[0m\u001b[0;34m(\u001b[0m\u001b[0mimage_path\u001b[0m\u001b[0;34m)\u001b[0m\u001b[0;34m)\u001b[0m\u001b[0;34m.\u001b[0m\u001b[0mreshape\u001b[0m\u001b[0;34m(\u001b[0m\u001b[0;34m-\u001b[0m\u001b[0;36m1\u001b[0m\u001b[0;34m,\u001b[0m \u001b[0;36m3\u001b[0m\u001b[0;34m)\u001b[0m\u001b[0;34m\u001b[0m\u001b[0;34m\u001b[0m\u001b[0m\n\u001b[0m\u001b[1;32m     27\u001b[0m \u001b[0;34m\u001b[0m\u001b[0m\n\u001b[1;32m     28\u001b[0m         \u001b[0msum_pixels\u001b[0m \u001b[0;34m+=\u001b[0m \u001b[0mpixel_array\u001b[0m\u001b[0;34m.\u001b[0m\u001b[0msum\u001b[0m\u001b[0;34m(\u001b[0m\u001b[0maxis\u001b[0m\u001b[0;34m=\u001b[0m\u001b[0;36m0\u001b[0m\u001b[0;34m)\u001b[0m\u001b[0;34m\u001b[0m\u001b[0;34m\u001b[0m\u001b[0m\n",
      "\u001b[0;32m~/anaconda3/lib/python3.7/site-packages/cupy/creation/from_data.py\u001b[0m in \u001b[0;36marray\u001b[0;34m(obj, dtype, copy, order, subok, ndmin)\u001b[0m\n\u001b[1;32m     39\u001b[0m \u001b[0;34m\u001b[0m\u001b[0m\n\u001b[1;32m     40\u001b[0m     \"\"\"\n\u001b[0;32m---> 41\u001b[0;31m     \u001b[0;32mreturn\u001b[0m \u001b[0mcore\u001b[0m\u001b[0;34m.\u001b[0m\u001b[0marray\u001b[0m\u001b[0;34m(\u001b[0m\u001b[0mobj\u001b[0m\u001b[0;34m,\u001b[0m \u001b[0mdtype\u001b[0m\u001b[0;34m,\u001b[0m \u001b[0mcopy\u001b[0m\u001b[0;34m,\u001b[0m \u001b[0morder\u001b[0m\u001b[0;34m,\u001b[0m \u001b[0msubok\u001b[0m\u001b[0;34m,\u001b[0m \u001b[0mndmin\u001b[0m\u001b[0;34m)\u001b[0m\u001b[0;34m\u001b[0m\u001b[0;34m\u001b[0m\u001b[0m\n\u001b[0m\u001b[1;32m     42\u001b[0m \u001b[0;34m\u001b[0m\u001b[0m\n\u001b[1;32m     43\u001b[0m \u001b[0;34m\u001b[0m\u001b[0m\n",
      "\u001b[0;31mKeyboardInterrupt\u001b[0m: "
     ]
    }
   ],
   "source": [
    "root_dir = \"Datasets/ILSVRC2012/Training/\"\n",
    "class_dirs = [class_dir for class_dir in os.listdir(root_dir)\n",
    "              if class_dir[-4:] != \".tar\"]\n",
    "assert len(class_dirs) == 1000, \"\"\"Not exactly 1000 classes were found!\n",
    "                                   {} classes were found instead \n",
    "                                \"\"\".format(len(class_dirs))\n",
    "\n",
    "num_pixels = 0\n",
    "sum_pixels = cp.array([0.0,0.0,0.0])\n",
    "\n",
    "t_job_start = time.time()\n",
    "delta_ts = []\n",
    "\n",
    "# Using the GPU shaves 30% (10 minutes) from the total calculation!\n",
    "# Could be more if im.read created a cp.array directly? \n",
    "# Doesn't seem supported though, by OpenCV\n",
    "for num, class_dir in enumerate(class_dirs):\n",
    "    t_dir_start = time.time()\n",
    "    \n",
    "    full_class_path = root_dir + class_dir + '/'\n",
    "    class_images = [image for image in os.listdir(full_class_path)\n",
    "                    if image[-5:] == \".JPEG\"]\n",
    "    \n",
    "    for image in class_images:\n",
    "        image_path = full_class_path + image\n",
    "        pixel_array = cp.array(cv2.imread(image_path)).reshape(-1, 3)\n",
    "        \n",
    "        sum_pixels += pixel_array.sum(axis=0)\n",
    "        num_pixels += pixel_array.shape[0]\n",
    "    \n",
    "    t_dir_end = time.time()\n",
    "    delta_t = (t_dir_end - t_dir_start)/60\n",
    "    delta_ts.append(delta_t)\n",
    "    avg_delta_t = round(sum(delta_ts)/len(delta_ts), 2)\n",
    "\n",
    "    print(\"\"\"\n",
    "    Iteration #{} Completed in {} minutes.\n",
    "    Average iteration time: {} minutes\n",
    "    Estimated time remaining: {} minutes\n",
    "    \"\"\".format(num + 1, \n",
    "               round(delta_t, 2),\n",
    "               avg_delta_t,\n",
    "               avg_delta_t * (1000 - (num-1))\n",
    "               ))\n",
    "        \n",
    "results = {\n",
    "    'sum_pixels': sum_pixels,\n",
    "    'num_pixels': num_pixels,\n",
    "    'pixel_avg': sum_pixels/num_pixels\n",
    "}\n",
    "\n",
    "with open('pixel_avg.pkl', 'wb') as file:\n",
    "    pickle.dump(results, file)"
   ]
  },
  {
   "cell_type": "code",
   "execution_count": null,
   "metadata": {},
   "outputs": [],
   "source": [
    "print(\"Total time: {} minutes\".format(round(sum(delta_ts), 2)))"
   ]
  },
  {
   "cell_type": "code",
   "execution_count": 2,
   "metadata": {},
   "outputs": [
    {
     "name": "stdout",
     "output_type": "stream",
     "text": [
      "{'sum_pixels': array([8.33242389e+12, 9.38175940e+12, 9.93350039e+12]), 'num_pixels': 80670566851, 'pixel_avg': array([103.289517  , 116.29717962, 123.13661324])}\n"
     ]
    }
   ],
   "source": [
    "results = None\n",
    "with open('pixel_avg.pkl', 'rb') as file:\n",
    "    results = pickle.load(file)\n",
    "    \n",
    "print(results)"
   ]
  },
  {
   "cell_type": "code",
   "execution_count": 3,
   "metadata": {},
   "outputs": [
    {
     "data": {
      "text/plain": [
       "array([103.289517  , 116.29717962, 123.13661324])"
      ]
     },
     "execution_count": 3,
     "metadata": {},
     "output_type": "execute_result"
    }
   ],
   "source": [
    "pixel_avg = results['pixel_avg']\n",
    "pixel_avg"
   ]
  },
  {
   "cell_type": "markdown",
   "metadata": {},
   "source": [
    "## I.b) Calculating covariance\n",
    "\n",
    "Let $C(X)$ be the covariance of X, then:\n",
    "\n",
    "$$\n",
    "\\begin{align}\n",
    "C(X) &= \\frac{1}{N-1} \\sum_{i} \\left(X_i - \\bar{X}\\right)\\left(X_i - \\bar{X}\\right)^{T} \\\\\n",
    "     &= \\frac{1}{N-1} \\sum_{i} X_i X_i^{T}, \\text{ if } \\bar{X}=\\vec{0}\n",
    "\\end{align}\n",
    "$$\n",
    "\n",
    "Thus the covariance can also be calculated additively:"
   ]
  },
  {
   "cell_type": "code",
   "execution_count": null,
   "metadata": {},
   "outputs": [],
   "source": [
    "root_dir = \"Datasets/ILSVRC2012/Training/\"\n",
    "class_dirs = [class_dir for class_dir in os.listdir(root_dir)\n",
    "              if class_dir[-4:] != \".tar\"]\n",
    "assert len(class_dirs) == 1000, \"\"\"Not exactly 1000 classes were found!\n",
    "                                   {} classes were found instead \n",
    "                                \"\"\".format(len(class_dirs))\n",
    "\n",
    "num_pixels = 0\n",
    "sum_cov = cp.array([[0.0,0.0,0.0],\n",
    "                    [0.0,0.0,0.0],\n",
    "                    [0.0,0.0,0.0]])\n",
    "\n",
    "t_job_start = time.time()\n",
    "delta_ts = []\n",
    "\n",
    "# Would be good to refactor this and the above into a couple\n",
    "# of methods\n",
    "for num, class_dir in enumerate(class_dirs):\n",
    "    t_dir_start = time.time()\n",
    "    \n",
    "    full_class_path = root_dir + class_dir + '/'\n",
    "    class_images = [image for image in os.listdir(full_class_path)\n",
    "                    if image[-5:] == \".JPEG\"]\n",
    "    \n",
    "    for image in class_images:\n",
    "        image_path = full_class_path + image\n",
    "        pixel_array = cp.array(cv2.imread(image_path)).reshape(-1, 3)\n",
    "        \n",
    "        # Mean needs to be subtracted for PCA\n",
    "        sum_cov += cp.matmul((pixel_array - pixel_avg).T, \n",
    "                             pixel_array - pixel_avg)\n",
    "        num_pixels += pixel_array.shape[0]\n",
    "    \n",
    "    t_dir_end = time.time()\n",
    "    delta_t = (t_dir_end - t_dir_start)/60\n",
    "    delta_ts.append(delta_t)\n",
    "    avg_delta_t = round(sum(delta_ts)/len(delta_ts), 2)\n",
    "\n",
    "    print(\"\"\"\n",
    "    Iteration #{} Completed in {} minutes.\n",
    "    Average iteration time: {} minutes\n",
    "    Estimated time remaining: {} minutes\n",
    "    \"\"\".format(num + 1, \n",
    "               round(delta_t, 2),\n",
    "               avg_delta_t,\n",
    "               avg_delta_t * (1000 - (num-1))\n",
    "               ))\n",
    "        \n",
    "results = {\n",
    "    'sum_cov': sum_cov,\n",
    "    'num_pixels': num_pixels,\n",
    "    'cov': sum_cov/(num_pixels - 1)\n",
    "}\n",
    "\n",
    "with open('cov.pkl', 'wb') as file:\n",
    "    pickle.dump(results, file)"
   ]
  },
  {
   "cell_type": "code",
   "execution_count": null,
   "metadata": {},
   "outputs": [],
   "source": [
    "print(\"Total time: {} minutes\".format(round(sum(delta_ts), 2)))"
   ]
  },
  {
   "cell_type": "code",
   "execution_count": 4,
   "metadata": {},
   "outputs": [
    {
     "name": "stdout",
     "output_type": "stream",
     "text": [
      "{'sum_cov': array([[4.21188577e+14, 3.60446585e+14, 3.12017459e+14],\n",
      "       [3.60446585e+14, 3.83212549e+14, 3.49846292e+14],\n",
      "       [3.12017459e+14, 3.49846292e+14, 4.05591044e+14]]), 'num_pixels': 80670566851, 'cov': array([[5221.0935589 , 4468.13006907, 3867.79802647],\n",
      "       [4468.13006907, 4750.33911837, 4336.72782218],\n",
      "       [3867.79802647, 4336.72782218, 5027.74506138]])}\n"
     ]
    }
   ],
   "source": [
    "cov_results = None\n",
    "with open('cov.pkl', 'rb') as file:\n",
    "    cov_results = pickle.load(file)\n",
    "    \n",
    "print(cov_results)"
   ]
  },
  {
   "cell_type": "code",
   "execution_count": 5,
   "metadata": {},
   "outputs": [
    {
     "data": {
      "text/plain": [
       "array([[72.257135  , 66.8440728 , 62.19162344],\n",
       "       [66.8440728 , 68.92270394, 65.85383681],\n",
       "       [62.19162344, 65.85383681, 70.90659392]])"
      ]
     },
     "execution_count": 5,
     "metadata": {},
     "output_type": "execute_result"
    }
   ],
   "source": [
    "# The covariances roughly align with the precalculated values used here\n",
    "# https://medium.com/@kushajreal/training-alexnet-with-tips-and-checks-on-how-to-train-cnns-practical-cnns-in-pytorch-1-61daa679c74a\n",
    "cov = cov_results['cov']\n",
    "cp.power(cov, 0.5)"
   ]
  },
  {
   "cell_type": "code",
   "execution_count": 6,
   "metadata": {},
   "outputs": [
    {
     "data": {
      "text/plain": [
       "array([0.28336131, 0.27028511, 0.27806507])"
      ]
     },
     "execution_count": 6,
     "metadata": {},
     "output_type": "execute_result"
    }
   ],
   "source": [
    "stdev = cp.sqrt(cov.diagonal()/255**2)\n",
    "stdev"
   ]
  },
  {
   "cell_type": "markdown",
   "metadata": {},
   "source": [
    "## I.c) Calculating PCA\n",
    "\n",
    "The principal components are just the eigenvectors of the covariance matrix! For more information see the \"Further Considerations\" section in the [PCA Wikipedia article][5]. Note that here we normalize the pixel values by dividing them by 255. Since the covariance is quadratic in the pixel values this is equivalent to dividing the covariance matrix by 255.\n",
    "\n",
    "[5]:  https://en.wikipedia.org/wiki/Principal_component_analysis#Covariances"
   ]
  },
  {
   "cell_type": "code",
   "execution_count": 7,
   "metadata": {},
   "outputs": [
    {
     "name": "stdout",
     "output_type": "stream",
     "text": [
      "The eigenvalues and eigenvectors are: \n",
      "Eigenvalue 0.004514740525446098 with eigenvector [-0.42554244  0.69241432 -0.58264573]\n",
      "Eigenvalue 0.019308944111807815 with eigenvector [ 0.81311549  0.00997301 -0.58201696]\n",
      "Eigenvalue 0.20684417754890627 with eigenvector [-0.39718615 -0.72143118 -0.56725675]\n"
     ]
    }
   ],
   "source": [
    "# Note that the eigenvectors returned are normalized\n",
    "eigenvalues, eigenvectors = cp.linalg.eigh(cov/255**2)\n",
    "\n",
    "print(\"The eigenvalues and eigenvectors are: \")\n",
    "for index in range(len(eigenvalues)):\n",
    "    print(\"Eigenvalue {} with eigenvector {}\".format(eigenvalues[index],\n",
    "                                                     eigenvectors[index]))"
   ]
  },
  {
   "cell_type": "markdown",
   "metadata": {},
   "source": [
    "We will probably want to normalize the mean and covariance tensors by dividing them by $255$ and $255^2$ respectively. That should help normalize the gradients in the training most likely. We should take a look at whether Keras does this scaling automatically for image data or not.\n",
    "\n",
    "We also need to create the Lambda layer for subtracting the mean, as well as the custom augmentation layer that adds the random PCAs and does crops/flips."
   ]
  },
  {
   "cell_type": "markdown",
   "metadata": {},
   "source": [
    "# II. Define Data Augmentations\n",
    "\n",
    "With the eigenvectors in hand we can use them along with the Albumentations library to augment our data as descriped in the paper. We use a custom subclass of the Sequence class to do the augmentations. We pass this class to the `fit_generator` method of our model class."
   ]
  },
  {
   "cell_type": "code",
   "execution_count": 8,
   "metadata": {},
   "outputs": [],
   "source": [
    "from keras.utils import Sequence"
   ]
  },
  {
   "cell_type": "code",
   "execution_count": 9,
   "metadata": {},
   "outputs": [],
   "source": [
    "class AlexNetSequence(Sequence):\n",
    "    def __init__(self, x_paths, y_labels, batch_size, \n",
    "                 images_dir, eigenvectors, eigenvalues,\n",
    "                 pixel_avg, stdev, mode):\n",
    "        \"\"\"\n",
    "        We initialize the AlexNetSequence class by\n",
    "        passing it all of the paths to the images we \n",
    "        use for training along with a matching array \n",
    "        with the class labels.\n",
    "        \n",
    "        The sequence class itself takes care of taking\n",
    "        the paths in a mini-batch and converting them\n",
    "        to the correspoding image arrays.\n",
    "        \"\"\"\n",
    "        self.x_paths, self.y_labels = x_paths, y_labels\n",
    "        self.batch_size = batch_size\n",
    "        self.images_dir = images_dir\n",
    "        self.eigenvectors = eigenvectors\n",
    "        self.eigenvalues = eigenvalues\n",
    "        self.pixel_avg = pixel_avg\n",
    "        self.stdev = stdev\n",
    "        self.mode = mode\n",
    "\n",
    "    def __len__(self):\n",
    "        \"\"\"\n",
    "        We appear to define the length of a sequence\n",
    "        to be (approximately) the number of batches in\n",
    "        said sequence. \n",
    "        \n",
    "        This is likely the case so that there is a clear\n",
    "        number of iterations defined for each epoch by\n",
    "        the Sequence itself.\n",
    "        \n",
    "        The docs say this is one of the methods that MUST\n",
    "        be implemented by any custom Sequence subclass.\n",
    "        \"\"\"\n",
    "        return int(np.ceil(len(self.x_paths) / float(self.batch_size)))\n",
    "    \n",
    "    def __getitem__(self, idx):\n",
    "        \"\"\"\n",
    "        The second method required to be implemented by\n",
    "        the Sequence interface. This is the method used to\n",
    "        generate minibatches.\n",
    "        \n",
    "        In this method we take a minibatch of image paths,\n",
    "        convert them to arrays, apply our augmentations, and\n",
    "        then return the augmented image array batch.\n",
    "        \"\"\"\n",
    "        x_batch_paths = self.x_paths[idx * self.batch_size:(idx + 1) *\n",
    "                                     self.batch_size]\n",
    "        \n",
    "        x_batch = np.stack([self.aug(cv2.imread(self.images_dir + x_path))\n",
    "                            for x_path in x_batch_paths], axis=0)\n",
    "        \n",
    "        y_batch = self.y_labels[idx * self.batch_size:(idx + 1) *\n",
    "                                self.batch_size]\n",
    "                \n",
    "        return x_batch, y_batch\n",
    "    \n",
    "    @staticmethod\n",
    "    def pad_image(image, x_pad_to=224, y_pad_to=224):\n",
    "        pad_vals = ((0,0),(0,0),(0,0))\n",
    "        width, height = image.shape[0], image.shape[1]\n",
    "        \n",
    "        pad_x, pad_y = max(x_pad_to - width, 0), max(y_pad_to - height, 0)\n",
    "        pad_x_upper, pad_x_lower = int(math.ceil(pad_x/2)), int(math.floor(pad_x/2))\n",
    "        pad_y_upper, pad_y_lower = int(math.ceil(pad_y/2)),   int(math.floor(pad_y/2))\n",
    "        \n",
    "        assert pad_x_upper + pad_x_lower == pad_x, \"Error with horizontal padding\"\n",
    "        assert pad_y_upper + pad_y_lower == pad_y, \"Error with vertical padding\"\n",
    "        \n",
    "        pad_dims = ((pad_x_upper, pad_x_lower),(pad_y_upper, pad_y_lower),(0,0))\n",
    "        \n",
    "        return np.pad(image, pad_dims, 'constant', constant_values=pad_vals)\n",
    "    \n",
    "    @staticmethod    \n",
    "    def train_augment(image, eigenvectors, eigenvalues, pixel_avg, stdev):\n",
    "        \"\"\"\n",
    "        Takes an image from the training set, applies a random\n",
    "        224 x 224 crop and a horizontal flip with 50% probability.\n",
    "        Additionally it sums a random linear combination of the \n",
    "        eigenvectors of all the pixels in the training set to all\n",
    "        of the pixels in the training image. We also normalize the \n",
    "        pixel values.\n",
    "        \n",
    "        Since we are not generating all of the possible transformation\n",
    "        combinations (but only randomly returning a single one), do \n",
    "        we need more epochs or do we sample more times each epoch?\n",
    "        \"\"\"\n",
    "        \n",
    "        width, height = image.shape[0], image.shape[1]\n",
    "        \n",
    "        crop_width = min(224, width)\n",
    "        crop_height = min(224, height)\n",
    "        \n",
    "        augmenter = albumentations.Compose([\n",
    "                                    albumentations.RandomCrop(crop_width, crop_height),\n",
    "                                    albumentations.HorizontalFlip()\n",
    "                                ])\n",
    "        alphas = np.random.normal(scale=0.1, size=3)\n",
    "        shift = np.zeros(3)\n",
    "        \n",
    "        for i in range(3):\n",
    "            shift += alphas[i] * eigenvalues[i] * eigenvectors[i]\n",
    "            \n",
    "        output_image = ((augmenter(image=image)[\"image\"]-pixel_avg)/255)/stdev + shift\n",
    "                \n",
    "        return AlexNetSequence.pad_image(output_image)\n",
    "    \n",
    "    @staticmethod\n",
    "    def validate_augment(image, pixel_avg, stdev):\n",
    "        \"\"\"\n",
    "        Simply normalize image values and do a crop.\n",
    "        \"\"\"\n",
    "        width, height = image.shape[0], image.shape[1]\n",
    "        \n",
    "        crop_width = min(224, width)\n",
    "        crop_height = min(224, height)\n",
    "        \n",
    "        augmenter = albumentations.Compose([\n",
    "                                    albumentations.CenterCrop(crop_width, crop_height)])\n",
    "        \n",
    "        output_image = ((augmenter(image=image)[\"image\"]-pixel_avg)/255)/stdev\n",
    "        \n",
    "        return AlexNetSequence.pad_image(output_image)\n",
    "    \n",
    "    def aug(self, image):\n",
    "        \"\"\"\n",
    "        A succinct method for convenience. The static one\n",
    "        is useful for playing around with data in the notebook.\n",
    "        \n",
    "        Since our goal is not to try out different augmentations\n",
    "        but just to reproduce those in paper, we have hardcoded\n",
    "        our augmentation choices into this class. We could parametrize\n",
    "        them in the constructor instead to accomplish the former\n",
    "        goal.\n",
    "        \"\"\"\n",
    "        if self.mode == \"train\":\n",
    "            return AlexNetSequence.train_augment(image,\n",
    "                                                 self.eigenvectors,\n",
    "                                                 self.eigenvalues,\n",
    "                                                 self.pixel_avg,\n",
    "                                                 self.stdev)\n",
    "        elif self.mode == \"validate\":\n",
    "            return AlexNetSequence.validate_augment(image,\n",
    "                                                    self.pixel_avg,\n",
    "                                                    self.stdev)\n",
    "        \n",
    "        else:\n",
    "            raise ValueError(\"The `mode` parameter passed to the \"\n",
    "                             \"constructor must be one of [`train`, `validate`]\")"
   ]
  },
  {
   "cell_type": "markdown",
   "metadata": {},
   "source": [
    "# III. Model Definition"
   ]
  },
  {
   "cell_type": "code",
   "execution_count": 10,
   "metadata": {
    "scrolled": true
   },
   "outputs": [
    {
     "data": {
      "text/plain": [
       "['Activation',\n",
       " 'ActivityRegularization',\n",
       " 'Add',\n",
       " 'AlphaDropout',\n",
       " 'AtrousConvolution1D',\n",
       " 'AtrousConvolution2D',\n",
       " 'Average',\n",
       " 'AveragePooling1D',\n",
       " 'AveragePooling2D',\n",
       " 'AveragePooling3D',\n",
       " 'AvgPool1D',\n",
       " 'AvgPool2D',\n",
       " 'AvgPool3D',\n",
       " 'BatchNormalization',\n",
       " 'Bidirectional',\n",
       " 'Concatenate',\n",
       " 'Conv1D',\n",
       " 'Conv2D',\n",
       " 'Conv2DTranspose',\n",
       " 'Conv3D',\n",
       " 'Conv3DTranspose',\n",
       " 'ConvLSTM2D',\n",
       " 'ConvLSTM2DCell',\n",
       " 'ConvRecurrent2D',\n",
       " 'Convolution1D',\n",
       " 'Convolution2D',\n",
       " 'Convolution3D',\n",
       " 'Cropping1D',\n",
       " 'Cropping2D',\n",
       " 'Cropping3D',\n",
       " 'CuDNNGRU',\n",
       " 'CuDNNLSTM',\n",
       " 'Deconvolution2D',\n",
       " 'Deconvolution3D',\n",
       " 'Dense',\n",
       " 'DepthwiseConv2D',\n",
       " 'Dot',\n",
       " 'Dropout',\n",
       " 'ELU',\n",
       " 'Embedding',\n",
       " 'Flatten',\n",
       " 'GRU',\n",
       " 'GRUCell',\n",
       " 'GaussianDropout',\n",
       " 'GaussianNoise',\n",
       " 'GlobalAveragePooling1D',\n",
       " 'GlobalAveragePooling2D',\n",
       " 'GlobalAveragePooling3D',\n",
       " 'GlobalAvgPool1D',\n",
       " 'GlobalAvgPool2D',\n",
       " 'GlobalAvgPool3D',\n",
       " 'GlobalMaxPool1D',\n",
       " 'GlobalMaxPool2D',\n",
       " 'GlobalMaxPool3D',\n",
       " 'GlobalMaxPooling1D',\n",
       " 'GlobalMaxPooling2D',\n",
       " 'GlobalMaxPooling3D',\n",
       " 'Highway',\n",
       " 'Input',\n",
       " 'InputLayer',\n",
       " 'InputSpec',\n",
       " 'LSTM',\n",
       " 'LSTMCell',\n",
       " 'Lambda',\n",
       " 'Layer',\n",
       " 'LeakyReLU',\n",
       " 'LocallyConnected1D',\n",
       " 'LocallyConnected2D',\n",
       " 'Masking',\n",
       " 'MaxPool1D',\n",
       " 'MaxPool2D',\n",
       " 'MaxPool3D',\n",
       " 'MaxPooling1D',\n",
       " 'MaxPooling2D',\n",
       " 'MaxPooling3D',\n",
       " 'Maximum',\n",
       " 'MaxoutDense',\n",
       " 'Minimum',\n",
       " 'Multiply',\n",
       " 'PReLU',\n",
       " 'Permute',\n",
       " 'RNN',\n",
       " 'ReLU',\n",
       " 'Recurrent',\n",
       " 'RepeatVector',\n",
       " 'Reshape',\n",
       " 'SeparableConv1D',\n",
       " 'SeparableConv2D',\n",
       " 'SimpleRNN',\n",
       " 'SimpleRNNCell',\n",
       " 'Softmax',\n",
       " 'SpatialDropout1D',\n",
       " 'SpatialDropout2D',\n",
       " 'SpatialDropout3D',\n",
       " 'StackedRNNCells',\n",
       " 'Subtract',\n",
       " 'ThresholdedReLU',\n",
       " 'TimeDistributed',\n",
       " 'UpSampling1D',\n",
       " 'UpSampling2D',\n",
       " 'UpSampling3D',\n",
       " 'ZeroPadding1D',\n",
       " 'ZeroPadding2D',\n",
       " 'ZeroPadding3D',\n",
       " '__builtins__',\n",
       " '__cached__',\n",
       " '__doc__',\n",
       " '__file__',\n",
       " '__loader__',\n",
       " '__name__',\n",
       " '__package__',\n",
       " '__path__',\n",
       " '__spec__',\n",
       " 'absolute_import',\n",
       " 'add',\n",
       " 'advanced_activations',\n",
       " 'average',\n",
       " 'concatenate',\n",
       " 'convolutional',\n",
       " 'convolutional_recurrent',\n",
       " 'core',\n",
       " 'cudnn_recurrent',\n",
       " 'deserialize',\n",
       " 'deserialize_keras_object',\n",
       " 'dot',\n",
       " 'embeddings',\n",
       " 'local',\n",
       " 'maximum',\n",
       " 'merge',\n",
       " 'minimum',\n",
       " 'multiply',\n",
       " 'noise',\n",
       " 'normalization',\n",
       " 'pooling',\n",
       " 'recurrent',\n",
       " 'serialize',\n",
       " 'subtract',\n",
       " 'wrappers']"
      ]
     },
     "execution_count": 10,
     "metadata": {},
     "output_type": "execute_result"
    }
   ],
   "source": [
    "import keras\n",
    "dir(keras.layers)"
   ]
  },
  {
   "cell_type": "code",
   "execution_count": 11,
   "metadata": {},
   "outputs": [],
   "source": [
    "def lrn_parametric(tensor, k, n, alpha, beta):\n",
    "    \"\"\"\n",
    "    Check that parameters make sense (note n/2 describes \n",
    "    the number of adjacent layers on each side to normalize by)\n",
    "    \"\"\"\n",
    "    assert n >= 1 # n < 0 doesn't make sense, n = 0 (when k = 0) makes the layer output constant\n",
    "    assert k > 0  # If k = 0 we can get div by zero errors or numeric instability \n",
    "    assert alpha > 0 # alpha = 0 is equivalent to reducing the layer to scalar division\n",
    "    assert beta > 0 # beta = 0 is equivalent to removing this layer\n",
    "    \n",
    "    tf_session = K.get_session()\n",
    "    \n",
    "    \"\"\"\n",
    "    First dimension is batches, second and third are spatial, \n",
    "    fourth should be layers\n",
    "    \"\"\"\n",
    "    shape = tensor.get_shape().as_list()\n",
    "    assert len(shape) == 4 # Make sure shape is (batch, x, y, map)\n",
    "    N = shape[3]\n",
    "    \n",
    "    \"\"\"\n",
    "    For layer i only the layers i +/- int_step fall within \n",
    "    the range defined by the sum formula in the paper\n",
    "    \"\"\"\n",
    "    int_step = n/2 - (n/2 % 1)\n",
    "    \n",
    "    \"\"\"\n",
    "    These tensors correspond to i, the sum lower bounds, \n",
    "    and upper bounds respectively\n",
    "    \"\"\"\n",
    "    i = np.arange(N)\n",
    "    j_lower = np.maximum(0, i - int_step).reshape(-1,1)\n",
    "    j_upper = np.minimum(N - 1, i + int_step).reshape(-1,1)\n",
    "    \n",
    "    \"\"\"\n",
    "    Create a tensor Mij such that Mij = 1 if j_lower(i) <= j <= j_upper(i) and is 0 otherwise\n",
    "    If a_{xy}^j is the convolution output then M_{ij}a_{xy}^j gives the \n",
    "    lrn normalization coefficient\n",
    "    \"\"\"\n",
    "    mask_ij = np.repeat(np.arange(N).reshape(1,-1), N, axis=0)\n",
    "    mask_ij = np.logical_and(mask_ij >= j_lower, mask_ij <= j_upper).astype(int)\n",
    "    mask_ij = K.variable(mask_ij)\n",
    "    \n",
    "    \"\"\"\n",
    "    Calculate the  norm tensor, denominator, and finally \n",
    "    output tensor of LRN. Note that even because K is a Keras \n",
    "    wrapper around Tensorflow, we can use tf methods on tensors \n",
    "    created with K. This is because K generated objects are \n",
    "    really tf objects\n",
    "    \"\"\"\n",
    "    lrn_norm = tf.einsum('bxyj,ij->bxyi', K.pow(tensor,2), mask_ij)\n",
    "    denom = K.pow(k + alpha * lrn_norm, beta)\n",
    "    lrn_output = tensor/denom\n",
    "    \n",
    "    return lrn_output\n",
    "    \n",
    "def lrn_shape(input_shape):\n",
    "    return input_shape"
   ]
  },
  {
   "cell_type": "code",
   "execution_count": 12,
   "metadata": {},
   "outputs": [],
   "source": [
    "k, n, alpha, beta = 2, 5, 10**(-4), 0.75\n",
    "lrn = lambda tensor: lrn_parametric(tensor, k, n, alpha, beta)"
   ]
  },
  {
   "cell_type": "markdown",
   "metadata": {},
   "source": [
    "Following what was done in the paper we initialize all of the weights in our Alexnet with a random Gaussian with mean zero and standard deviation $0.01$. The biases for the 2nd, 4th, 5th, and fully connected layers are set to $1$, and the biases for the 1st and 3rd layer to $0$. Here we refer to the weights and biases of the convolutional layers only. Doing this accelerates training according to the authors, since it gives the ReLu activations a non-zero starting value. This [github post][6] shows how to set non-default initialization values.\n",
    "\n",
    "We also apply weight decay in the layers. Keras takes weight decay at the layer level so we apply the same decay to each layer. We are not sure whether the decay should apply only to the weights or also to the biases. We apply them to both. This [github post][8] explains how weight decay leads to the gradient term described in the paper.\n",
    "\n",
    "[6]: https://datascience.stackexchange.com/questions/19019/custom-weight-initialization-in-keras\n",
    "[8]: https://stats.stackexchange.com/questions/29130/difference-between-neural-net-weight-decay-and-learning-rate"
   ]
  },
  {
   "cell_type": "code",
   "execution_count": 13,
   "metadata": {
    "scrolled": true
   },
   "outputs": [
    {
     "name": "stderr",
     "output_type": "stream",
     "text": [
      "WARNING: Logging before flag parsing goes to stderr.\n",
      "W0228 22:26:06.489115 140624815589184 deprecation_wrapper.py:119] From /home/daniel/anaconda3/lib/python3.7/site-packages/keras/backend/tensorflow_backend.py:4070: The name tf.nn.max_pool is deprecated. Please use tf.nn.max_pool2d instead.\n",
      "\n"
     ]
    }
   ],
   "source": [
    "alexnet = mod.Sequential(\n",
    " [# We input 224 x 224 pixel images with 3 channels (rgb)\n",
    "  # We create 96 feature maps, by using an 11x11 pixel kernel with stride 4\n",
    "  lyr.Conv2D(96, 11, strides=4, padding='same', \n",
    "             input_shape=(224, 224, 3,), activation='relu',\n",
    "             kernel_initializer=init.TruncatedNormal(stddev=0.00), #current: init.he_uniform()\n",
    "             bias_initializer=init.Zeros(),\n",
    "             kernel_regularizer=reg.l2(0.0005),\n",
    "             bias_regularizer=reg.l2(0.005)),\n",
    "  # The lambdas here are the local response normalization\n",
    "  lyr.Lambda(lrn, output_shape=lrn_shape),\n",
    "  lyr.MaxPool2D(3,2),\n",
    "  lyr.Conv2D(256, 5, strides=1, padding='same', activation='relu',\n",
    "             kernel_initializer=init.TruncatedNormal(stddev=0.00), #current: init.he_uniform()\n",
    "             bias_initializer=init.Ones(),\n",
    "             kernel_regularizer=reg.l2(0.0005),\n",
    "             bias_regularizer=reg.l2(0.005)),\n",
    "  lyr.Lambda(lrn, output_shape=lrn_shape),\n",
    "  lyr.MaxPool2D(3,2),\n",
    "  lyr.Conv2D(384, 3, strides=1, padding='same', activation='relu',\n",
    "             kernel_initializer=init.TruncatedNormal(stddev=0.00), #current: init.he_uniform()\n",
    "             bias_initializer=init.Zeros(),\n",
    "             kernel_regularizer=reg.l2(0.0005),\n",
    "             bias_regularizer=reg.l2(0.005)),\n",
    "  lyr.Conv2D(384, 3, strides=1, padding='same', activation='relu',\n",
    "             kernel_initializer=init.TruncatedNormal(stddev=0.00), #current: init.he_uniform()\n",
    "             bias_initializer=init.Ones(),\n",
    "             kernel_regularizer=reg.l2(0.0005),\n",
    "             bias_regularizer=reg.l2(0.005)),\n",
    "  lyr.Conv2D(256, 3, strides=1, padding='same', activation='relu',\n",
    "             kernel_initializer=init.TruncatedNormal(stddev=0.00), #current: init.he_uniform()\n",
    "             bias_initializer=init.Ones(),\n",
    "             kernel_regularizer=reg.l2(0.0005),\n",
    "             bias_regularizer=reg.l2(0.005)),\n",
    "  # Note from the diagram there is one last pool op after the last conv\n",
    "  lyr.MaxPool2D(3,2),\n",
    "  lyr.Flatten(),\n",
    "  lyr.Dense(4096, activation='relu',\n",
    "            kernel_initializer=init.TruncatedNormal(stddev=0.00), #current: init.he_uniform()\n",
    "            bias_initializer=init.Ones(),\n",
    "            kernel_regularizer=reg.l2(0.0005),\n",
    "            bias_regularizer=reg.l2(0.005)),\n",
    "  # The paper says the first two dense layers are regularized with dropout\n",
    "  lyr.Dropout(0.5),\n",
    "  lyr.Dense(4096, activation='relu',\n",
    "            kernel_initializer=init.TruncatedNormal(stddev=0.00), #current: init.he_uniform()\n",
    "            bias_initializer=init.Ones(),\n",
    "            kernel_regularizer=reg.l2(0.0005),\n",
    "            bias_regularizer=reg.l2(0.005)),\n",
    "  lyr.Dropout(0.5),\n",
    "  lyr.Dense(1000, # DEBUG - Can change to smaller number of classes for debugging\n",
    "            activation='softmax',\n",
    "            kernel_initializer=init.TruncatedNormal(stddev=0.00), #current: init.he_uniform()\n",
    "            bias_initializer=init.Ones(),\n",
    "            kernel_regularizer=reg.l2(0.0005),\n",
    "            bias_regularizer=reg.l2(0.005))\n",
    " ]\n",
    ")\n"
   ]
  },
  {
   "cell_type": "code",
   "execution_count": 14,
   "metadata": {},
   "outputs": [
    {
     "name": "stdout",
     "output_type": "stream",
     "text": [
      "Model: \"sequential_1\"\n",
      "_________________________________________________________________\n",
      "Layer (type)                 Output Shape              Param #   \n",
      "=================================================================\n",
      "conv2d_1 (Conv2D)            (None, 56, 56, 96)        34944     \n",
      "_________________________________________________________________\n",
      "lambda_1 (Lambda)            (None, 56, 56, 96)        0         \n",
      "_________________________________________________________________\n",
      "max_pooling2d_1 (MaxPooling2 (None, 27, 27, 96)        0         \n",
      "_________________________________________________________________\n",
      "conv2d_2 (Conv2D)            (None, 27, 27, 256)       614656    \n",
      "_________________________________________________________________\n",
      "lambda_2 (Lambda)            (None, 27, 27, 256)       0         \n",
      "_________________________________________________________________\n",
      "max_pooling2d_2 (MaxPooling2 (None, 13, 13, 256)       0         \n",
      "_________________________________________________________________\n",
      "conv2d_3 (Conv2D)            (None, 13, 13, 384)       885120    \n",
      "_________________________________________________________________\n",
      "conv2d_4 (Conv2D)            (None, 13, 13, 384)       1327488   \n",
      "_________________________________________________________________\n",
      "conv2d_5 (Conv2D)            (None, 13, 13, 256)       884992    \n",
      "_________________________________________________________________\n",
      "max_pooling2d_3 (MaxPooling2 (None, 6, 6, 256)         0         \n",
      "_________________________________________________________________\n",
      "flatten_1 (Flatten)          (None, 9216)              0         \n",
      "_________________________________________________________________\n",
      "dense_1 (Dense)              (None, 4096)              37752832  \n",
      "_________________________________________________________________\n",
      "dropout_1 (Dropout)          (None, 4096)              0         \n",
      "_________________________________________________________________\n",
      "dense_2 (Dense)              (None, 4096)              16781312  \n",
      "_________________________________________________________________\n",
      "dropout_2 (Dropout)          (None, 4096)              0         \n",
      "_________________________________________________________________\n",
      "dense_3 (Dense)              (None, 1000)              4097000   \n",
      "=================================================================\n",
      "Total params: 62,378,344\n",
      "Trainable params: 62,378,344\n",
      "Non-trainable params: 0\n",
      "_________________________________________________________________\n"
     ]
    }
   ],
   "source": [
    "alexnet.summary()"
   ]
  },
  {
   "cell_type": "markdown",
   "metadata": {},
   "source": [
    "# IV. Training\n",
    "\n",
    "We implement the training using Stochastic Gradient Descent with a batch size of $128$, momentum of $0.9$, and an initial learning rate of $0.01$ as specified in the paper. We use categorical crossentropy as our loss function, which is the standard for classification and what other examples on the web have used to train Alexnet. Our performance metric is the top 1 and top 5 error, which is what was used in the paper. \n",
    "\n",
    "We do not used [Nesterov Momentum][7] in our model as it was not used in the paper. Nesterov momentum is a type of \"lookahead\" momentum that calculates the gradient at a point ahead in the direction of the momentum.  This way if the momentum will cause the descent step update to overshoot the minimum, the look ahead gradient will partially cancel out the effect of the momentum. We use a [shell script][9] to calculate the number of training files and hence the number of minibatches.\n",
    "\n",
    "We implement the learning rate heuristic by using Keras [callbacks][10]. Callbacks are functions that get called during training and get applied during the training procedure. They can be used for logging epochs, controlling the learning rate schedule, etc. In our case we will use them to:\n",
    "\n",
    "+ Implement our learning rate heuristic, which has a built in class in Keras.\n",
    "+ Checkpoint the model as we train it, so we don't loss progress upon failure. This is a best practice.\n",
    "+ Log to the Tensorboard, so we can play around with it and visualize our training metrics!\n",
    "\n",
    "[7]: https://dominikschmidt.xyz/nesterov-momentum/\n",
    "[9]: https://www.shellhacks.com/count-number-files-directory/\n",
    "[10]: https://keras.io/callbacks/"
   ]
  },
  {
   "cell_type": "code",
   "execution_count": 15,
   "metadata": {},
   "outputs": [],
   "source": [
    "run_options = tf.RunOptions(trace_level=tf.RunOptions.FULL_TRACE)\n",
    "run_metadata= tf.RunMetadata()"
   ]
  },
  {
   "cell_type": "code",
   "execution_count": 16,
   "metadata": {},
   "outputs": [],
   "source": [
    "\"\"\"\n",
    "Using zero built in decay and relying exclusively on the heuristic\n",
    "used in the original paper.\n",
    "\"\"\"\n",
    "optimizer = opt.Adam() \n",
    "# This line below would match the paper exactly but was MUCH slower than using Adam on 2 class example\n",
    "# opt.SGD(learning_rate=0.01, momentum=0.9, decay=0.0) # Note decay refers to learning rate\n",
    "\n",
    "top_1_acc = met.categorical_accuracy\n",
    "\n",
    "def top_5_acc(y_true, y_pred):\n",
    "    return  met.top_k_categorical_accuracy(y_true, y_pred, k=5)\n",
    "\n",
    "alexnet.compile(optimizer=optimizer,\n",
    "                loss=\"categorical_crossentropy\",\n",
    "                metrics=[top_1_acc, top_5_acc],\n",
    "                options=run_options,\n",
    "                run_metadata=run_metadata)"
   ]
  },
  {
   "cell_type": "code",
   "execution_count": 17,
   "metadata": {},
   "outputs": [],
   "source": [
    "# Count training images recursively in shell\n",
    "num_images = !find ~/AnacondaProjects/AlexNet/datasets/ILSVRC2012/Training -type f -name \"*.JPEG\" | wc -l\n",
    "num_img_int = int(num_images[0])"
   ]
  },
  {
   "cell_type": "code",
   "execution_count": 18,
   "metadata": {},
   "outputs": [],
   "source": [
    "# Count training images recursively in shell\n",
    "num_images_val = !find ~/AnacondaProjects/AlexNet/datasets/ILSVRC2012/Validation -type f -name \"*.JPEG\" | wc -l\n",
    "num_img_val_int = int(num_images_val[0])"
   ]
  },
  {
   "cell_type": "code",
   "execution_count": 19,
   "metadata": {},
   "outputs": [],
   "source": [
    "with open('datasets/ILSVRC2012/sysnet_words.txt', 'r') as file:\n",
    "    words = file.readlines()\n",
    "    \n",
    "codes = [re.match('n[0-9]*', word).group() for word in words]\n",
    "labels = [word.replace(code, '').strip() for word, code in zip(words, codes)]\n",
    "code_label_map = dict(zip(codes, labels))\n",
    "index_code_map = dict(enumerate(codes))\n",
    "code_index_map = {code: index for index, code in index_code_map.items()}"
   ]
  },
  {
   "cell_type": "markdown",
   "metadata": {},
   "source": [
    "Some nice explanations of the importance of shuffling mini-batches can be found in each of these references ([1][16],[2][17],[3][18]). The tl;dr is that if the mini-batch contents are too correlated then they don't provide a good estimator for the gradient. This eliminates the theoretical guarantees of SGD methods. Furthermore, empirical evidence shows that changing the order of mini-batches is also important in helping convergece. We do both below, one through an initial shuffling of the data and another by setting \"shuffling\" to True in the fit_generator method. \n",
    "\n",
    "[16]: https://stackoverflow.com/questions/40816721/should-i-shuffle-the-data-to-train-a-neural-network-using-backpropagation\n",
    "[17]: https://datascience.stackexchange.com/questions/24511/why-should-the-data-be-shuffled-for-machine-learning-tasks\n",
    "[18]: https://stats.stackexchange.com/questions/245502/shuffling-data-in-the-mini-batch-training-of-neural-network"
   ]
  },
  {
   "cell_type": "code",
   "execution_count": 20,
   "metadata": {},
   "outputs": [],
   "source": [
    "# Get list of training and validation examples and labels\n",
    "training_dir = \"datasets/ILSVRC2012/Training/\"\n",
    "validation_dir = \"datasets/ILSVRC2012/Validation/\"\n",
    "num_classes = len(code_index_map) # DEBUG Can fix to smaller number of classes for debugging\n",
    "\n",
    "def get_paths_and_classes(root_dir, code_index_map=code_index_map):\n",
    "    classes = []\n",
    "    example_paths = []\n",
    "    \n",
    "\n",
    "    class_dirs = [class_dir for class_dir in os.listdir(root_dir)\n",
    "                  if class_dir[-4:] != \".tar\"] # DEBUG: [:n] takes first n classes for debugging\n",
    "\n",
    "    for num, class_dir in enumerate(class_dirs):\n",
    "        \n",
    "        t_dir_start = time.time()\n",
    "\n",
    "        full_class_path = root_dir + class_dir + '/'\n",
    "        class_images = [class_dir + '/' + image for image in os.listdir(full_class_path)\n",
    "                        if image[-5:] == \".JPEG\"]\n",
    "    \n",
    "        example_paths.extend(class_images)\n",
    "        class_index_list = [code_index_map[class_dir]]  # DEBUG: Can set equal to [num] for debugging smaller # classes\n",
    "        classes.extend(len(class_images)*class_index_list)\n",
    "        \n",
    "        assert len(example_paths) == len(classes), \"Number of labels must match number of examples\"\n",
    "        \n",
    "    # https://stackoverflow.com/questions/38592324/one-hot-encoding-using-numpy\n",
    "    classes_array = np.array([classes]).reshape(-1)\n",
    "    one_hot_classes = np.eye(num_classes)[classes_array]\n",
    "        \n",
    "    return example_paths, one_hot_classes\n",
    "\n",
    "x_paths_train, y_labels_train = get_paths_and_classes(training_dir)\n",
    "x_paths_val, y_labels_val = get_paths_and_classes(validation_dir)\n",
    "\n",
    "train_indices = np.random.choice(np.arange(len(x_paths_train)), size=len(x_paths_train), replace=False)\n",
    "val_indices = np.random.choice(np.arange(len(x_paths_val)), size=len(x_paths_val), replace=False)\n",
    "\n",
    "# Shuffle parameter in fit generator only shuffles minibatch order. Without shuffling ahead\n",
    "# of time mini-batches will tend to be extremely correlated (i.e. same class) which will make\n",
    "# our gradient estimate biased. \n",
    "x_paths_train, y_labels_train = np.array(x_paths_train)[train_indices].tolist(), y_labels_train[train_indices]\n",
    "x_paths_val, y_labels_val =  np.array(x_paths_val)[val_indices].tolist(), y_labels_val[val_indices]"
   ]
  },
  {
   "cell_type": "code",
   "execution_count": 21,
   "metadata": {},
   "outputs": [],
   "source": [
    "# We checked that we could overfit 1-10 minibatches by indexing [:k*128]\n",
    "# in the x paths and y labels in the generators below! It worked :D\n",
    "\n",
    "# scheduler = call.ReduceLROnPlateau() # Not needed when Adam used\n",
    "tensorboard = call.TensorBoard(log_dir='alexnet/logs',\n",
    "                               batch_size=128,\n",
    "                               write_grads=True,\n",
    "                               write_images=True)\n",
    "checkpointer= call.ModelCheckpoint('alexnet/checkpoints/weights.{epoch:02d}-{val_loss:.2f}.hdf5',\n",
    "                                   verbose=1)\n",
    "tqdm = TQDMNotebookCallback()\n",
    "\n",
    "# Added to address OOM Error\n",
    "# See: https://github.com/keras-team/keras/issues/3675\n",
    "garbage_collection = call.LambdaCallback(on_epoch_end=lambda epoch, logs: gc.collect())\n",
    "\n",
    "train_gen = AlexNetSequence(x_paths_train, #x_paths\n",
    "                            y_labels_train, #y_labels\n",
    "                            128,\n",
    "                            '/home/daniel/AnacondaProjects/AlexNet/datasets/ILSVRC2012/Training/',\n",
    "                            np.array(eigenvectors.tolist()),\n",
    "                            np.array(eigenvalues.tolist()),\n",
    "                            np.array(pixel_avg.tolist()),\n",
    "                            np.array(stdev.tolist()),\n",
    "                            'train')\n",
    "val_gen = AlexNetSequence(x_paths_val,\n",
    "                          y_labels_val,\n",
    "                          128,\n",
    "                          '/home/daniel/AnacondaProjects/AlexNet/datasets/ILSVRC2012/Validation/',\n",
    "                          np.array(eigenvectors.tolist()),\n",
    "                          np.array(eigenvalues.tolist()),\n",
    "                          np.array(pixel_avg.tolist()),\n",
    "                          np.array(stdev.tolist()),\n",
    "                          'validate')"
   ]
  },
  {
   "cell_type": "markdown",
   "metadata": {},
   "source": [
    "### Notes on epoch slowness\n",
    "\n",
    "It takes about 45 minutes for a single epoch of training to complete. We wanted to find benchmarks online to check whether this is a reasonable time.\n",
    "\n",
    "+ 163 minutes per epoch according to [one source][11], although this did not factor data augmentation. The latter would multiply the time per epoch by 2048.\n",
    "\n",
    "\n",
    "+ 86 minutes per epoch on a Titan Black GPU according to [another source][12]. This post was from 2016 so we would expect our newer GPU to perform better (though we're not sure exactly by how much).\n",
    "\n",
    "\n",
    "+ 7 minutes per epoch according to the image per second rate quoted in [this benchmark][13] for FP32, using our exact same GPU (GE Force RTX 2080 Ti). We re-ran the benchmark in our computer (see Appendix A) with a batch size of 1,024 and found that we could be going even faster, at 5 minutes per epoch!! Using a batch size of 2,048 led to memory errors surprisingly.\n",
    "\n",
    "\n",
    "+ With FP16 the same benchmark predicts an epoch time of 4.2 minutes. We attained basically this performance, using both batch sizes of 1,024 and 2,048. We were able to fit the latter size of image batches with FP16, which makes sense since FP16 should take half the memory of FP32.\n",
    "\n",
    "We thus conclude that our implementation of this neural network is likely underoptimized. Likely culprits in order of likelihood are:\n",
    "\n",
    "+ The custom LRN lambda layer we implemented. In practice for modern NNs this layer isn't used. However we implemented it to match exactly the original implementation of AlexNet as closely as possible. \n",
    "    + **We commented these out and the running time per image was still 45 minutes... It must not be this then.** \n",
    "    \n",
    "    \n",
    "+ The albumentations based sequence class. Given the popularity of this library we would be surprised if it were causing significant latency. However since it is not part of the TF or Keras core no guarantees come with it. \n",
    "    + **It's not the augmentation. We commented them out and replaced them with returning zeros Numpy arrays (which should be easy to propagate) and it only reduced epoch time by about 10%.**\n",
    "    \n",
    "    \n",
    "+ The IO of reading images in may be a a bottleneck. \n",
    "    + **It is, eliminating this along with augmentation reduced the running time from 40 minutes per epoch to 20 minutes, so about 50% reduction from the non-augmentation best case and even more from the original.** \n",
    "    + **Additionally removing the lambda layers gets the time per epoch down to 15-17 minutes. Closer, but not quite the 5 minutes implied by the Alexnet benchmark.**\n",
    "    + **Finally, increasing the minibatch size to 1024 takes the time down to a solid 13-14 minutes per epoch. This was the last major discrepancy. We attribute any remaining performance gap to optimizations in the deserialization and architecture of the AlexNet copy used in the performance test.**\n",
    "    \n",
    "Some other interesting but less useful benchmarks can be found [here][14] and [here][15]. We note we achieved the same slow images per second rate (~500) even when only using 2 classes. This makes us think the problem is not a memory one, since at a glance we think that number of images could fit in memory. We have to double check this though.\n",
    "\n",
    "[11]: https://www.reddit.com/r/MLQuestions/comments/ahu204/how_long_does_it_take_to_run_an_epoch_of_alexnet/\n",
    "[12]: https://github.com/vlfeat/matconvnet/issues/706\n",
    "[13]: https://blog.exxactcorp.com/nvidia-rtx-2080-ti-deep-learning-benchmarks-for-tensorflow-updated-with-xla-fp16/\n",
    "[14]: https://blog.exxactcorp.com/whats-the-best-gpu-for-deep-learning-rtx-2080-ti-vs-titan-rtx-vs-rtx-8000-vs-rtx-6000/\n",
    "[15]: https://lambdalabs.com/blog/2080-ti-deep-learning-benchmarks/"
   ]
  },
  {
   "cell_type": "markdown",
   "metadata": {},
   "source": [
    "### Notes on Trouble Fitting Two Classes (SGD Loss Plateau)\n",
    "\n",
    "We noticed that in training AlexNet for a handful of epochs even with just two classes we didn't see the accuracy really improve beyond 50%. We followed [Josh Tobin's guide][19] on debugging networks and checked possible problems that could be causing the training to plateau. In the order we suspected them:\n",
    "\n",
    "+ **Data or labels corrupted**: We checked the data to see if the labels matched the images. We did this by:\n",
    "    + Checking the shuffled image-label pairs matched the unshuffled image label pairs. They did, so we knew the shuffling worked.\n",
    "    + Checked the raw images manually to make sure the preprocessing or download didn't have any silent errors. They did not, the iamges at a glance looked fine.\n",
    "    + Checked the image mini-batch preprocessing. We manually preprocessed a handful of images and visually inspected the augmented output. The output was as expected. This was our last data corruption concern.\n",
    "    \n",
    "    \n",
    "+ **Incorrect input to the loss function**: We checked that we correctly used cross-entropy loss and that we used an output softmax. We cross-referenced other implementations online and found ours to agree with them.\n",
    "\n",
    "\n",
    "+ **Too much regularization**: As a initial stab at this we removed the LRN layers to remove any potential custom layer bugs and over-normalization. Removing them did not address the issue. We did not suspect weight decay to be a problem so we didn't check removing it.\n",
    "\n",
    "\n",
    "+ **Gradients not flowing through the whole model**: We honestly did not suspect this, simply out of trusting the original paper. However, **this was the problem**. Out of instinct we decided to play with the optimizer, noticed many other implementations used Adam, and tried Adam ourselves. Adam was able to attain 80% accuracy on 2 classes in about 20 epochs! In 200 it had reached 99% accuracy on the training set as desired (95% on validation). We went back to SGD and found that if we ran 200 epochs (which we hadn't done before) it did in fact reach about 89% accuracy on the training set (95% on validation), but only across 80% accuracy after about 160 epochs. With Nesterov momentum it took 90-100 epochs to reach 80%. Adam has consistently performed better -- we understand now that because of its auto-adaptive rate Adam performs better with deep networks having small gradients. This is the case with vision problems generally and hence **Adam is the recommended optimizer, which we are using now instead. Since Adam adapts we're also removing the learning schedule from the original AlexNet implementation.** The fact that SGD + Momentum + Nesterov & Adam perform well agrees with this [implentation's author][21].\n",
    "\n",
    "\n",
    "+ **Learning rate too small**: We tried increasing the initial learning rate of SGD to 0.1 from 0.01 but then the loss became NaN. We opted to use Adam instead then.\n",
    "\n",
    "[Here][20] is a fun article describing the different optimization techniques with demos! As a last note, we'll remark that in following the debugging recommendations of the aforementioned author, we tried fitting our model to a single mini-batch. However, we did so without shuffling the data, which meant the accuracy was trivially 1 because there was only one class to predict. Thus, it is important -- even if and especially when debugging -- to shuffle the data, otherwise debugging results can be very misleading. If testing NNs by fitting mini-batches, we should make sure to look at the loss rather than the accuracy.\n",
    "\n",
    "[19]: http://josh-tobin.com/assets/pdf/troubleshooting-deep-neural-networks-01-19.pdf\n",
    "[20]: https://ruder.io/optimizing-gradient-descent/index.html#adam\n",
    "[21]: https://medium.com/@kushajreal/training-alexnet-with-tips-and-checks-on-how-to-train-cnns-practical-cnns-in-pytorch-1-61daa679c74a"
   ]
  },
  {
   "cell_type": "markdown",
   "metadata": {},
   "source": [
    "### Notes on Trouble Fitting Five Classes (Poor Normalization + Better Initialization)\n",
    "\n",
    "**Subtracting the Mean**\n",
    "\n",
    "We knew from the original paper that the authors had subtracted the average pixel values over the training set images from each image in the training set. For this reason we had written a script to write the average pixel values. However, we forgot to subtract this mean in the AlexnetSequence class. We noticed this when we came back to this project after a few months, but we weren't sure whether we had left this out intentionally. We concluded we must have and forgot about it. \n",
    "\n",
    "We tried training the net on the full dataset overnight with the new Adam optimization and after a single epoch we found the loss plateaud. It did not improve from epochs 2-17, which is when we stopped it. We conclused something must be wrong and Googled it. We found [this][21] Stack Overflow post naming failing to subtract the mean as a specific source of this type of error. This prompted us to check the AlexNet paper again and we found that in fact we were supposed to subtract the mean!\n",
    "\n",
    "After we did that we tried rerunning the training on just five classes. The results were dramatic. Whereas before the change it took 80-90 epochs to reach 80% accuracy, it now took just 40. Furthermore, we saw improvement on the loss and accuracy right from the first epoch, which hadn't been the case before. We concluded subtracting the mean is key and kept the change.\n",
    "\n",
    "**He Initialization**\n",
    "\n",
    "We also added He normalization to help out with training. We found that it didn't improve performance on the five class case noticeably if at all. However we've decided to keep it as it is a minor change and a best practice for this kind of net.\n",
    "\n",
    "[21]: https://stackoverflow.com/questions/44769630/neural-network-flatlines-after-one-epoch"
   ]
  },
  {
   "cell_type": "markdown",
   "metadata": {},
   "source": [
    "### Notes on Performance Tuning\n",
    "\n",
    "+ Trace view on Chrome: **Need to understand better.**\n",
    "    + Does seem lambda layers don't really take that long at all. We knew this from trying removing them but now we've confirmed they run about as fast as others.\n",
    "    + When I ran multiple runs the GPU operations look very tightly clustered and only span 40ms tops. It doesn't look the performance is an issue.\n",
    "    \n",
    "    \n",
    "+ Using multiple workers reduced mini-batch time from ~250ms to ~150ms (at least in 5 class case): \n",
    "    + That should cut about **a full day** from the 90 batch training time, so from 2 days, 14 hours to 1 day, 14 hours.\n",
    "    + That takes the image/sec rate from 512 img/sec to about 850 img/sec.\n",
    "    + Trying restarting Jupyter kernel and trying with 4 workers before going back to 1 worker.\n",
    "    \n",
    "    \n",
    "+ We checked the benchmark source code and **it turns out the benchmark AlexNet is built to classify CIFAR-10, NOT Imagenet. CIFAR-10 images are 32x32 which is significantly smaller than image size for Imagenet images which in this case we resize to 224x224**. It doesn't seem like a coincidence that 512 images/sec (our original processing rate) times the ratio of 224/32 is equal to ~3,500 images/sec, which is what we attain with the benchmark... We don't know why GPU/NN efficiency would scale linearly with the ratio of the inputs (rather than the square), but it's a funny coincidence.\n",
    "\n",
    "[25]: https://github.com/tensorflow/benchmarks/blob/master/scripts/tf_cnn_benchmarks/models/alexnet_model.py"
   ]
  },
  {
   "cell_type": "markdown",
   "metadata": {},
   "source": [
    "### Notes on Memory Management\n",
    "\n",
    "+ After using multiple workers we started running into out of memory errors after the first epoch. \n",
    "    + We found one suggestion [to clear GPU memory, which may not be cleared when the kernel restarts][22].  \n",
    "    + Another suggestion was to [run garbage collection after each mini-batch][23]. The latter suggestions slows down epoch run time from 25 minutes to 30 minutes which is not ideal. We instead made a callback that runs garbage collection at the end of each epoch. Seems like a more reasonable starting point.\n",
    "    + One other suggestion recommended [using tqdm for logging rather than Keras's built in][24] because it can lead to errors. We did find that Keras's built in was burying the memory errors. Using tqdm helped us discover them.\n",
    "    \n",
    " \n",
    "+ Once we added garbage collection and GPU cleaning we still got kernel death errors, but now without the out of memory message. \n",
    "    + It may be worth taking the suggestions online of **moving this to a script** and running from there. That way we will get better error messaging.\n",
    "    + Would also be worth setting the **worker and max_queue_size parameters back to their defaults** to make sure they're the reason for the problem.\n",
    "    + Another idea is **tweaking the image generator class**, which seems to be a large source of problems for us. **Understanding the trace better and being able to run more epochs faster** would help significantly speed up debugging.\n",
    "\n",
    "[22]: https://www.kaggle.com/c/jigsaw-unintended-bias-in-toxicity-classification/discussion/96876\n",
    "[23]: https://github.com/keras-team/keras/issues/3675\n",
    "[24]: https://forums.fast.ai/t/jupyter-notebook-dies-freezes-during-training/2651/4"
   ]
  },
  {
   "cell_type": "code",
   "execution_count": 26,
   "metadata": {
    "collapsed": true
   },
   "outputs": [
    {
     "data": {
      "application/vnd.jupyter.widget-view+json": {
       "model_id": "59261539442a49afa10d5cf8021783db",
       "version_major": 2,
       "version_minor": 0
      },
      "text/plain": [
       "HBox(children=(IntProgress(value=0, description='Training', style=ProgressStyle(description_width='initial')),…"
      ]
     },
     "metadata": {},
     "output_type": "display_data"
    },
    {
     "data": {
      "application/vnd.jupyter.widget-view+json": {
       "model_id": "",
       "version_major": 2,
       "version_minor": 0
      },
      "text/plain": [
       "HBox(children=(IntProgress(value=0, description='Epoch 0', max=21, style=ProgressStyle(description_width='init…"
      ]
     },
     "metadata": {},
     "output_type": "display_data"
    },
    {
     "name": "stderr",
     "output_type": "stream",
     "text": [
      "W0219 22:13:54.186583 140384467027776 deprecation_wrapper.py:119] From /home/daniel/anaconda3/lib/python3.7/site-packages/keras/callbacks/tensorboard_v1.py:343: The name tf.Summary is deprecated. Please use tf.compat.v1.Summary instead.\n",
      "\n"
     ]
    },
    {
     "name": "stdout",
     "output_type": "stream",
     "text": [
      "\n",
      "Epoch 00001: saving model to alexnet/checkpoints/weights.01-51.71.hdf5\n"
     ]
    },
    {
     "data": {
      "application/vnd.jupyter.widget-view+json": {
       "model_id": "",
       "version_major": 2,
       "version_minor": 0
      },
      "text/plain": [
       "HBox(children=(IntProgress(value=0, description='Epoch 1', max=21, style=ProgressStyle(description_width='init…"
      ]
     },
     "metadata": {},
     "output_type": "display_data"
    },
    {
     "name": "stdout",
     "output_type": "stream",
     "text": [
      "\n",
      "Epoch 00002: saving model to alexnet/checkpoints/weights.02-49.93.hdf5\n"
     ]
    },
    {
     "data": {
      "application/vnd.jupyter.widget-view+json": {
       "model_id": "",
       "version_major": 2,
       "version_minor": 0
      },
      "text/plain": [
       "HBox(children=(IntProgress(value=0, description='Epoch 2', max=21, style=ProgressStyle(description_width='init…"
      ]
     },
     "metadata": {},
     "output_type": "display_data"
    },
    {
     "name": "stdout",
     "output_type": "stream",
     "text": [
      "\n",
      "Epoch 00003: saving model to alexnet/checkpoints/weights.03-48.16.hdf5\n"
     ]
    },
    {
     "data": {
      "application/vnd.jupyter.widget-view+json": {
       "model_id": "",
       "version_major": 2,
       "version_minor": 0
      },
      "text/plain": [
       "HBox(children=(IntProgress(value=0, description='Epoch 3', max=21, style=ProgressStyle(description_width='init…"
      ]
     },
     "metadata": {},
     "output_type": "display_data"
    },
    {
     "name": "stdout",
     "output_type": "stream",
     "text": [
      "\n",
      "Epoch 00004: saving model to alexnet/checkpoints/weights.04-46.44.hdf5\n"
     ]
    },
    {
     "data": {
      "application/vnd.jupyter.widget-view+json": {
       "model_id": "",
       "version_major": 2,
       "version_minor": 0
      },
      "text/plain": [
       "HBox(children=(IntProgress(value=0, description='Epoch 4', max=21, style=ProgressStyle(description_width='init…"
      ]
     },
     "metadata": {},
     "output_type": "display_data"
    },
    {
     "name": "stdout",
     "output_type": "stream",
     "text": [
      "\n",
      "Epoch 00005: saving model to alexnet/checkpoints/weights.05-44.75.hdf5\n"
     ]
    },
    {
     "data": {
      "application/vnd.jupyter.widget-view+json": {
       "model_id": "",
       "version_major": 2,
       "version_minor": 0
      },
      "text/plain": [
       "HBox(children=(IntProgress(value=0, description='Epoch 5', max=21, style=ProgressStyle(description_width='init…"
      ]
     },
     "metadata": {},
     "output_type": "display_data"
    },
    {
     "name": "stdout",
     "output_type": "stream",
     "text": [
      "\n",
      "Epoch 00006: saving model to alexnet/checkpoints/weights.06-43.12.hdf5\n"
     ]
    },
    {
     "data": {
      "application/vnd.jupyter.widget-view+json": {
       "model_id": "",
       "version_major": 2,
       "version_minor": 0
      },
      "text/plain": [
       "HBox(children=(IntProgress(value=0, description='Epoch 6', max=21, style=ProgressStyle(description_width='init…"
      ]
     },
     "metadata": {},
     "output_type": "display_data"
    },
    {
     "name": "stdout",
     "output_type": "stream",
     "text": [
      "\n",
      "Epoch 00007: saving model to alexnet/checkpoints/weights.07-41.53.hdf5\n"
     ]
    },
    {
     "data": {
      "application/vnd.jupyter.widget-view+json": {
       "model_id": "",
       "version_major": 2,
       "version_minor": 0
      },
      "text/plain": [
       "HBox(children=(IntProgress(value=0, description='Epoch 7', max=21, style=ProgressStyle(description_width='init…"
      ]
     },
     "metadata": {},
     "output_type": "display_data"
    },
    {
     "name": "stdout",
     "output_type": "stream",
     "text": [
      "\n",
      "Epoch 00008: saving model to alexnet/checkpoints/weights.08-39.98.hdf5\n"
     ]
    },
    {
     "data": {
      "application/vnd.jupyter.widget-view+json": {
       "model_id": "966e762f5b814c5299b11631b9c393fa",
       "version_major": 2,
       "version_minor": 0
      },
      "text/plain": [
       "HBox(children=(IntProgress(value=0, description='Epoch 8', max=21, style=ProgressStyle(description_width='init…"
      ]
     },
     "metadata": {},
     "output_type": "display_data"
    },
    {
     "ename": "KeyboardInterrupt",
     "evalue": "",
     "output_type": "error",
     "traceback": [
      "\u001b[0;31m---------------------------------------------------------------------------\u001b[0m",
      "\u001b[0;31mKeyboardInterrupt\u001b[0m                         Traceback (most recent call last)",
      "\u001b[0;32m<ipython-input-26-a29e1dec76d7>\u001b[0m in \u001b[0;36m<module>\u001b[0;34m\u001b[0m\n\u001b[1;32m     11\u001b[0m                       \u001b[0muse_multiprocessing\u001b[0m\u001b[0;34m=\u001b[0m\u001b[0;32mFalse\u001b[0m\u001b[0;34m,\u001b[0m \u001b[0;31m# Actually significantly faster when this is false.\u001b[0m\u001b[0;34m\u001b[0m\u001b[0;34m\u001b[0m\u001b[0m\n\u001b[1;32m     12\u001b[0m                       \u001b[0mworkers\u001b[0m\u001b[0;34m=\u001b[0m\u001b[0;36m4\u001b[0m\u001b[0;34m,\u001b[0m \u001b[0;31m#FIXME: 4, More workers actually makes the images/second rate slower\u001b[0m\u001b[0;34m\u001b[0m\u001b[0;34m\u001b[0m\u001b[0m\n\u001b[0;32m---> 13\u001b[0;31m                       \u001b[0mmax_queue_size\u001b[0m\u001b[0;34m=\u001b[0m\u001b[0;36m4\u001b[0m \u001b[0;31m#FIXME: 4, A larger queue seems to not make much of a difference\u001b[0m\u001b[0;34m\u001b[0m\u001b[0;34m\u001b[0m\u001b[0m\n\u001b[0m\u001b[1;32m     14\u001b[0m                      )\n",
      "\u001b[0;32m~/anaconda3/lib/python3.7/site-packages/keras/legacy/interfaces.py\u001b[0m in \u001b[0;36mwrapper\u001b[0;34m(*args, **kwargs)\u001b[0m\n\u001b[1;32m     89\u001b[0m                 warnings.warn('Update your `' + object_name + '` call to the ' +\n\u001b[1;32m     90\u001b[0m                               'Keras 2 API: ' + signature, stacklevel=2)\n\u001b[0;32m---> 91\u001b[0;31m             \u001b[0;32mreturn\u001b[0m \u001b[0mfunc\u001b[0m\u001b[0;34m(\u001b[0m\u001b[0;34m*\u001b[0m\u001b[0margs\u001b[0m\u001b[0;34m,\u001b[0m \u001b[0;34m**\u001b[0m\u001b[0mkwargs\u001b[0m\u001b[0;34m)\u001b[0m\u001b[0;34m\u001b[0m\u001b[0;34m\u001b[0m\u001b[0m\n\u001b[0m\u001b[1;32m     92\u001b[0m         \u001b[0mwrapper\u001b[0m\u001b[0;34m.\u001b[0m\u001b[0m_original_function\u001b[0m \u001b[0;34m=\u001b[0m \u001b[0mfunc\u001b[0m\u001b[0;34m\u001b[0m\u001b[0;34m\u001b[0m\u001b[0m\n\u001b[1;32m     93\u001b[0m         \u001b[0;32mreturn\u001b[0m \u001b[0mwrapper\u001b[0m\u001b[0;34m\u001b[0m\u001b[0;34m\u001b[0m\u001b[0m\n",
      "\u001b[0;32m~/anaconda3/lib/python3.7/site-packages/keras/engine/training.py\u001b[0m in \u001b[0;36mfit_generator\u001b[0;34m(self, generator, steps_per_epoch, epochs, verbose, callbacks, validation_data, validation_steps, validation_freq, class_weight, max_queue_size, workers, use_multiprocessing, shuffle, initial_epoch)\u001b[0m\n\u001b[1;32m   1730\u001b[0m             \u001b[0muse_multiprocessing\u001b[0m\u001b[0;34m=\u001b[0m\u001b[0muse_multiprocessing\u001b[0m\u001b[0;34m,\u001b[0m\u001b[0;34m\u001b[0m\u001b[0;34m\u001b[0m\u001b[0m\n\u001b[1;32m   1731\u001b[0m             \u001b[0mshuffle\u001b[0m\u001b[0;34m=\u001b[0m\u001b[0mshuffle\u001b[0m\u001b[0;34m,\u001b[0m\u001b[0;34m\u001b[0m\u001b[0;34m\u001b[0m\u001b[0m\n\u001b[0;32m-> 1732\u001b[0;31m             initial_epoch=initial_epoch)\n\u001b[0m\u001b[1;32m   1733\u001b[0m \u001b[0;34m\u001b[0m\u001b[0m\n\u001b[1;32m   1734\u001b[0m     \u001b[0;34m@\u001b[0m\u001b[0minterfaces\u001b[0m\u001b[0;34m.\u001b[0m\u001b[0mlegacy_generator_methods_support\u001b[0m\u001b[0;34m\u001b[0m\u001b[0;34m\u001b[0m\u001b[0m\n",
      "\u001b[0;32m~/anaconda3/lib/python3.7/site-packages/keras/engine/training_generator.py\u001b[0m in \u001b[0;36mfit_generator\u001b[0;34m(model, generator, steps_per_epoch, epochs, verbose, callbacks, validation_data, validation_steps, validation_freq, class_weight, max_queue_size, workers, use_multiprocessing, shuffle, initial_epoch)\u001b[0m\n\u001b[1;32m    218\u001b[0m                                             \u001b[0msample_weight\u001b[0m\u001b[0;34m=\u001b[0m\u001b[0msample_weight\u001b[0m\u001b[0;34m,\u001b[0m\u001b[0;34m\u001b[0m\u001b[0;34m\u001b[0m\u001b[0m\n\u001b[1;32m    219\u001b[0m                                             \u001b[0mclass_weight\u001b[0m\u001b[0;34m=\u001b[0m\u001b[0mclass_weight\u001b[0m\u001b[0;34m,\u001b[0m\u001b[0;34m\u001b[0m\u001b[0;34m\u001b[0m\u001b[0m\n\u001b[0;32m--> 220\u001b[0;31m                                             reset_metrics=False)\n\u001b[0m\u001b[1;32m    221\u001b[0m \u001b[0;34m\u001b[0m\u001b[0m\n\u001b[1;32m    222\u001b[0m                 \u001b[0mouts\u001b[0m \u001b[0;34m=\u001b[0m \u001b[0mto_list\u001b[0m\u001b[0;34m(\u001b[0m\u001b[0mouts\u001b[0m\u001b[0;34m)\u001b[0m\u001b[0;34m\u001b[0m\u001b[0;34m\u001b[0m\u001b[0m\n",
      "\u001b[0;32m~/anaconda3/lib/python3.7/site-packages/keras/engine/training.py\u001b[0m in \u001b[0;36mtrain_on_batch\u001b[0;34m(self, x, y, sample_weight, class_weight, reset_metrics)\u001b[0m\n\u001b[1;32m   1512\u001b[0m             \u001b[0mins\u001b[0m \u001b[0;34m=\u001b[0m \u001b[0mx\u001b[0m \u001b[0;34m+\u001b[0m \u001b[0my\u001b[0m \u001b[0;34m+\u001b[0m \u001b[0msample_weights\u001b[0m\u001b[0;34m\u001b[0m\u001b[0;34m\u001b[0m\u001b[0m\n\u001b[1;32m   1513\u001b[0m         \u001b[0mself\u001b[0m\u001b[0;34m.\u001b[0m\u001b[0m_make_train_function\u001b[0m\u001b[0;34m(\u001b[0m\u001b[0;34m)\u001b[0m\u001b[0;34m\u001b[0m\u001b[0;34m\u001b[0m\u001b[0m\n\u001b[0;32m-> 1514\u001b[0;31m         \u001b[0moutputs\u001b[0m \u001b[0;34m=\u001b[0m \u001b[0mself\u001b[0m\u001b[0;34m.\u001b[0m\u001b[0mtrain_function\u001b[0m\u001b[0;34m(\u001b[0m\u001b[0mins\u001b[0m\u001b[0;34m)\u001b[0m\u001b[0;34m\u001b[0m\u001b[0;34m\u001b[0m\u001b[0m\n\u001b[0m\u001b[1;32m   1515\u001b[0m \u001b[0;34m\u001b[0m\u001b[0m\n\u001b[1;32m   1516\u001b[0m         \u001b[0;32mif\u001b[0m \u001b[0mreset_metrics\u001b[0m\u001b[0;34m:\u001b[0m\u001b[0;34m\u001b[0m\u001b[0;34m\u001b[0m\u001b[0m\n",
      "\u001b[0;32m~/anaconda3/lib/python3.7/site-packages/tensorflow/python/keras/backend.py\u001b[0m in \u001b[0;36m__call__\u001b[0;34m(self, inputs)\u001b[0m\n\u001b[1;32m   3290\u001b[0m \u001b[0;34m\u001b[0m\u001b[0m\n\u001b[1;32m   3291\u001b[0m     fetched = self._callable_fn(*array_vals,\n\u001b[0;32m-> 3292\u001b[0;31m                                 run_metadata=self.run_metadata)\n\u001b[0m\u001b[1;32m   3293\u001b[0m     \u001b[0mself\u001b[0m\u001b[0;34m.\u001b[0m\u001b[0m_call_fetch_callbacks\u001b[0m\u001b[0;34m(\u001b[0m\u001b[0mfetched\u001b[0m\u001b[0;34m[\u001b[0m\u001b[0;34m-\u001b[0m\u001b[0mlen\u001b[0m\u001b[0;34m(\u001b[0m\u001b[0mself\u001b[0m\u001b[0;34m.\u001b[0m\u001b[0m_fetches\u001b[0m\u001b[0;34m)\u001b[0m\u001b[0;34m:\u001b[0m\u001b[0;34m]\u001b[0m\u001b[0;34m)\u001b[0m\u001b[0;34m\u001b[0m\u001b[0;34m\u001b[0m\u001b[0m\n\u001b[1;32m   3294\u001b[0m     output_structure = nest.pack_sequence_as(\n",
      "\u001b[0;32m~/anaconda3/lib/python3.7/site-packages/tensorflow/python/client/session.py\u001b[0m in \u001b[0;36m__call__\u001b[0;34m(self, *args, **kwargs)\u001b[0m\n\u001b[1;32m   1456\u001b[0m         ret = tf_session.TF_SessionRunCallable(self._session._session,\n\u001b[1;32m   1457\u001b[0m                                                \u001b[0mself\u001b[0m\u001b[0;34m.\u001b[0m\u001b[0m_handle\u001b[0m\u001b[0;34m,\u001b[0m \u001b[0margs\u001b[0m\u001b[0;34m,\u001b[0m\u001b[0;34m\u001b[0m\u001b[0;34m\u001b[0m\u001b[0m\n\u001b[0;32m-> 1458\u001b[0;31m                                                run_metadata_ptr)\n\u001b[0m\u001b[1;32m   1459\u001b[0m         \u001b[0;32mif\u001b[0m \u001b[0mrun_metadata\u001b[0m\u001b[0;34m:\u001b[0m\u001b[0;34m\u001b[0m\u001b[0;34m\u001b[0m\u001b[0m\n\u001b[1;32m   1460\u001b[0m           \u001b[0mproto_data\u001b[0m \u001b[0;34m=\u001b[0m \u001b[0mtf_session\u001b[0m\u001b[0;34m.\u001b[0m\u001b[0mTF_GetBuffer\u001b[0m\u001b[0;34m(\u001b[0m\u001b[0mrun_metadata_ptr\u001b[0m\u001b[0;34m)\u001b[0m\u001b[0;34m\u001b[0m\u001b[0;34m\u001b[0m\u001b[0m\n",
      "\u001b[0;31mKeyboardInterrupt\u001b[0m: "
     ]
    }
   ],
   "source": [
    "alexnet.fit_generator(train_gen,\n",
    "                      epochs=90, # DEBUG: reduce\n",
    "                      validation_data=val_gen,\n",
    "                      verbose=0,\n",
    "                      callbacks=[tensorboard,\n",
    "                                 # scheduler, Not needed with Adam optimizer\n",
    "                                 checkpointer,\n",
    "                                 garbage_collection,\n",
    "                                 tqdm],\n",
    "                      shuffle=True, # Note this only works because we removed step parameters \n",
    "                      use_multiprocessing=False, # Actually significantly faster when this is false.\n",
    "                      workers=4, # More workers actually makes the images/second rate slower\n",
    "                      max_queue_size=4 # A larger queue seems to not make much of a difference\n",
    "                     )"
   ]
  },
  {
   "cell_type": "code",
   "execution_count": 23,
   "metadata": {},
   "outputs": [],
   "source": [
    "from tensorflow.python.client import timeline\n",
    "tl = timeline.Timeline(run_metadata.step_stats)\n",
    "ctf = tl.generate_chrome_trace_format()\n",
    "with open('alexnet/performance/timeline.json', 'w') as f:\n",
    "    f.write(ctf)"
   ]
  },
  {
   "cell_type": "markdown",
   "metadata": {},
   "source": [
    "### Change Log from Original AlexNet\n",
    "\n",
    "+ Using Adam optimizer instead of SGD and no learning rate scheduler (divide by 10 of flat loss) used\n",
    "+ Utilizing He uniform normalization instead of standard normal with variance 0.01\n",
    "    + Actually using variants of normal normalization now, He normalization yielding crazy initial weights\n",
    "+ May normalize image data by dividing by variance"
   ]
  },
  {
   "cell_type": "markdown",
   "metadata": {},
   "source": [
    "# V. Testing\n",
    "\n",
    "Need to:\n",
    "+ Create script that generates augmentations for testing.\n",
    "+ Create script that uses augmentations to create an ensemble estimate of the result.\n",
    "+ Do we want to use the usual techniques for debugging NNs we learned from the OpenAI? Probably worth it."
   ]
  },
  {
   "cell_type": "code",
   "execution_count": 16,
   "metadata": {},
   "outputs": [
    {
     "data": {
      "text/plain": [
       "<matplotlib.image.AxesImage at 0x7fb9a426db70>"
      ]
     },
     "execution_count": 16,
     "metadata": {},
     "output_type": "execute_result"
    },
    {
     "data": {
      "image/png": "[encoded data removed]",
      "text/plain": [
       "<Figure size 432x288 with 1 Axes>"
      ]
     },
     "metadata": {
      "needs_background": "light"
     },
     "output_type": "display_data"
    }
   ],
   "source": [
    "# An example from training -- can use such examples for testing, but from validation set\n",
    "img = cv2.imread('datasets/ILSVRC2012/Training/n01440764/n01440764_10120.JPEG')\n",
    "img = cv2.cvtColor(img, cv2.COLOR_BGR2RGB)\n",
    "plt.imshow(img)"
   ]
  },
  {
   "cell_type": "code",
   "execution_count": 87,
   "metadata": {},
   "outputs": [
    {
     "name": "stderr",
     "output_type": "stream",
     "text": [
      "W0320 02:45:10.923021 140438808549184 image.py:693] Clipping input data to the valid range for imshow with RGB data ([0..1] for floats or [0..255] for integers).\n"
     ]
    },
    {
     "name": "stdout",
     "output_type": "stream",
     "text": [
      "[ 0.25258736 -0.16066595 -0.31065578]\n",
      "[0.5877486  0.29570953 0.02266027]\n",
      "[0.33516123 0.45637548 0.33331605]\n"
     ]
    },
    {
     "data": {
      "text/plain": [
       "<matplotlib.image.AxesImage at 0x7fb94f950320>"
      ]
     },
     "execution_count": 87,
     "metadata": {},
     "output_type": "execute_result"
    },
    {
     "data": {
      "image/png": "[encoded data removed]",
      "text/plain": [
       "<Figure size 432x288 with 1 Axes>"
      ]
     },
     "metadata": {
      "needs_background": "light"
     },
     "output_type": "display_data"
    }
   ],
   "source": [
    "alphas = np.random.normal(scale=1, size=3)\n",
    "shift = np.zeros(3)\n",
    "for i in range(3):\n",
    "    shift += alphas[i] * np.array(eigenvalues[i].tolist()) * np.array(eigenvectors[i].tolist())\n",
    "prev_image = ((img-np.array(pixel_avg.tolist()))/255)/np.array(stdev.tolist())\n",
    "output_image = ((img-np.array(pixel_avg.tolist()))/255 + shift)/np.array(stdev.tolist())\n",
    "\n",
    "print(prev_image.sum(axis=0).sum(axis=0)/(256**2))\n",
    "print(output_image.sum(axis=0).sum(axis=0)/(256**2))\n",
    "print(shift/np.array(stdev.tolist()))\n",
    "plt.imshow(output_image)"
   ]
  },
  {
   "cell_type": "code",
   "execution_count": 18,
   "metadata": {},
   "outputs": [
    {
     "data": {
      "text/plain": [
       "array([0.28336131, 0.27028511, 0.27806507])"
      ]
     },
     "execution_count": 18,
     "metadata": {},
     "output_type": "execute_result"
    }
   ],
   "source": [
    "stdev"
   ]
  },
  {
   "cell_type": "code",
   "execution_count": null,
   "metadata": {},
   "outputs": [],
   "source": []
  },
  {
   "cell_type": "code",
   "execution_count": 22,
   "metadata": {},
   "outputs": [
    {
     "data": {
      "text/plain": [
       "-0.030319863801152053"
      ]
     },
     "execution_count": 22,
     "metadata": {},
     "output_type": "execute_result"
    }
   ],
   "source": [
    "# Check mean is near zero\n",
    "train_gen[0][0].mean()"
   ]
  },
  {
   "cell_type": "code",
   "execution_count": 23,
   "metadata": {},
   "outputs": [
    {
     "data": {
      "text/plain": [
       "array([1.00564258, 1.0042937 , 1.01419677])"
      ]
     },
     "execution_count": 23,
     "metadata": {},
     "output_type": "execute_result"
    }
   ],
   "source": [
    "# Check std is less than 1\n",
    "train_gen[3][0].reshape(-1,3).std(axis=0)"
   ]
  },
  {
   "cell_type": "code",
   "execution_count": 67,
   "metadata": {},
   "outputs": [
    {
     "name": "stdout",
     "output_type": "stream",
     "text": [
      "space shuttle\n"
     ]
    },
    {
     "name": "stderr",
     "output_type": "stream",
     "text": [
      "W0228 21:54:56.711154 140587054593856 image.py:693] Clipping input data to the valid range for imshow with RGB data ([0..1] for floats or [0..255] for integers).\n"
     ]
    },
    {
     "data": {
      "text/plain": [
       "<matplotlib.image.AxesImage at 0x7fdbdc982b00>"
      ]
     },
     "execution_count": 67,
     "metadata": {},
     "output_type": "execute_result"
    },
    {
     "data": {
      "image/png": "[encoded data removed]",
      "text/plain": [
       "<Figure size 432x288 with 1 Axes>"
      ]
     },
     "metadata": {
      "needs_background": "light"
     },
     "output_type": "display_data"
    }
   ],
   "source": [
    "minibatch=4151\n",
    "index=123\n",
    "\n",
    "index_code_map \n",
    "print(code_label_map[index_code_map[train_gen[minibatch][1][index].argmax()]])\n",
    "plt.imshow(train_gen[minibatch][0][index])"
   ]
  },
  {
   "cell_type": "code",
   "execution_count": 33,
   "metadata": {},
   "outputs": [
    {
     "name": "stdout",
     "output_type": "stream",
     "text": [
      "(224, 224, 3)\n",
      "night snake, Hypsiglena torquata\n"
     ]
    },
    {
     "name": "stderr",
     "output_type": "stream",
     "text": [
      "W0228 22:27:55.399446 140624815589184 image.py:693] Clipping input data to the valid range for imshow with RGB data ([0..1] for floats or [0..255] for integers).\n"
     ]
    },
    {
     "data": {
      "text/plain": [
       "<matplotlib.image.AxesImage at 0x7fe3d8194550>"
      ]
     },
     "execution_count": 33,
     "metadata": {},
     "output_type": "execute_result"
    },
    {
     "data": {
      "image/png": "[encoded data removed]",
      "text/plain": [
       "<Figure size 432x288 with 1 Axes>"
      ]
     },
     "metadata": {
      "needs_background": "light"
     },
     "output_type": "display_data"
    }
   ],
   "source": [
    "minibatch=50\n",
    "index=23\n",
    "\n",
    "index_code_map \n",
    "print(val_gen[minibatch][0][index].shape)\n",
    "print(code_label_map[index_code_map[val_gen[minibatch][1][index].argmax()]])\n",
    "plt.imshow(val_gen[minibatch][0][index])"
   ]
  },
  {
   "cell_type": "code",
   "execution_count": 28,
   "metadata": {},
   "outputs": [
    {
     "data": {
      "text/plain": [
       "(224, 224, 3)"
      ]
     },
     "execution_count": 28,
     "metadata": {},
     "output_type": "execute_result"
    }
   ],
   "source": [
    "train_gen[0][0][0].shape"
   ]
  },
  {
   "cell_type": "code",
   "execution_count": 26,
   "metadata": {},
   "outputs": [
    {
     "name": "stderr",
     "output_type": "stream",
     "text": [
      "W0223 22:49:06.195745 140362678523712 deprecation_wrapper.py:119] From /home/daniel/anaconda3/lib/python3.7/site-packages/keras/backend/tensorflow_backend.py:422: The name tf.global_variables is deprecated. Please use tf.compat.v1.global_variables instead.\n",
      "\n"
     ]
    },
    {
     "name": "stdout",
     "output_type": "stream",
     "text": [
      "48.25850534439087\n"
     ]
    },
    {
     "data": {
      "text/plain": [
       "[<matplotlib.lines.Line2D at 0x7fa6bc0ace80>]"
      ]
     },
     "execution_count": 26,
     "metadata": {},
     "output_type": "execute_result"
    },
    {
     "data": {
      "image/png": "[encoded data removed]",
      "text/plain": [
       "<Figure size 432x288 with 1 Axes>"
      ]
     },
     "metadata": {
      "needs_background": "light"
     },
     "output_type": "display_data"
    }
   ],
   "source": [
    "mean_sum = np.zeros(shape=(1000))\n",
    "\n",
    "ti = time.time()\n",
    "for index in range(100):\n",
    "    mean_sum = mean_sum + alexnet.predict(train_gen[index][0]).mean(axis=0)\n",
    "\n",
    "print(time.time()-ti)\n",
    "    \n",
    "plt.plot(mean_sum/100)"
   ]
  },
  {
   "cell_type": "code",
   "execution_count": 53,
   "metadata": {},
   "outputs": [
    {
     "name": "stdout",
     "output_type": "stream",
     "text": [
      "391/391 [==============================] - 118s 301ms/step\n"
     ]
    },
    {
     "data": {
      "text/plain": [
       "[57.347755432128906, 0.0010000000474974513, 1.0]"
      ]
     },
     "execution_count": 53,
     "metadata": {},
     "output_type": "execute_result"
    }
   ],
   "source": [
    "# FIXME - Changes\n",
    "# Made variance of random weight init 0, all weights zero\n",
    "# Normalized image pixel values by dividing by standard deviation\n",
    "\n",
    "alexnet.evaluate_generator(val_gen, verbose=1)"
   ]
  },
  {
   "cell_type": "code",
   "execution_count": 62,
   "metadata": {},
   "outputs": [
    {
     "data": {
      "text/plain": [
       "True"
      ]
     },
     "execution_count": 62,
     "metadata": {},
     "output_type": "execute_result"
    }
   ],
   "source": [
    "# Check indices match image labels in file names.... They do...\n",
    "indices = y_labels_train.argmax(axis=1)\n",
    "all([index_code_map[index] == path[:9] \n",
    "     and index_code_map[index] == path[10:19] \n",
    "     for index, path in zip(indices, x_paths_train)])"
   ]
  },
  {
   "cell_type": "code",
   "execution_count": 114,
   "metadata": {},
   "outputs": [
    {
     "name": "stdout",
     "output_type": "stream",
     "text": [
      "[[0.001 0.001 0.001 ... 0.001 0.001 0.001]\n",
      " [0.001 0.001 0.001 ... 0.001 0.001 0.001]\n",
      " [0.001 0.001 0.001 ... 0.001 0.001 0.001]\n",
      " ...\n",
      " [0.001 0.001 0.001 ... 0.001 0.001 0.001]\n",
      " [0.001 0.001 0.001 ... 0.001 0.001 0.001]\n",
      " [0.001 0.001 0.001 ... 0.001 0.001 0.001]]\n",
      "[[0. 0. 0. ... 0. 0. 0.]\n",
      " [0. 0. 0. ... 0. 0. 0.]\n",
      " [0. 0. 0. ... 0. 0. 0.]\n",
      " ...\n",
      " [0. 0. 0. ... 0. 0. 0.]\n",
      " [0. 0. 0. ... 0. 0. 0.]\n",
      " [0. 0. 0. ... 0. 0. 0.]]\n",
      "[6.90847241 6.90847241 6.90847241 6.90847241 6.90847241 6.90847241\n",
      " 6.90847241 6.90847241 6.90847241 6.90847241 6.90847241 6.90847241\n",
      " 6.90847241 6.90847241 6.90847241 6.90847241 6.90847241 6.90847241\n",
      " 6.90847241 6.90847241 6.90847241 6.90847241 6.90847241 6.90847241\n",
      " 6.90847241 6.90847241 6.90847241 6.90847241 6.90847241 6.90847241\n",
      " 6.90847241 6.90847241 6.90847241 6.90847241 6.90847241 6.90847241\n",
      " 6.90847241 6.90847241 6.90847241 6.90847241 6.90847241 6.90847241\n",
      " 6.90847241 6.90847241 6.90847241 6.90847241 6.90847241 6.90847241\n",
      " 6.90847241 6.90847241 6.90847241 6.90847241 6.90847241 6.90847241\n",
      " 6.90847241 6.90847241 6.90847241 6.90847241 6.90847241 6.90847241\n",
      " 6.90847241 6.90847241 6.90847241 6.90847241 6.90847241 6.90847241\n",
      " 6.90847241 6.90847241 6.90847241 6.90847241 6.90847241 6.90847241\n",
      " 6.90847241 6.90847241 6.90847241 6.90847241 6.90847241 6.90847241\n",
      " 6.90847241 6.90847241 6.90847241 6.90847241 6.90847241 6.90847241\n",
      " 6.90847241 6.90847241 6.90847241 6.90847241 6.90847241 6.90847241\n",
      " 6.90847241 6.90847241 6.90847241 6.90847241 6.90847241 6.90847241\n",
      " 6.90847241 6.90847241 6.90847241 6.90847241 6.90847241 6.90847241\n",
      " 6.90847241 6.90847241 6.90847241 6.90847241 6.90847241 6.90847241\n",
      " 6.90847241 6.90847241 6.90847241 6.90847241 6.90847241 6.90847241\n",
      " 6.90847241 6.90847241 6.90847241 6.90847241 6.90847241 6.90847241\n",
      " 6.90847241 6.90847241 6.90847241 6.90847241 6.90847241 6.90847241\n",
      " 6.90847241 6.90847241]\n"
     ]
    }
   ],
   "source": [
    "a = tf.constant(alexnet.predict(train_gen[1][0]), dtype='float64')\n",
    "b = tf.constant(train_gen[1][1], dtype='float64')\n",
    "loss = tf.keras.backend.categorical_crossentropy(a, b, axis=1, from_logits=True)\n",
    "with tf.Session() as sess:  \n",
    "    print(a.eval())\n",
    "    print(b.eval())\n",
    "    print(loss.eval()) "
   ]
  },
  {
   "cell_type": "code",
   "execution_count": 113,
   "metadata": {},
   "outputs": [
    {
     "data": {
      "text/plain": [
       "array([0.10536, 0.11653, 0.06188])"
      ]
     },
     "execution_count": 113,
     "metadata": {},
     "output_type": "execute_result"
    }
   ],
   "source": [
    "y_true = np.array([1., 0., 0., 0., 1., 0., 0., 0., 1.]).reshape(3,3)\n",
    "y_pred = np.array([.9, .05, .05, .5, .89, .6, .05, .01, .94]).reshape(3,3)\n",
    "loss = -(y_true * np.log(y_pred)).sum(axis=1)\n",
    "np.around(loss, 5)"
   ]
  },
  {
   "cell_type": "code",
   "execution_count": 104,
   "metadata": {},
   "outputs": [
    {
     "data": {
      "text/plain": [
       "array([6.90775537, 6.90775537, 6.90775537, 6.90775537, 6.90775537,\n",
       "       6.90775537, 6.90775537, 6.90775537, 6.90775537, 6.90775537,\n",
       "       6.90775537, 6.90775537, 6.90775537, 6.90775537, 6.90775537,\n",
       "       6.90775537, 6.90775537, 6.90775537, 6.90775537, 6.90775537,\n",
       "       6.90775537, 6.90775537, 6.90775537, 6.90775537, 6.90775537,\n",
       "       6.90775537, 6.90775537, 6.90775537, 6.90775537, 6.90775537,\n",
       "       6.90775537, 6.90775537, 6.90775537, 6.90775537, 6.90775537,\n",
       "       6.90775537, 6.90775537, 6.90775537, 6.90775537, 6.90775537,\n",
       "       6.90775537, 6.90775537, 6.90775537, 6.90775537, 6.90775537,\n",
       "       6.90775537, 6.90775537, 6.90775537, 6.90775537, 6.90775537,\n",
       "       6.90775537, 6.90775537, 6.90775537, 6.90775537, 6.90775537,\n",
       "       6.90775537, 6.90775537, 6.90775537, 6.90775537, 6.90775537,\n",
       "       6.90775537, 6.90775537, 6.90775537, 6.90775537, 6.90775537,\n",
       "       6.90775537, 6.90775537, 6.90775537, 6.90775537, 6.90775537,\n",
       "       6.90775537, 6.90775537, 6.90775537, 6.90775537, 6.90775537,\n",
       "       6.90775537, 6.90775537, 6.90775537, 6.90775537, 6.90775537,\n",
       "       6.90775537, 6.90775537, 6.90775537, 6.90775537, 6.90775537,\n",
       "       6.90775537, 6.90775537, 6.90775537, 6.90775537, 6.90775537,\n",
       "       6.90775537, 6.90775537, 6.90775537, 6.90775537, 6.90775537,\n",
       "       6.90775537, 6.90775537, 6.90775537, 6.90775537, 6.90775537,\n",
       "       6.90775537, 6.90775537, 6.90775537, 6.90775537, 6.90775537,\n",
       "       6.90775537, 6.90775537, 6.90775537, 6.90775537, 6.90775537,\n",
       "       6.90775537, 6.90775537, 6.90775537, 6.90775537, 6.90775537,\n",
       "       6.90775537, 6.90775537, 6.90775537, 6.90775537, 6.90775537,\n",
       "       6.90775537, 6.90775537, 6.90775537, 6.90775537, 6.90775537,\n",
       "       6.90775537, 6.90775537, 6.90775537])"
      ]
     },
     "execution_count": 104,
     "metadata": {},
     "output_type": "execute_result"
    }
   ],
   "source": [
    "y_pred = alexnet.predict(train_gen[1][0])\n",
    "y_true = train_gen[1][1]\n",
    "\n",
    "-(y_true * np.log(y_pred)).sum(axis=1)"
   ]
  },
  {
   "cell_type": "markdown",
   "metadata": {},
   "source": [
    "# Appendix A. Check Performance\n",
    "\n",
    "Note when we run this appendix after we run the rest of the notebook we often get memory errors for larger batch sizes. We presume the additional Python objects in RAM along with the batches being loaded cause some sort of RAM OOM error. Would be interesting to look into this further at some point, we can always add more RAM to our machine."
   ]
  },
  {
   "cell_type": "code",
   "execution_count": 45,
   "metadata": {
    "scrolled": true
   },
   "outputs": [
    {
     "name": "stdout",
     "output_type": "stream",
     "text": [
      "i9-9900KF-GeForce_RTX_2080_Ti\n",
      "--optimizer=sgd --model=resnet50 --num_gpus=1 --batch_size=64 --variable_update=replicated --distortions=false --num_batches=100 --data_name=imagenet\n",
      "python3: can't open file 'tf_cnn_benchmarks.py': [Errno 2] No such file or directory\n",
      "--optimizer=sgd --model=resnet50 --num_gpus=1 --batch_size=64 --variable_update=replicated --distortions=false --num_batches=100 --data_name=imagenet\n",
      "python3: can't open file 'tf_cnn_benchmarks.py': [Errno 2] No such file or directory\n",
      "--optimizer=sgd --model=resnet50 --num_gpus=1 --batch_size=64 --variable_update=replicated --distortions=false --num_batches=100 --data_name=imagenet\n",
      "python3: can't open file 'tf_cnn_benchmarks.py': [Errno 2] No such file or directory\n",
      "--optimizer=sgd --model=resnet50 --num_gpus=1 --batch_size=64 --variable_update=replicated --distortions=false --num_batches=100 --data_name=imagenet\n",
      "python3: can't open file 'tf_cnn_benchmarks.py': [Errno 2] No such file or directory\n",
      "--optimizer=sgd --model=resnet50 --num_gpus=1 --batch_size=64 --variable_update=replicated --distortions=false --num_batches=100 --data_name=imagenet\n",
      "python3: can't open file 'tf_cnn_benchmarks.py': [Errno 2] No such file or directory\n",
      "--optimizer=sgd --model=resnet50 --num_gpus=1 --batch_size=64 --variable_update=replicated --distortions=false --num_batches=100 --data_name=imagenet\n",
      "python3: can't open file 'tf_cnn_benchmarks.py': [Errno 2] No such file or directory\n",
      "--optimizer=sgd --model=resnet50 --num_gpus=1 --batch_size=64 --variable_update=replicated --distortions=false --num_batches=100 --data_name=imagenet\n",
      "python3: can't open file 'tf_cnn_benchmarks.py': [Errno 2] No such file or directory\n",
      "--optimizer=sgd --model=resnet50 --num_gpus=1 --batch_size=64 --variable_update=replicated --distortions=false --num_batches=100 --data_name=imagenet\n",
      "python3: can't open file 'tf_cnn_benchmarks.py': [Errno 2] No such file or directory\n",
      "--optimizer=sgd --model=resnet50 --num_gpus=1 --batch_size=64 --variable_update=replicated --distortions=false --num_batches=100 --data_name=imagenet\n",
      "python3: can't open file 'tf_cnn_benchmarks.py': [Errno 2] No such file or directory\n",
      "--optimizer=sgd --model=resnet50 --num_gpus=1 --batch_size=64 --variable_update=replicated --distortions=false --num_batches=100 --data_name=imagenet\n",
      "python3: can't open file 'tf_cnn_benchmarks.py': [Errno 2] No such file or directory\n",
      "--optimizer=sgd --model=resnet152 --num_gpus=1 --batch_size=32 --variable_update=replicated --distortions=false --num_batches=100 --data_name=imagenet\n",
      "python3: can't open file 'tf_cnn_benchmarks.py': [Errno 2] No such file or directory\n",
      "--optimizer=sgd --model=resnet152 --num_gpus=1 --batch_size=32 --variable_update=replicated --distortions=false --num_batches=100 --data_name=imagenet\n",
      "python3: can't open file 'tf_cnn_benchmarks.py': [Errno 2] No such file or directory\n",
      "--optimizer=sgd --model=resnet152 --num_gpus=1 --batch_size=32 --variable_update=replicated --distortions=false --num_batches=100 --data_name=imagenet\n",
      "python3: can't open file 'tf_cnn_benchmarks.py': [Errno 2] No such file or directory\n",
      "--optimizer=sgd --model=resnet152 --num_gpus=1 --batch_size=32 --variable_update=replicated --distortions=false --num_batches=100 --data_name=imagenet\n",
      "python3: can't open file 'tf_cnn_benchmarks.py': [Errno 2] No such file or directory\n",
      "--optimizer=sgd --model=resnet152 --num_gpus=1 --batch_size=32 --variable_update=replicated --distortions=false --num_batches=100 --data_name=imagenet\n",
      "python3: can't open file 'tf_cnn_benchmarks.py': [Errno 2] No such file or directory\n",
      "--optimizer=sgd --model=resnet152 --num_gpus=1 --batch_size=32 --variable_update=replicated --distortions=false --num_batches=100 --data_name=imagenet\n",
      "python3: can't open file 'tf_cnn_benchmarks.py': [Errno 2] No such file or directory\n",
      "--optimizer=sgd --model=resnet152 --num_gpus=1 --batch_size=32 --variable_update=replicated --distortions=false --num_batches=100 --data_name=imagenet\n",
      "python3: can't open file 'tf_cnn_benchmarks.py': [Errno 2] No such file or directory\n",
      "--optimizer=sgd --model=resnet152 --num_gpus=1 --batch_size=32 --variable_update=replicated --distortions=false --num_batches=100 --data_name=imagenet\n",
      "python3: can't open file 'tf_cnn_benchmarks.py': [Errno 2] No such file or directory\n",
      "--optimizer=sgd --model=resnet152 --num_gpus=1 --batch_size=32 --variable_update=replicated --distortions=false --num_batches=100 --data_name=imagenet\n",
      "python3: can't open file 'tf_cnn_benchmarks.py': [Errno 2] No such file or directory\n",
      "--optimizer=sgd --model=resnet152 --num_gpus=1 --batch_size=32 --variable_update=replicated --distortions=false --num_batches=100 --data_name=imagenet\n",
      "python3: can't open file 'tf_cnn_benchmarks.py': [Errno 2] No such file or directory\n",
      "--optimizer=sgd --model=inception3 --num_gpus=1 --batch_size=64 --variable_update=replicated --distortions=false --num_batches=100 --data_name=imagenet\n",
      "python3: can't open file 'tf_cnn_benchmarks.py': [Errno 2] No such file or directory\n",
      "--optimizer=sgd --model=inception3 --num_gpus=1 --batch_size=64 --variable_update=replicated --distortions=false --num_batches=100 --data_name=imagenet\n",
      "python3: can't open file 'tf_cnn_benchmarks.py': [Errno 2] No such file or directory\n",
      "--optimizer=sgd --model=inception3 --num_gpus=1 --batch_size=64 --variable_update=replicated --distortions=false --num_batches=100 --data_name=imagenet\n",
      "python3: can't open file 'tf_cnn_benchmarks.py': [Errno 2] No such file or directory\n",
      "--optimizer=sgd --model=inception3 --num_gpus=1 --batch_size=64 --variable_update=replicated --distortions=false --num_batches=100 --data_name=imagenet\n",
      "python3: can't open file 'tf_cnn_benchmarks.py': [Errno 2] No such file or directory\n",
      "--optimizer=sgd --model=inception3 --num_gpus=1 --batch_size=64 --variable_update=replicated --distortions=false --num_batches=100 --data_name=imagenet\n",
      "python3: can't open file 'tf_cnn_benchmarks.py': [Errno 2] No such file or directory\n",
      "--optimizer=sgd --model=inception3 --num_gpus=1 --batch_size=64 --variable_update=replicated --distortions=false --num_batches=100 --data_name=imagenet\n",
      "python3: can't open file 'tf_cnn_benchmarks.py': [Errno 2] No such file or directory\n",
      "--optimizer=sgd --model=inception3 --num_gpus=1 --batch_size=64 --variable_update=replicated --distortions=false --num_batches=100 --data_name=imagenet\n",
      "python3: can't open file 'tf_cnn_benchmarks.py': [Errno 2] No such file or directory\n",
      "--optimizer=sgd --model=inception3 --num_gpus=1 --batch_size=64 --variable_update=replicated --distortions=false --num_batches=100 --data_name=imagenet\n",
      "python3: can't open file 'tf_cnn_benchmarks.py': [Errno 2] No such file or directory\n",
      "--optimizer=sgd --model=inception3 --num_gpus=1 --batch_size=64 --variable_update=replicated --distortions=false --num_batches=100 --data_name=imagenet\n",
      "python3: can't open file 'tf_cnn_benchmarks.py': [Errno 2] No such file or directory\n",
      "--optimizer=sgd --model=inception3 --num_gpus=1 --batch_size=64 --variable_update=replicated --distortions=false --num_batches=100 --data_name=imagenet\n",
      "python3: can't open file 'tf_cnn_benchmarks.py': [Errno 2] No such file or directory\n",
      "--optimizer=sgd --model=inception4 --num_gpus=1 --batch_size=16 --variable_update=replicated --distortions=false --num_batches=100 --data_name=imagenet\n",
      "python3: can't open file 'tf_cnn_benchmarks.py': [Errno 2] No such file or directory\n",
      "--optimizer=sgd --model=inception4 --num_gpus=1 --batch_size=16 --variable_update=replicated --distortions=false --num_batches=100 --data_name=imagenet\n",
      "python3: can't open file 'tf_cnn_benchmarks.py': [Errno 2] No such file or directory\n",
      "--optimizer=sgd --model=inception4 --num_gpus=1 --batch_size=16 --variable_update=replicated --distortions=false --num_batches=100 --data_name=imagenet\n",
      "python3: can't open file 'tf_cnn_benchmarks.py': [Errno 2] No such file or directory\n",
      "--optimizer=sgd --model=inception4 --num_gpus=1 --batch_size=16 --variable_update=replicated --distortions=false --num_batches=100 --data_name=imagenet\n",
      "python3: can't open file 'tf_cnn_benchmarks.py': [Errno 2] No such file or directory\n",
      "--optimizer=sgd --model=inception4 --num_gpus=1 --batch_size=16 --variable_update=replicated --distortions=false --num_batches=100 --data_name=imagenet\n",
      "python3: can't open file 'tf_cnn_benchmarks.py': [Errno 2] No such file or directory\n",
      "--optimizer=sgd --model=inception4 --num_gpus=1 --batch_size=16 --variable_update=replicated --distortions=false --num_batches=100 --data_name=imagenet\n"
     ]
    },
    {
     "name": "stdout",
     "output_type": "stream",
     "text": [
      "python3: can't open file 'tf_cnn_benchmarks.py': [Errno 2] No such file or directory\n",
      "--optimizer=sgd --model=inception4 --num_gpus=1 --batch_size=16 --variable_update=replicated --distortions=false --num_batches=100 --data_name=imagenet\n",
      "python3: can't open file 'tf_cnn_benchmarks.py': [Errno 2] No such file or directory\n",
      "--optimizer=sgd --model=inception4 --num_gpus=1 --batch_size=16 --variable_update=replicated --distortions=false --num_batches=100 --data_name=imagenet\n",
      "python3: can't open file 'tf_cnn_benchmarks.py': [Errno 2] No such file or directory\n",
      "--optimizer=sgd --model=inception4 --num_gpus=1 --batch_size=16 --variable_update=replicated --distortions=false --num_batches=100 --data_name=imagenet\n",
      "python3: can't open file 'tf_cnn_benchmarks.py': [Errno 2] No such file or directory\n",
      "--optimizer=sgd --model=inception4 --num_gpus=1 --batch_size=16 --variable_update=replicated --distortions=false --num_batches=100 --data_name=imagenet\n",
      "python3: can't open file 'tf_cnn_benchmarks.py': [Errno 2] No such file or directory\n",
      "--optimizer=sgd --model=vgg16 --num_gpus=1 --batch_size=64 --variable_update=replicated --distortions=false --num_batches=100 --data_name=imagenet\n",
      "python3: can't open file 'tf_cnn_benchmarks.py': [Errno 2] No such file or directory\n",
      "--optimizer=sgd --model=vgg16 --num_gpus=1 --batch_size=64 --variable_update=replicated --distortions=false --num_batches=100 --data_name=imagenet\n",
      "python3: can't open file 'tf_cnn_benchmarks.py': [Errno 2] No such file or directory\n",
      "--optimizer=sgd --model=vgg16 --num_gpus=1 --batch_size=64 --variable_update=replicated --distortions=false --num_batches=100 --data_name=imagenet\n",
      "python3: can't open file 'tf_cnn_benchmarks.py': [Errno 2] No such file or directory\n",
      "--optimizer=sgd --model=vgg16 --num_gpus=1 --batch_size=64 --variable_update=replicated --distortions=false --num_batches=100 --data_name=imagenet\n",
      "python3: can't open file 'tf_cnn_benchmarks.py': [Errno 2] No such file or directory\n",
      "--optimizer=sgd --model=vgg16 --num_gpus=1 --batch_size=64 --variable_update=replicated --distortions=false --num_batches=100 --data_name=imagenet\n",
      "python3: can't open file 'tf_cnn_benchmarks.py': [Errno 2] No such file or directory\n",
      "--optimizer=sgd --model=vgg16 --num_gpus=1 --batch_size=64 --variable_update=replicated --distortions=false --num_batches=100 --data_name=imagenet\n",
      "python3: can't open file 'tf_cnn_benchmarks.py': [Errno 2] No such file or directory\n",
      "--optimizer=sgd --model=vgg16 --num_gpus=1 --batch_size=64 --variable_update=replicated --distortions=false --num_batches=100 --data_name=imagenet\n",
      "python3: can't open file 'tf_cnn_benchmarks.py': [Errno 2] No such file or directory\n",
      "--optimizer=sgd --model=vgg16 --num_gpus=1 --batch_size=64 --variable_update=replicated --distortions=false --num_batches=100 --data_name=imagenet\n",
      "python3: can't open file 'tf_cnn_benchmarks.py': [Errno 2] No such file or directory\n",
      "--optimizer=sgd --model=vgg16 --num_gpus=1 --batch_size=64 --variable_update=replicated --distortions=false --num_batches=100 --data_name=imagenet\n",
      "python3: can't open file 'tf_cnn_benchmarks.py': [Errno 2] No such file or directory\n",
      "--optimizer=sgd --model=vgg16 --num_gpus=1 --batch_size=64 --variable_update=replicated --distortions=false --num_batches=100 --data_name=imagenet\n",
      "python3: can't open file 'tf_cnn_benchmarks.py': [Errno 2] No such file or directory\n",
      "--optimizer=sgd --model=alexnet --num_gpus=1 --batch_size=512 --variable_update=replicated --distortions=false --num_batches=100 --data_name=imagenet\n",
      "python3: can't open file 'tf_cnn_benchmarks.py': [Errno 2] No such file or directory\n",
      "--optimizer=sgd --model=alexnet --num_gpus=1 --batch_size=512 --variable_update=replicated --distortions=false --num_batches=100 --data_name=imagenet\n",
      "python3: can't open file 'tf_cnn_benchmarks.py': [Errno 2] No such file or directory\n",
      "--optimizer=sgd --model=alexnet --num_gpus=1 --batch_size=512 --variable_update=replicated --distortions=false --num_batches=100 --data_name=imagenet\n",
      "python3: can't open file 'tf_cnn_benchmarks.py': [Errno 2] No such file or directory\n",
      "--optimizer=sgd --model=alexnet --num_gpus=1 --batch_size=512 --variable_update=replicated --distortions=false --num_batches=100 --data_name=imagenet\n",
      "python3: can't open file 'tf_cnn_benchmarks.py': [Errno 2] No such file or directory\n",
      "--optimizer=sgd --model=alexnet --num_gpus=1 --batch_size=512 --variable_update=replicated --distortions=false --num_batches=100 --data_name=imagenet\n",
      "python3: can't open file 'tf_cnn_benchmarks.py': [Errno 2] No such file or directory\n",
      "--optimizer=sgd --model=alexnet --num_gpus=1 --batch_size=512 --variable_update=replicated --distortions=false --num_batches=100 --data_name=imagenet\n",
      "python3: can't open file 'tf_cnn_benchmarks.py': [Errno 2] No such file or directory\n",
      "--optimizer=sgd --model=alexnet --num_gpus=1 --batch_size=512 --variable_update=replicated --distortions=false --num_batches=100 --data_name=imagenet\n",
      "python3: can't open file 'tf_cnn_benchmarks.py': [Errno 2] No such file or directory\n",
      "--optimizer=sgd --model=alexnet --num_gpus=1 --batch_size=512 --variable_update=replicated --distortions=false --num_batches=100 --data_name=imagenet\n",
      "python3: can't open file 'tf_cnn_benchmarks.py': [Errno 2] No such file or directory\n",
      "--optimizer=sgd --model=alexnet --num_gpus=1 --batch_size=512 --variable_update=replicated --distortions=false --num_batches=100 --data_name=imagenet\n",
      "python3: can't open file 'tf_cnn_benchmarks.py': [Errno 2] No such file or directory\n",
      "--optimizer=sgd --model=alexnet --num_gpus=1 --batch_size=512 --variable_update=replicated --distortions=false --num_batches=100 --data_name=imagenet\n",
      "python3: can't open file 'tf_cnn_benchmarks.py': [Errno 2] No such file or directory\n",
      "--optimizer=sgd --model=ssd300 --num_gpus=1 --batch_size=32 --variable_update=replicated --distortions=false --num_batches=100 --data_name=coco\n",
      "python3: can't open file 'tf_cnn_benchmarks.py': [Errno 2] No such file or directory\n",
      "--optimizer=sgd --model=ssd300 --num_gpus=1 --batch_size=32 --variable_update=replicated --distortions=false --num_batches=100 --data_name=coco\n",
      "python3: can't open file 'tf_cnn_benchmarks.py': [Errno 2] No such file or directory\n",
      "--optimizer=sgd --model=ssd300 --num_gpus=1 --batch_size=32 --variable_update=replicated --distortions=false --num_batches=100 --data_name=coco\n",
      "python3: can't open file 'tf_cnn_benchmarks.py': [Errno 2] No such file or directory\n",
      "--optimizer=sgd --model=ssd300 --num_gpus=1 --batch_size=32 --variable_update=replicated --distortions=false --num_batches=100 --data_name=coco\n",
      "python3: can't open file 'tf_cnn_benchmarks.py': [Errno 2] No such file or directory\n",
      "--optimizer=sgd --model=ssd300 --num_gpus=1 --batch_size=32 --variable_update=replicated --distortions=false --num_batches=100 --data_name=coco\n",
      "python3: can't open file 'tf_cnn_benchmarks.py': [Errno 2] No such file or directory\n",
      "--optimizer=sgd --model=ssd300 --num_gpus=1 --batch_size=32 --variable_update=replicated --distortions=false --num_batches=100 --data_name=coco\n",
      "python3: can't open file 'tf_cnn_benchmarks.py': [Errno 2] No such file or directory\n",
      "--optimizer=sgd --model=ssd300 --num_gpus=1 --batch_size=32 --variable_update=replicated --distortions=false --num_batches=100 --data_name=coco\n",
      "python3: can't open file 'tf_cnn_benchmarks.py': [Errno 2] No such file or directory\n",
      "--optimizer=sgd --model=ssd300 --num_gpus=1 --batch_size=32 --variable_update=replicated --distortions=false --num_batches=100 --data_name=coco\n",
      "python3: can't open file 'tf_cnn_benchmarks.py': [Errno 2] No such file or directory\n",
      "--optimizer=sgd --model=ssd300 --num_gpus=1 --batch_size=32 --variable_update=replicated --distortions=false --num_batches=100 --data_name=coco\n",
      "python3: can't open file 'tf_cnn_benchmarks.py': [Errno 2] No such file or directory\n",
      "--optimizer=sgd --model=ssd300 --num_gpus=1 --batch_size=32 --variable_update=replicated --distortions=false --num_batches=100 --data_name=coco\n",
      "python3: can't open file 'tf_cnn_benchmarks.py': [Errno 2] No such file or directory\n",
      "--optimizer=sgd --model=resnet50 --num_gpus=1 --batch_size=64 --variable_update=parameter_server --distortions=false --num_batches=100 --data_name=imagenet\n",
      "python3: can't open file 'tf_cnn_benchmarks.py': [Errno 2] No such file or directory\n",
      "--optimizer=sgd --model=resnet50 --num_gpus=1 --batch_size=64 --variable_update=parameter_server --distortions=false --num_batches=100 --data_name=imagenet\n",
      "python3: can't open file 'tf_cnn_benchmarks.py': [Errno 2] No such file or directory\n",
      "--optimizer=sgd --model=resnet50 --num_gpus=1 --batch_size=64 --variable_update=parameter_server --distortions=false --num_batches=100 --data_name=imagenet\n",
      "python3: can't open file 'tf_cnn_benchmarks.py': [Errno 2] No such file or directory\n",
      "--optimizer=sgd --model=resnet50 --num_gpus=1 --batch_size=64 --variable_update=parameter_server --distortions=false --num_batches=100 --data_name=imagenet\n",
      "python3: can't open file 'tf_cnn_benchmarks.py': [Errno 2] No such file or directory\n",
      "--optimizer=sgd --model=resnet50 --num_gpus=1 --batch_size=64 --variable_update=parameter_server --distortions=false --num_batches=100 --data_name=imagenet\n"
     ]
    },
    {
     "name": "stdout",
     "output_type": "stream",
     "text": [
      "python3: can't open file 'tf_cnn_benchmarks.py': [Errno 2] No such file or directory\n",
      "--optimizer=sgd --model=resnet50 --num_gpus=1 --batch_size=64 --variable_update=parameter_server --distortions=false --num_batches=100 --data_name=imagenet\n",
      "python3: can't open file 'tf_cnn_benchmarks.py': [Errno 2] No such file or directory\n",
      "--optimizer=sgd --model=resnet50 --num_gpus=1 --batch_size=64 --variable_update=parameter_server --distortions=false --num_batches=100 --data_name=imagenet\n",
      "python3: can't open file 'tf_cnn_benchmarks.py': [Errno 2] No such file or directory\n",
      "--optimizer=sgd --model=resnet50 --num_gpus=1 --batch_size=64 --variable_update=parameter_server --distortions=false --num_batches=100 --data_name=imagenet\n",
      "python3: can't open file 'tf_cnn_benchmarks.py': [Errno 2] No such file or directory\n",
      "--optimizer=sgd --model=resnet50 --num_gpus=1 --batch_size=64 --variable_update=parameter_server --distortions=false --num_batches=100 --data_name=imagenet\n",
      "python3: can't open file 'tf_cnn_benchmarks.py': [Errno 2] No such file or directory\n",
      "--optimizer=sgd --model=resnet50 --num_gpus=1 --batch_size=64 --variable_update=parameter_server --distortions=false --num_batches=100 --data_name=imagenet\n",
      "python3: can't open file 'tf_cnn_benchmarks.py': [Errno 2] No such file or directory\n",
      "--optimizer=sgd --model=resnet152 --num_gpus=1 --batch_size=32 --variable_update=parameter_server --distortions=false --num_batches=100 --data_name=imagenet\n",
      "python3: can't open file 'tf_cnn_benchmarks.py': [Errno 2] No such file or directory\n",
      "--optimizer=sgd --model=resnet152 --num_gpus=1 --batch_size=32 --variable_update=parameter_server --distortions=false --num_batches=100 --data_name=imagenet\n",
      "python3: can't open file 'tf_cnn_benchmarks.py': [Errno 2] No such file or directory\n",
      "--optimizer=sgd --model=resnet152 --num_gpus=1 --batch_size=32 --variable_update=parameter_server --distortions=false --num_batches=100 --data_name=imagenet\n",
      "python3: can't open file 'tf_cnn_benchmarks.py': [Errno 2] No such file or directory\n",
      "--optimizer=sgd --model=resnet152 --num_gpus=1 --batch_size=32 --variable_update=parameter_server --distortions=false --num_batches=100 --data_name=imagenet\n",
      "python3: can't open file 'tf_cnn_benchmarks.py': [Errno 2] No such file or directory\n",
      "--optimizer=sgd --model=resnet152 --num_gpus=1 --batch_size=32 --variable_update=parameter_server --distortions=false --num_batches=100 --data_name=imagenet\n",
      "python3: can't open file 'tf_cnn_benchmarks.py': [Errno 2] No such file or directory\n",
      "--optimizer=sgd --model=resnet152 --num_gpus=1 --batch_size=32 --variable_update=parameter_server --distortions=false --num_batches=100 --data_name=imagenet\n",
      "python3: can't open file 'tf_cnn_benchmarks.py': [Errno 2] No such file or directory\n",
      "--optimizer=sgd --model=resnet152 --num_gpus=1 --batch_size=32 --variable_update=parameter_server --distortions=false --num_batches=100 --data_name=imagenet\n",
      "python3: can't open file 'tf_cnn_benchmarks.py': [Errno 2] No such file or directory\n",
      "--optimizer=sgd --model=resnet152 --num_gpus=1 --batch_size=32 --variable_update=parameter_server --distortions=false --num_batches=100 --data_name=imagenet\n",
      "python3: can't open file 'tf_cnn_benchmarks.py': [Errno 2] No such file or directory\n",
      "--optimizer=sgd --model=resnet152 --num_gpus=1 --batch_size=32 --variable_update=parameter_server --distortions=false --num_batches=100 --data_name=imagenet\n",
      "python3: can't open file 'tf_cnn_benchmarks.py': [Errno 2] No such file or directory\n",
      "--optimizer=sgd --model=resnet152 --num_gpus=1 --batch_size=32 --variable_update=parameter_server --distortions=false --num_batches=100 --data_name=imagenet\n",
      "python3: can't open file 'tf_cnn_benchmarks.py': [Errno 2] No such file or directory\n",
      "--optimizer=sgd --model=inception3 --num_gpus=1 --batch_size=64 --variable_update=parameter_server --distortions=false --num_batches=100 --data_name=imagenet\n",
      "python3: can't open file 'tf_cnn_benchmarks.py': [Errno 2] No such file or directory\n",
      "--optimizer=sgd --model=inception3 --num_gpus=1 --batch_size=64 --variable_update=parameter_server --distortions=false --num_batches=100 --data_name=imagenet\n",
      "python3: can't open file 'tf_cnn_benchmarks.py': [Errno 2] No such file or directory\n",
      "--optimizer=sgd --model=inception3 --num_gpus=1 --batch_size=64 --variable_update=parameter_server --distortions=false --num_batches=100 --data_name=imagenet\n",
      "python3: can't open file 'tf_cnn_benchmarks.py': [Errno 2] No such file or directory\n",
      "--optimizer=sgd --model=inception3 --num_gpus=1 --batch_size=64 --variable_update=parameter_server --distortions=false --num_batches=100 --data_name=imagenet\n",
      "python3: can't open file 'tf_cnn_benchmarks.py': [Errno 2] No such file or directory\n",
      "--optimizer=sgd --model=inception3 --num_gpus=1 --batch_size=64 --variable_update=parameter_server --distortions=false --num_batches=100 --data_name=imagenet\n",
      "python3: can't open file 'tf_cnn_benchmarks.py': [Errno 2] No such file or directory\n",
      "--optimizer=sgd --model=inception3 --num_gpus=1 --batch_size=64 --variable_update=parameter_server --distortions=false --num_batches=100 --data_name=imagenet\n",
      "python3: can't open file 'tf_cnn_benchmarks.py': [Errno 2] No such file or directory\n",
      "--optimizer=sgd --model=inception3 --num_gpus=1 --batch_size=64 --variable_update=parameter_server --distortions=false --num_batches=100 --data_name=imagenet\n",
      "python3: can't open file 'tf_cnn_benchmarks.py': [Errno 2] No such file or directory\n",
      "--optimizer=sgd --model=inception3 --num_gpus=1 --batch_size=64 --variable_update=parameter_server --distortions=false --num_batches=100 --data_name=imagenet\n",
      "python3: can't open file 'tf_cnn_benchmarks.py': [Errno 2] No such file or directory\n",
      "--optimizer=sgd --model=inception3 --num_gpus=1 --batch_size=64 --variable_update=parameter_server --distortions=false --num_batches=100 --data_name=imagenet\n",
      "python3: can't open file 'tf_cnn_benchmarks.py': [Errno 2] No such file or directory\n",
      "--optimizer=sgd --model=inception3 --num_gpus=1 --batch_size=64 --variable_update=parameter_server --distortions=false --num_batches=100 --data_name=imagenet\n",
      "python3: can't open file 'tf_cnn_benchmarks.py': [Errno 2] No such file or directory\n",
      "--optimizer=sgd --model=inception4 --num_gpus=1 --batch_size=16 --variable_update=parameter_server --distortions=false --num_batches=100 --data_name=imagenet\n",
      "python3: can't open file 'tf_cnn_benchmarks.py': [Errno 2] No such file or directory\n",
      "--optimizer=sgd --model=inception4 --num_gpus=1 --batch_size=16 --variable_update=parameter_server --distortions=false --num_batches=100 --data_name=imagenet\n",
      "python3: can't open file 'tf_cnn_benchmarks.py': [Errno 2] No such file or directory\n",
      "--optimizer=sgd --model=inception4 --num_gpus=1 --batch_size=16 --variable_update=parameter_server --distortions=false --num_batches=100 --data_name=imagenet\n",
      "python3: can't open file 'tf_cnn_benchmarks.py': [Errno 2] No such file or directory\n",
      "--optimizer=sgd --model=inception4 --num_gpus=1 --batch_size=16 --variable_update=parameter_server --distortions=false --num_batches=100 --data_name=imagenet\n",
      "python3: can't open file 'tf_cnn_benchmarks.py': [Errno 2] No such file or directory\n",
      "--optimizer=sgd --model=inception4 --num_gpus=1 --batch_size=16 --variable_update=parameter_server --distortions=false --num_batches=100 --data_name=imagenet\n",
      "python3: can't open file 'tf_cnn_benchmarks.py': [Errno 2] No such file or directory\n",
      "--optimizer=sgd --model=inception4 --num_gpus=1 --batch_size=16 --variable_update=parameter_server --distortions=false --num_batches=100 --data_name=imagenet\n",
      "python3: can't open file 'tf_cnn_benchmarks.py': [Errno 2] No such file or directory\n",
      "--optimizer=sgd --model=inception4 --num_gpus=1 --batch_size=16 --variable_update=parameter_server --distortions=false --num_batches=100 --data_name=imagenet\n",
      "python3: can't open file 'tf_cnn_benchmarks.py': [Errno 2] No such file or directory\n",
      "--optimizer=sgd --model=inception4 --num_gpus=1 --batch_size=16 --variable_update=parameter_server --distortions=false --num_batches=100 --data_name=imagenet\n",
      "python3: can't open file 'tf_cnn_benchmarks.py': [Errno 2] No such file or directory\n",
      "--optimizer=sgd --model=inception4 --num_gpus=1 --batch_size=16 --variable_update=parameter_server --distortions=false --num_batches=100 --data_name=imagenet\n",
      "python3: can't open file 'tf_cnn_benchmarks.py': [Errno 2] No such file or directory\n",
      "--optimizer=sgd --model=inception4 --num_gpus=1 --batch_size=16 --variable_update=parameter_server --distortions=false --num_batches=100 --data_name=imagenet\n"
     ]
    },
    {
     "name": "stdout",
     "output_type": "stream",
     "text": [
      "python3: can't open file 'tf_cnn_benchmarks.py': [Errno 2] No such file or directory\n",
      "--optimizer=sgd --model=vgg16 --num_gpus=1 --batch_size=64 --variable_update=parameter_server --distortions=false --num_batches=100 --data_name=imagenet\n",
      "python3: can't open file 'tf_cnn_benchmarks.py': [Errno 2] No such file or directory\n",
      "--optimizer=sgd --model=vgg16 --num_gpus=1 --batch_size=64 --variable_update=parameter_server --distortions=false --num_batches=100 --data_name=imagenet\n",
      "python3: can't open file 'tf_cnn_benchmarks.py': [Errno 2] No such file or directory\n",
      "--optimizer=sgd --model=vgg16 --num_gpus=1 --batch_size=64 --variable_update=parameter_server --distortions=false --num_batches=100 --data_name=imagenet\n",
      "python3: can't open file 'tf_cnn_benchmarks.py': [Errno 2] No such file or directory\n",
      "--optimizer=sgd --model=vgg16 --num_gpus=1 --batch_size=64 --variable_update=parameter_server --distortions=false --num_batches=100 --data_name=imagenet\n",
      "python3: can't open file 'tf_cnn_benchmarks.py': [Errno 2] No such file or directory\n",
      "--optimizer=sgd --model=vgg16 --num_gpus=1 --batch_size=64 --variable_update=parameter_server --distortions=false --num_batches=100 --data_name=imagenet\n",
      "python3: can't open file 'tf_cnn_benchmarks.py': [Errno 2] No such file or directory\n",
      "--optimizer=sgd --model=vgg16 --num_gpus=1 --batch_size=64 --variable_update=parameter_server --distortions=false --num_batches=100 --data_name=imagenet\n",
      "python3: can't open file 'tf_cnn_benchmarks.py': [Errno 2] No such file or directory\n",
      "--optimizer=sgd --model=vgg16 --num_gpus=1 --batch_size=64 --variable_update=parameter_server --distortions=false --num_batches=100 --data_name=imagenet\n",
      "python3: can't open file 'tf_cnn_benchmarks.py': [Errno 2] No such file or directory\n",
      "--optimizer=sgd --model=vgg16 --num_gpus=1 --batch_size=64 --variable_update=parameter_server --distortions=false --num_batches=100 --data_name=imagenet\n",
      "python3: can't open file 'tf_cnn_benchmarks.py': [Errno 2] No such file or directory\n",
      "--optimizer=sgd --model=vgg16 --num_gpus=1 --batch_size=64 --variable_update=parameter_server --distortions=false --num_batches=100 --data_name=imagenet\n",
      "python3: can't open file 'tf_cnn_benchmarks.py': [Errno 2] No such file or directory\n",
      "--optimizer=sgd --model=vgg16 --num_gpus=1 --batch_size=64 --variable_update=parameter_server --distortions=false --num_batches=100 --data_name=imagenet\n",
      "python3: can't open file 'tf_cnn_benchmarks.py': [Errno 2] No such file or directory\n",
      "--optimizer=sgd --model=alexnet --num_gpus=1 --batch_size=512 --variable_update=parameter_server --distortions=false --num_batches=100 --data_name=imagenet\n",
      "python3: can't open file 'tf_cnn_benchmarks.py': [Errno 2] No such file or directory\n",
      "--optimizer=sgd --model=alexnet --num_gpus=1 --batch_size=512 --variable_update=parameter_server --distortions=false --num_batches=100 --data_name=imagenet\n",
      "python3: can't open file 'tf_cnn_benchmarks.py': [Errno 2] No such file or directory\n",
      "--optimizer=sgd --model=alexnet --num_gpus=1 --batch_size=512 --variable_update=parameter_server --distortions=false --num_batches=100 --data_name=imagenet\n",
      "python3: can't open file 'tf_cnn_benchmarks.py': [Errno 2] No such file or directory\n",
      "--optimizer=sgd --model=alexnet --num_gpus=1 --batch_size=512 --variable_update=parameter_server --distortions=false --num_batches=100 --data_name=imagenet\n",
      "python3: can't open file 'tf_cnn_benchmarks.py': [Errno 2] No such file or directory\n",
      "--optimizer=sgd --model=alexnet --num_gpus=1 --batch_size=512 --variable_update=parameter_server --distortions=false --num_batches=100 --data_name=imagenet\n",
      "python3: can't open file 'tf_cnn_benchmarks.py': [Errno 2] No such file or directory\n",
      "--optimizer=sgd --model=alexnet --num_gpus=1 --batch_size=512 --variable_update=parameter_server --distortions=false --num_batches=100 --data_name=imagenet\n",
      "python3: can't open file 'tf_cnn_benchmarks.py': [Errno 2] No such file or directory\n",
      "--optimizer=sgd --model=alexnet --num_gpus=1 --batch_size=512 --variable_update=parameter_server --distortions=false --num_batches=100 --data_name=imagenet\n",
      "python3: can't open file 'tf_cnn_benchmarks.py': [Errno 2] No such file or directory\n",
      "--optimizer=sgd --model=alexnet --num_gpus=1 --batch_size=512 --variable_update=parameter_server --distortions=false --num_batches=100 --data_name=imagenet\n",
      "python3: can't open file 'tf_cnn_benchmarks.py': [Errno 2] No such file or directory\n",
      "--optimizer=sgd --model=alexnet --num_gpus=1 --batch_size=512 --variable_update=parameter_server --distortions=false --num_batches=100 --data_name=imagenet\n",
      "python3: can't open file 'tf_cnn_benchmarks.py': [Errno 2] No such file or directory\n",
      "--optimizer=sgd --model=alexnet --num_gpus=1 --batch_size=512 --variable_update=parameter_server --distortions=false --num_batches=100 --data_name=imagenet\n",
      "python3: can't open file 'tf_cnn_benchmarks.py': [Errno 2] No such file or directory\n",
      "--optimizer=sgd --model=ssd300 --num_gpus=1 --batch_size=32 --variable_update=parameter_server --distortions=false --num_batches=100 --data_name=coco\n",
      "python3: can't open file 'tf_cnn_benchmarks.py': [Errno 2] No such file or directory\n",
      "--optimizer=sgd --model=ssd300 --num_gpus=1 --batch_size=32 --variable_update=parameter_server --distortions=false --num_batches=100 --data_name=coco\n",
      "python3: can't open file 'tf_cnn_benchmarks.py': [Errno 2] No such file or directory\n",
      "--optimizer=sgd --model=ssd300 --num_gpus=1 --batch_size=32 --variable_update=parameter_server --distortions=false --num_batches=100 --data_name=coco\n",
      "python3: can't open file 'tf_cnn_benchmarks.py': [Errno 2] No such file or directory\n",
      "--optimizer=sgd --model=ssd300 --num_gpus=1 --batch_size=32 --variable_update=parameter_server --distortions=false --num_batches=100 --data_name=coco\n",
      "python3: can't open file 'tf_cnn_benchmarks.py': [Errno 2] No such file or directory\n",
      "--optimizer=sgd --model=ssd300 --num_gpus=1 --batch_size=32 --variable_update=parameter_server --distortions=false --num_batches=100 --data_name=coco\n",
      "python3: can't open file 'tf_cnn_benchmarks.py': [Errno 2] No such file or directory\n",
      "--optimizer=sgd --model=ssd300 --num_gpus=1 --batch_size=32 --variable_update=parameter_server --distortions=false --num_batches=100 --data_name=coco\n",
      "python3: can't open file 'tf_cnn_benchmarks.py': [Errno 2] No such file or directory\n",
      "--optimizer=sgd --model=ssd300 --num_gpus=1 --batch_size=32 --variable_update=parameter_server --distortions=false --num_batches=100 --data_name=coco\n",
      "python3: can't open file 'tf_cnn_benchmarks.py': [Errno 2] No such file or directory\n",
      "--optimizer=sgd --model=ssd300 --num_gpus=1 --batch_size=32 --variable_update=parameter_server --distortions=false --num_batches=100 --data_name=coco\n",
      "python3: can't open file 'tf_cnn_benchmarks.py': [Errno 2] No such file or directory\n",
      "--optimizer=sgd --model=ssd300 --num_gpus=1 --batch_size=32 --variable_update=parameter_server --distortions=false --num_batches=100 --data_name=coco\n",
      "python3: can't open file 'tf_cnn_benchmarks.py': [Errno 2] No such file or directory\n",
      "--optimizer=sgd --model=ssd300 --num_gpus=1 --batch_size=32 --variable_update=parameter_server --distortions=false --num_batches=100 --data_name=coco\n",
      "python3: can't open file 'tf_cnn_benchmarks.py': [Errno 2] No such file or directory\n",
      "--optimizer=sgd --model=resnet50 --num_gpus=1 --batch_size=64 --variable_update=replicated --distortions=false --num_batches=100 --data_name=imagenet --use_fp16=True\n",
      "python3: can't open file 'tf_cnn_benchmarks.py': [Errno 2] No such file or directory\n",
      "--optimizer=sgd --model=resnet50 --num_gpus=1 --batch_size=64 --variable_update=replicated --distortions=false --num_batches=100 --data_name=imagenet --use_fp16=True\n",
      "python3: can't open file 'tf_cnn_benchmarks.py': [Errno 2] No such file or directory\n",
      "--optimizer=sgd --model=resnet50 --num_gpus=1 --batch_size=64 --variable_update=replicated --distortions=false --num_batches=100 --data_name=imagenet --use_fp16=True\n",
      "python3: can't open file 'tf_cnn_benchmarks.py': [Errno 2] No such file or directory\n",
      "--optimizer=sgd --model=resnet50 --num_gpus=1 --batch_size=64 --variable_update=replicated --distortions=false --num_batches=100 --data_name=imagenet --use_fp16=True\n",
      "python3: can't open file 'tf_cnn_benchmarks.py': [Errno 2] No such file or directory\n",
      "--optimizer=sgd --model=resnet50 --num_gpus=1 --batch_size=64 --variable_update=replicated --distortions=false --num_batches=100 --data_name=imagenet --use_fp16=True\n",
      "python3: can't open file 'tf_cnn_benchmarks.py': [Errno 2] No such file or directory\n",
      "--optimizer=sgd --model=resnet50 --num_gpus=1 --batch_size=64 --variable_update=replicated --distortions=false --num_batches=100 --data_name=imagenet --use_fp16=True\n",
      "python3: can't open file 'tf_cnn_benchmarks.py': [Errno 2] No such file or directory\n",
      "--optimizer=sgd --model=resnet50 --num_gpus=1 --batch_size=64 --variable_update=replicated --distortions=false --num_batches=100 --data_name=imagenet --use_fp16=True\n",
      "python3: can't open file 'tf_cnn_benchmarks.py': [Errno 2] No such file or directory\n",
      "--optimizer=sgd --model=resnet50 --num_gpus=1 --batch_size=64 --variable_update=replicated --distortions=false --num_batches=100 --data_name=imagenet --use_fp16=True\n"
     ]
    },
    {
     "name": "stdout",
     "output_type": "stream",
     "text": [
      "python3: can't open file 'tf_cnn_benchmarks.py': [Errno 2] No such file or directory\n",
      "--optimizer=sgd --model=resnet50 --num_gpus=1 --batch_size=64 --variable_update=replicated --distortions=false --num_batches=100 --data_name=imagenet --use_fp16=True\n",
      "python3: can't open file 'tf_cnn_benchmarks.py': [Errno 2] No such file or directory\n",
      "--optimizer=sgd --model=resnet50 --num_gpus=1 --batch_size=64 --variable_update=replicated --distortions=false --num_batches=100 --data_name=imagenet --use_fp16=True\n",
      "python3: can't open file 'tf_cnn_benchmarks.py': [Errno 2] No such file or directory\n",
      "--optimizer=sgd --model=resnet152 --num_gpus=1 --batch_size=32 --variable_update=replicated --distortions=false --num_batches=100 --data_name=imagenet --use_fp16=True\n",
      "python3: can't open file 'tf_cnn_benchmarks.py': [Errno 2] No such file or directory\n",
      "--optimizer=sgd --model=resnet152 --num_gpus=1 --batch_size=32 --variable_update=replicated --distortions=false --num_batches=100 --data_name=imagenet --use_fp16=True\n",
      "python3: can't open file 'tf_cnn_benchmarks.py': [Errno 2] No such file or directory\n",
      "--optimizer=sgd --model=resnet152 --num_gpus=1 --batch_size=32 --variable_update=replicated --distortions=false --num_batches=100 --data_name=imagenet --use_fp16=True\n",
      "python3: can't open file 'tf_cnn_benchmarks.py': [Errno 2] No such file or directory\n",
      "--optimizer=sgd --model=resnet152 --num_gpus=1 --batch_size=32 --variable_update=replicated --distortions=false --num_batches=100 --data_name=imagenet --use_fp16=True\n",
      "python3: can't open file 'tf_cnn_benchmarks.py': [Errno 2] No such file or directory\n",
      "--optimizer=sgd --model=resnet152 --num_gpus=1 --batch_size=32 --variable_update=replicated --distortions=false --num_batches=100 --data_name=imagenet --use_fp16=True\n",
      "python3: can't open file 'tf_cnn_benchmarks.py': [Errno 2] No such file or directory\n",
      "--optimizer=sgd --model=resnet152 --num_gpus=1 --batch_size=32 --variable_update=replicated --distortions=false --num_batches=100 --data_name=imagenet --use_fp16=True\n",
      "python3: can't open file 'tf_cnn_benchmarks.py': [Errno 2] No such file or directory\n",
      "--optimizer=sgd --model=resnet152 --num_gpus=1 --batch_size=32 --variable_update=replicated --distortions=false --num_batches=100 --data_name=imagenet --use_fp16=True\n",
      "python3: can't open file 'tf_cnn_benchmarks.py': [Errno 2] No such file or directory\n",
      "--optimizer=sgd --model=resnet152 --num_gpus=1 --batch_size=32 --variable_update=replicated --distortions=false --num_batches=100 --data_name=imagenet --use_fp16=True\n",
      "python3: can't open file 'tf_cnn_benchmarks.py': [Errno 2] No such file or directory\n",
      "--optimizer=sgd --model=resnet152 --num_gpus=1 --batch_size=32 --variable_update=replicated --distortions=false --num_batches=100 --data_name=imagenet --use_fp16=True\n",
      "python3: can't open file 'tf_cnn_benchmarks.py': [Errno 2] No such file or directory\n",
      "--optimizer=sgd --model=resnet152 --num_gpus=1 --batch_size=32 --variable_update=replicated --distortions=false --num_batches=100 --data_name=imagenet --use_fp16=True\n",
      "python3: can't open file 'tf_cnn_benchmarks.py': [Errno 2] No such file or directory\n",
      "--optimizer=sgd --model=inception3 --num_gpus=1 --batch_size=64 --variable_update=replicated --distortions=false --num_batches=100 --data_name=imagenet --use_fp16=True\n",
      "python3: can't open file 'tf_cnn_benchmarks.py': [Errno 2] No such file or directory\n",
      "--optimizer=sgd --model=inception3 --num_gpus=1 --batch_size=64 --variable_update=replicated --distortions=false --num_batches=100 --data_name=imagenet --use_fp16=True\n",
      "python3: can't open file 'tf_cnn_benchmarks.py': [Errno 2] No such file or directory\n",
      "--optimizer=sgd --model=inception3 --num_gpus=1 --batch_size=64 --variable_update=replicated --distortions=false --num_batches=100 --data_name=imagenet --use_fp16=True\n",
      "python3: can't open file 'tf_cnn_benchmarks.py': [Errno 2] No such file or directory\n",
      "--optimizer=sgd --model=inception3 --num_gpus=1 --batch_size=64 --variable_update=replicated --distortions=false --num_batches=100 --data_name=imagenet --use_fp16=True\n",
      "python3: can't open file 'tf_cnn_benchmarks.py': [Errno 2] No such file or directory\n",
      "--optimizer=sgd --model=inception3 --num_gpus=1 --batch_size=64 --variable_update=replicated --distortions=false --num_batches=100 --data_name=imagenet --use_fp16=True\n",
      "python3: can't open file 'tf_cnn_benchmarks.py': [Errno 2] No such file or directory\n",
      "--optimizer=sgd --model=inception3 --num_gpus=1 --batch_size=64 --variable_update=replicated --distortions=false --num_batches=100 --data_name=imagenet --use_fp16=True\n",
      "python3: can't open file 'tf_cnn_benchmarks.py': [Errno 2] No such file or directory\n",
      "--optimizer=sgd --model=inception3 --num_gpus=1 --batch_size=64 --variable_update=replicated --distortions=false --num_batches=100 --data_name=imagenet --use_fp16=True\n",
      "python3: can't open file 'tf_cnn_benchmarks.py': [Errno 2] No such file or directory\n",
      "--optimizer=sgd --model=inception3 --num_gpus=1 --batch_size=64 --variable_update=replicated --distortions=false --num_batches=100 --data_name=imagenet --use_fp16=True\n",
      "python3: can't open file 'tf_cnn_benchmarks.py': [Errno 2] No such file or directory\n",
      "--optimizer=sgd --model=inception3 --num_gpus=1 --batch_size=64 --variable_update=replicated --distortions=false --num_batches=100 --data_name=imagenet --use_fp16=True\n",
      "python3: can't open file 'tf_cnn_benchmarks.py': [Errno 2] No such file or directory\n",
      "--optimizer=sgd --model=inception3 --num_gpus=1 --batch_size=64 --variable_update=replicated --distortions=false --num_batches=100 --data_name=imagenet --use_fp16=True\n",
      "python3: can't open file 'tf_cnn_benchmarks.py': [Errno 2] No such file or directory\n",
      "--optimizer=sgd --model=inception4 --num_gpus=1 --batch_size=16 --variable_update=replicated --distortions=false --num_batches=100 --data_name=imagenet --use_fp16=True\n",
      "python3: can't open file 'tf_cnn_benchmarks.py': [Errno 2] No such file or directory\n",
      "--optimizer=sgd --model=inception4 --num_gpus=1 --batch_size=16 --variable_update=replicated --distortions=false --num_batches=100 --data_name=imagenet --use_fp16=True\n",
      "python3: can't open file 'tf_cnn_benchmarks.py': [Errno 2] No such file or directory\n",
      "--optimizer=sgd --model=inception4 --num_gpus=1 --batch_size=16 --variable_update=replicated --distortions=false --num_batches=100 --data_name=imagenet --use_fp16=True\n",
      "python3: can't open file 'tf_cnn_benchmarks.py': [Errno 2] No such file or directory\n",
      "--optimizer=sgd --model=inception4 --num_gpus=1 --batch_size=16 --variable_update=replicated --distortions=false --num_batches=100 --data_name=imagenet --use_fp16=True\n",
      "python3: can't open file 'tf_cnn_benchmarks.py': [Errno 2] No such file or directory\n",
      "--optimizer=sgd --model=inception4 --num_gpus=1 --batch_size=16 --variable_update=replicated --distortions=false --num_batches=100 --data_name=imagenet --use_fp16=True\n",
      "python3: can't open file 'tf_cnn_benchmarks.py': [Errno 2] No such file or directory\n",
      "--optimizer=sgd --model=inception4 --num_gpus=1 --batch_size=16 --variable_update=replicated --distortions=false --num_batches=100 --data_name=imagenet --use_fp16=True\n",
      "python3: can't open file 'tf_cnn_benchmarks.py': [Errno 2] No such file or directory\n",
      "--optimizer=sgd --model=inception4 --num_gpus=1 --batch_size=16 --variable_update=replicated --distortions=false --num_batches=100 --data_name=imagenet --use_fp16=True\n",
      "python3: can't open file 'tf_cnn_benchmarks.py': [Errno 2] No such file or directory\n",
      "--optimizer=sgd --model=inception4 --num_gpus=1 --batch_size=16 --variable_update=replicated --distortions=false --num_batches=100 --data_name=imagenet --use_fp16=True\n",
      "python3: can't open file 'tf_cnn_benchmarks.py': [Errno 2] No such file or directory\n",
      "--optimizer=sgd --model=inception4 --num_gpus=1 --batch_size=16 --variable_update=replicated --distortions=false --num_batches=100 --data_name=imagenet --use_fp16=True\n",
      "python3: can't open file 'tf_cnn_benchmarks.py': [Errno 2] No such file or directory\n",
      "--optimizer=sgd --model=inception4 --num_gpus=1 --batch_size=16 --variable_update=replicated --distortions=false --num_batches=100 --data_name=imagenet --use_fp16=True\n",
      "python3: can't open file 'tf_cnn_benchmarks.py': [Errno 2] No such file or directory\n",
      "--optimizer=sgd --model=vgg16 --num_gpus=1 --batch_size=64 --variable_update=replicated --distortions=false --num_batches=100 --data_name=imagenet --use_fp16=True\n",
      "python3: can't open file 'tf_cnn_benchmarks.py': [Errno 2] No such file or directory\n",
      "--optimizer=sgd --model=vgg16 --num_gpus=1 --batch_size=64 --variable_update=replicated --distortions=false --num_batches=100 --data_name=imagenet --use_fp16=True\n",
      "python3: can't open file 'tf_cnn_benchmarks.py': [Errno 2] No such file or directory\n",
      "--optimizer=sgd --model=vgg16 --num_gpus=1 --batch_size=64 --variable_update=replicated --distortions=false --num_batches=100 --data_name=imagenet --use_fp16=True\n"
     ]
    },
    {
     "name": "stdout",
     "output_type": "stream",
     "text": [
      "python3: can't open file 'tf_cnn_benchmarks.py': [Errno 2] No such file or directory\n",
      "--optimizer=sgd --model=vgg16 --num_gpus=1 --batch_size=64 --variable_update=replicated --distortions=false --num_batches=100 --data_name=imagenet --use_fp16=True\n",
      "python3: can't open file 'tf_cnn_benchmarks.py': [Errno 2] No such file or directory\n",
      "--optimizer=sgd --model=vgg16 --num_gpus=1 --batch_size=64 --variable_update=replicated --distortions=false --num_batches=100 --data_name=imagenet --use_fp16=True\n",
      "python3: can't open file 'tf_cnn_benchmarks.py': [Errno 2] No such file or directory\n",
      "--optimizer=sgd --model=vgg16 --num_gpus=1 --batch_size=64 --variable_update=replicated --distortions=false --num_batches=100 --data_name=imagenet --use_fp16=True\n",
      "python3: can't open file 'tf_cnn_benchmarks.py': [Errno 2] No such file or directory\n",
      "--optimizer=sgd --model=vgg16 --num_gpus=1 --batch_size=64 --variable_update=replicated --distortions=false --num_batches=100 --data_name=imagenet --use_fp16=True\n",
      "python3: can't open file 'tf_cnn_benchmarks.py': [Errno 2] No such file or directory\n",
      "--optimizer=sgd --model=vgg16 --num_gpus=1 --batch_size=64 --variable_update=replicated --distortions=false --num_batches=100 --data_name=imagenet --use_fp16=True\n",
      "python3: can't open file 'tf_cnn_benchmarks.py': [Errno 2] No such file or directory\n",
      "--optimizer=sgd --model=vgg16 --num_gpus=1 --batch_size=64 --variable_update=replicated --distortions=false --num_batches=100 --data_name=imagenet --use_fp16=True\n",
      "python3: can't open file 'tf_cnn_benchmarks.py': [Errno 2] No such file or directory\n",
      "--optimizer=sgd --model=vgg16 --num_gpus=1 --batch_size=64 --variable_update=replicated --distortions=false --num_batches=100 --data_name=imagenet --use_fp16=True\n",
      "python3: can't open file 'tf_cnn_benchmarks.py': [Errno 2] No such file or directory\n",
      "--optimizer=sgd --model=alexnet --num_gpus=1 --batch_size=512 --variable_update=replicated --distortions=false --num_batches=100 --data_name=imagenet --use_fp16=True\n",
      "python3: can't open file 'tf_cnn_benchmarks.py': [Errno 2] No such file or directory\n",
      "--optimizer=sgd --model=alexnet --num_gpus=1 --batch_size=512 --variable_update=replicated --distortions=false --num_batches=100 --data_name=imagenet --use_fp16=True\n",
      "python3: can't open file 'tf_cnn_benchmarks.py': [Errno 2] No such file or directory\n",
      "--optimizer=sgd --model=alexnet --num_gpus=1 --batch_size=512 --variable_update=replicated --distortions=false --num_batches=100 --data_name=imagenet --use_fp16=True\n",
      "python3: can't open file 'tf_cnn_benchmarks.py': [Errno 2] No such file or directory\n",
      "--optimizer=sgd --model=alexnet --num_gpus=1 --batch_size=512 --variable_update=replicated --distortions=false --num_batches=100 --data_name=imagenet --use_fp16=True\n",
      "python3: can't open file 'tf_cnn_benchmarks.py': [Errno 2] No such file or directory\n",
      "--optimizer=sgd --model=alexnet --num_gpus=1 --batch_size=512 --variable_update=replicated --distortions=false --num_batches=100 --data_name=imagenet --use_fp16=True\n",
      "python3: can't open file 'tf_cnn_benchmarks.py': [Errno 2] No such file or directory\n",
      "--optimizer=sgd --model=alexnet --num_gpus=1 --batch_size=512 --variable_update=replicated --distortions=false --num_batches=100 --data_name=imagenet --use_fp16=True\n",
      "python3: can't open file 'tf_cnn_benchmarks.py': [Errno 2] No such file or directory\n",
      "--optimizer=sgd --model=alexnet --num_gpus=1 --batch_size=512 --variable_update=replicated --distortions=false --num_batches=100 --data_name=imagenet --use_fp16=True\n",
      "python3: can't open file 'tf_cnn_benchmarks.py': [Errno 2] No such file or directory\n",
      "--optimizer=sgd --model=alexnet --num_gpus=1 --batch_size=512 --variable_update=replicated --distortions=false --num_batches=100 --data_name=imagenet --use_fp16=True\n",
      "python3: can't open file 'tf_cnn_benchmarks.py': [Errno 2] No such file or directory\n",
      "--optimizer=sgd --model=alexnet --num_gpus=1 --batch_size=512 --variable_update=replicated --distortions=false --num_batches=100 --data_name=imagenet --use_fp16=True\n",
      "python3: can't open file 'tf_cnn_benchmarks.py': [Errno 2] No such file or directory\n",
      "--optimizer=sgd --model=alexnet --num_gpus=1 --batch_size=512 --variable_update=replicated --distortions=false --num_batches=100 --data_name=imagenet --use_fp16=True\n",
      "python3: can't open file 'tf_cnn_benchmarks.py': [Errno 2] No such file or directory\n",
      "--optimizer=sgd --model=ssd300 --num_gpus=1 --batch_size=32 --variable_update=replicated --distortions=false --num_batches=100 --data_name=coco --use_fp16=True\n",
      "python3: can't open file 'tf_cnn_benchmarks.py': [Errno 2] No such file or directory\n",
      "--optimizer=sgd --model=ssd300 --num_gpus=1 --batch_size=32 --variable_update=replicated --distortions=false --num_batches=100 --data_name=coco --use_fp16=True\n",
      "python3: can't open file 'tf_cnn_benchmarks.py': [Errno 2] No such file or directory\n",
      "--optimizer=sgd --model=ssd300 --num_gpus=1 --batch_size=32 --variable_update=replicated --distortions=false --num_batches=100 --data_name=coco --use_fp16=True\n",
      "python3: can't open file 'tf_cnn_benchmarks.py': [Errno 2] No such file or directory\n",
      "--optimizer=sgd --model=ssd300 --num_gpus=1 --batch_size=32 --variable_update=replicated --distortions=false --num_batches=100 --data_name=coco --use_fp16=True\n",
      "python3: can't open file 'tf_cnn_benchmarks.py': [Errno 2] No such file or directory\n",
      "--optimizer=sgd --model=ssd300 --num_gpus=1 --batch_size=32 --variable_update=replicated --distortions=false --num_batches=100 --data_name=coco --use_fp16=True\n",
      "python3: can't open file 'tf_cnn_benchmarks.py': [Errno 2] No such file or directory\n",
      "--optimizer=sgd --model=ssd300 --num_gpus=1 --batch_size=32 --variable_update=replicated --distortions=false --num_batches=100 --data_name=coco --use_fp16=True\n",
      "python3: can't open file 'tf_cnn_benchmarks.py': [Errno 2] No such file or directory\n",
      "--optimizer=sgd --model=ssd300 --num_gpus=1 --batch_size=32 --variable_update=replicated --distortions=false --num_batches=100 --data_name=coco --use_fp16=True\n",
      "python3: can't open file 'tf_cnn_benchmarks.py': [Errno 2] No such file or directory\n",
      "--optimizer=sgd --model=ssd300 --num_gpus=1 --batch_size=32 --variable_update=replicated --distortions=false --num_batches=100 --data_name=coco --use_fp16=True\n",
      "python3: can't open file 'tf_cnn_benchmarks.py': [Errno 2] No such file or directory\n",
      "--optimizer=sgd --model=ssd300 --num_gpus=1 --batch_size=32 --variable_update=replicated --distortions=false --num_batches=100 --data_name=coco --use_fp16=True\n",
      "python3: can't open file 'tf_cnn_benchmarks.py': [Errno 2] No such file or directory\n",
      "--optimizer=sgd --model=ssd300 --num_gpus=1 --batch_size=32 --variable_update=replicated --distortions=false --num_batches=100 --data_name=coco --use_fp16=True\n",
      "python3: can't open file 'tf_cnn_benchmarks.py': [Errno 2] No such file or directory\n",
      "--optimizer=sgd --model=resnet50 --num_gpus=1 --batch_size=64 --variable_update=parameter_server --distortions=false --num_batches=100 --data_name=imagenet --use_fp16=True\n",
      "python3: can't open file 'tf_cnn_benchmarks.py': [Errno 2] No such file or directory\n",
      "--optimizer=sgd --model=resnet50 --num_gpus=1 --batch_size=64 --variable_update=parameter_server --distortions=false --num_batches=100 --data_name=imagenet --use_fp16=True\n",
      "python3: can't open file 'tf_cnn_benchmarks.py': [Errno 2] No such file or directory\n",
      "--optimizer=sgd --model=resnet50 --num_gpus=1 --batch_size=64 --variable_update=parameter_server --distortions=false --num_batches=100 --data_name=imagenet --use_fp16=True\n",
      "python3: can't open file 'tf_cnn_benchmarks.py': [Errno 2] No such file or directory\n",
      "--optimizer=sgd --model=resnet50 --num_gpus=1 --batch_size=64 --variable_update=parameter_server --distortions=false --num_batches=100 --data_name=imagenet --use_fp16=True\n",
      "python3: can't open file 'tf_cnn_benchmarks.py': [Errno 2] No such file or directory\n",
      "--optimizer=sgd --model=resnet50 --num_gpus=1 --batch_size=64 --variable_update=parameter_server --distortions=false --num_batches=100 --data_name=imagenet --use_fp16=True\n",
      "python3: can't open file 'tf_cnn_benchmarks.py': [Errno 2] No such file or directory\n",
      "--optimizer=sgd --model=resnet50 --num_gpus=1 --batch_size=64 --variable_update=parameter_server --distortions=false --num_batches=100 --data_name=imagenet --use_fp16=True\n",
      "python3: can't open file 'tf_cnn_benchmarks.py': [Errno 2] No such file or directory\n",
      "--optimizer=sgd --model=resnet50 --num_gpus=1 --batch_size=64 --variable_update=parameter_server --distortions=false --num_batches=100 --data_name=imagenet --use_fp16=True\n",
      "python3: can't open file 'tf_cnn_benchmarks.py': [Errno 2] No such file or directory\n",
      "--optimizer=sgd --model=resnet50 --num_gpus=1 --batch_size=64 --variable_update=parameter_server --distortions=false --num_batches=100 --data_name=imagenet --use_fp16=True\n"
     ]
    },
    {
     "name": "stdout",
     "output_type": "stream",
     "text": [
      "python3: can't open file 'tf_cnn_benchmarks.py': [Errno 2] No such file or directory\n",
      "--optimizer=sgd --model=resnet50 --num_gpus=1 --batch_size=64 --variable_update=parameter_server --distortions=false --num_batches=100 --data_name=imagenet --use_fp16=True\n",
      "python3: can't open file 'tf_cnn_benchmarks.py': [Errno 2] No such file or directory\n",
      "--optimizer=sgd --model=resnet50 --num_gpus=1 --batch_size=64 --variable_update=parameter_server --distortions=false --num_batches=100 --data_name=imagenet --use_fp16=True\n",
      "python3: can't open file 'tf_cnn_benchmarks.py': [Errno 2] No such file or directory\n",
      "--optimizer=sgd --model=resnet152 --num_gpus=1 --batch_size=32 --variable_update=parameter_server --distortions=false --num_batches=100 --data_name=imagenet --use_fp16=True\n",
      "python3: can't open file 'tf_cnn_benchmarks.py': [Errno 2] No such file or directory\n",
      "--optimizer=sgd --model=resnet152 --num_gpus=1 --batch_size=32 --variable_update=parameter_server --distortions=false --num_batches=100 --data_name=imagenet --use_fp16=True\n",
      "python3: can't open file 'tf_cnn_benchmarks.py': [Errno 2] No such file or directory\n",
      "--optimizer=sgd --model=resnet152 --num_gpus=1 --batch_size=32 --variable_update=parameter_server --distortions=false --num_batches=100 --data_name=imagenet --use_fp16=True\n",
      "python3: can't open file 'tf_cnn_benchmarks.py': [Errno 2] No such file or directory\n",
      "--optimizer=sgd --model=resnet152 --num_gpus=1 --batch_size=32 --variable_update=parameter_server --distortions=false --num_batches=100 --data_name=imagenet --use_fp16=True\n",
      "python3: can't open file 'tf_cnn_benchmarks.py': [Errno 2] No such file or directory\n",
      "--optimizer=sgd --model=resnet152 --num_gpus=1 --batch_size=32 --variable_update=parameter_server --distortions=false --num_batches=100 --data_name=imagenet --use_fp16=True\n",
      "python3: can't open file 'tf_cnn_benchmarks.py': [Errno 2] No such file or directory\n",
      "--optimizer=sgd --model=resnet152 --num_gpus=1 --batch_size=32 --variable_update=parameter_server --distortions=false --num_batches=100 --data_name=imagenet --use_fp16=True\n",
      "python3: can't open file 'tf_cnn_benchmarks.py': [Errno 2] No such file or directory\n",
      "--optimizer=sgd --model=resnet152 --num_gpus=1 --batch_size=32 --variable_update=parameter_server --distortions=false --num_batches=100 --data_name=imagenet --use_fp16=True\n",
      "python3: can't open file 'tf_cnn_benchmarks.py': [Errno 2] No such file or directory\n",
      "--optimizer=sgd --model=resnet152 --num_gpus=1 --batch_size=32 --variable_update=parameter_server --distortions=false --num_batches=100 --data_name=imagenet --use_fp16=True\n",
      "python3: can't open file 'tf_cnn_benchmarks.py': [Errno 2] No such file or directory\n",
      "--optimizer=sgd --model=resnet152 --num_gpus=1 --batch_size=32 --variable_update=parameter_server --distortions=false --num_batches=100 --data_name=imagenet --use_fp16=True\n",
      "python3: can't open file 'tf_cnn_benchmarks.py': [Errno 2] No such file or directory\n",
      "--optimizer=sgd --model=resnet152 --num_gpus=1 --batch_size=32 --variable_update=parameter_server --distortions=false --num_batches=100 --data_name=imagenet --use_fp16=True\n",
      "python3: can't open file 'tf_cnn_benchmarks.py': [Errno 2] No such file or directory\n",
      "--optimizer=sgd --model=inception3 --num_gpus=1 --batch_size=64 --variable_update=parameter_server --distortions=false --num_batches=100 --data_name=imagenet --use_fp16=True\n",
      "python3: can't open file 'tf_cnn_benchmarks.py': [Errno 2] No such file or directory\n",
      "--optimizer=sgd --model=inception3 --num_gpus=1 --batch_size=64 --variable_update=parameter_server --distortions=false --num_batches=100 --data_name=imagenet --use_fp16=True\n",
      "python3: can't open file 'tf_cnn_benchmarks.py': [Errno 2] No such file or directory\n",
      "--optimizer=sgd --model=inception3 --num_gpus=1 --batch_size=64 --variable_update=parameter_server --distortions=false --num_batches=100 --data_name=imagenet --use_fp16=True\n",
      "python3: can't open file 'tf_cnn_benchmarks.py': [Errno 2] No such file or directory\n",
      "--optimizer=sgd --model=inception3 --num_gpus=1 --batch_size=64 --variable_update=parameter_server --distortions=false --num_batches=100 --data_name=imagenet --use_fp16=True\n",
      "python3: can't open file 'tf_cnn_benchmarks.py': [Errno 2] No such file or directory\n",
      "--optimizer=sgd --model=inception3 --num_gpus=1 --batch_size=64 --variable_update=parameter_server --distortions=false --num_batches=100 --data_name=imagenet --use_fp16=True\n",
      "python3: can't open file 'tf_cnn_benchmarks.py': [Errno 2] No such file or directory\n",
      "--optimizer=sgd --model=inception3 --num_gpus=1 --batch_size=64 --variable_update=parameter_server --distortions=false --num_batches=100 --data_name=imagenet --use_fp16=True\n",
      "python3: can't open file 'tf_cnn_benchmarks.py': [Errno 2] No such file or directory\n",
      "--optimizer=sgd --model=inception3 --num_gpus=1 --batch_size=64 --variable_update=parameter_server --distortions=false --num_batches=100 --data_name=imagenet --use_fp16=True\n",
      "python3: can't open file 'tf_cnn_benchmarks.py': [Errno 2] No such file or directory\n",
      "--optimizer=sgd --model=inception3 --num_gpus=1 --batch_size=64 --variable_update=parameter_server --distortions=false --num_batches=100 --data_name=imagenet --use_fp16=True\n",
      "python3: can't open file 'tf_cnn_benchmarks.py': [Errno 2] No such file or directory\n",
      "--optimizer=sgd --model=inception3 --num_gpus=1 --batch_size=64 --variable_update=parameter_server --distortions=false --num_batches=100 --data_name=imagenet --use_fp16=True\n",
      "python3: can't open file 'tf_cnn_benchmarks.py': [Errno 2] No such file or directory\n",
      "--optimizer=sgd --model=inception3 --num_gpus=1 --batch_size=64 --variable_update=parameter_server --distortions=false --num_batches=100 --data_name=imagenet --use_fp16=True\n",
      "python3: can't open file 'tf_cnn_benchmarks.py': [Errno 2] No such file or directory\n",
      "--optimizer=sgd --model=inception4 --num_gpus=1 --batch_size=16 --variable_update=parameter_server --distortions=false --num_batches=100 --data_name=imagenet --use_fp16=True\n",
      "python3: can't open file 'tf_cnn_benchmarks.py': [Errno 2] No such file or directory\n",
      "--optimizer=sgd --model=inception4 --num_gpus=1 --batch_size=16 --variable_update=parameter_server --distortions=false --num_batches=100 --data_name=imagenet --use_fp16=True\n",
      "python3: can't open file 'tf_cnn_benchmarks.py': [Errno 2] No such file or directory\n",
      "--optimizer=sgd --model=inception4 --num_gpus=1 --batch_size=16 --variable_update=parameter_server --distortions=false --num_batches=100 --data_name=imagenet --use_fp16=True\n",
      "python3: can't open file 'tf_cnn_benchmarks.py': [Errno 2] No such file or directory\n",
      "--optimizer=sgd --model=inception4 --num_gpus=1 --batch_size=16 --variable_update=parameter_server --distortions=false --num_batches=100 --data_name=imagenet --use_fp16=True\n",
      "python3: can't open file 'tf_cnn_benchmarks.py': [Errno 2] No such file or directory\n",
      "--optimizer=sgd --model=inception4 --num_gpus=1 --batch_size=16 --variable_update=parameter_server --distortions=false --num_batches=100 --data_name=imagenet --use_fp16=True\n",
      "python3: can't open file 'tf_cnn_benchmarks.py': [Errno 2] No such file or directory\n",
      "--optimizer=sgd --model=inception4 --num_gpus=1 --batch_size=16 --variable_update=parameter_server --distortions=false --num_batches=100 --data_name=imagenet --use_fp16=True\n",
      "python3: can't open file 'tf_cnn_benchmarks.py': [Errno 2] No such file or directory\n",
      "--optimizer=sgd --model=inception4 --num_gpus=1 --batch_size=16 --variable_update=parameter_server --distortions=false --num_batches=100 --data_name=imagenet --use_fp16=True\n",
      "python3: can't open file 'tf_cnn_benchmarks.py': [Errno 2] No such file or directory\n",
      "--optimizer=sgd --model=inception4 --num_gpus=1 --batch_size=16 --variable_update=parameter_server --distortions=false --num_batches=100 --data_name=imagenet --use_fp16=True\n",
      "python3: can't open file 'tf_cnn_benchmarks.py': [Errno 2] No such file or directory\n",
      "--optimizer=sgd --model=inception4 --num_gpus=1 --batch_size=16 --variable_update=parameter_server --distortions=false --num_batches=100 --data_name=imagenet --use_fp16=True\n",
      "python3: can't open file 'tf_cnn_benchmarks.py': [Errno 2] No such file or directory\n",
      "--optimizer=sgd --model=inception4 --num_gpus=1 --batch_size=16 --variable_update=parameter_server --distortions=false --num_batches=100 --data_name=imagenet --use_fp16=True\n",
      "python3: can't open file 'tf_cnn_benchmarks.py': [Errno 2] No such file or directory\n",
      "--optimizer=sgd --model=vgg16 --num_gpus=1 --batch_size=64 --variable_update=parameter_server --distortions=false --num_batches=100 --data_name=imagenet --use_fp16=True\n",
      "python3: can't open file 'tf_cnn_benchmarks.py': [Errno 2] No such file or directory\n",
      "--optimizer=sgd --model=vgg16 --num_gpus=1 --batch_size=64 --variable_update=parameter_server --distortions=false --num_batches=100 --data_name=imagenet --use_fp16=True\n",
      "python3: can't open file 'tf_cnn_benchmarks.py': [Errno 2] No such file or directory\n"
     ]
    },
    {
     "name": "stdout",
     "output_type": "stream",
     "text": [
      "--optimizer=sgd --model=vgg16 --num_gpus=1 --batch_size=64 --variable_update=parameter_server --distortions=false --num_batches=100 --data_name=imagenet --use_fp16=True\n",
      "python3: can't open file 'tf_cnn_benchmarks.py': [Errno 2] No such file or directory\n",
      "--optimizer=sgd --model=vgg16 --num_gpus=1 --batch_size=64 --variable_update=parameter_server --distortions=false --num_batches=100 --data_name=imagenet --use_fp16=True\n",
      "python3: can't open file 'tf_cnn_benchmarks.py': [Errno 2] No such file or directory\n",
      "--optimizer=sgd --model=vgg16 --num_gpus=1 --batch_size=64 --variable_update=parameter_server --distortions=false --num_batches=100 --data_name=imagenet --use_fp16=True\n",
      "python3: can't open file 'tf_cnn_benchmarks.py': [Errno 2] No such file or directory\n",
      "--optimizer=sgd --model=vgg16 --num_gpus=1 --batch_size=64 --variable_update=parameter_server --distortions=false --num_batches=100 --data_name=imagenet --use_fp16=True\n",
      "python3: can't open file 'tf_cnn_benchmarks.py': [Errno 2] No such file or directory\n",
      "--optimizer=sgd --model=vgg16 --num_gpus=1 --batch_size=64 --variable_update=parameter_server --distortions=false --num_batches=100 --data_name=imagenet --use_fp16=True\n",
      "python3: can't open file 'tf_cnn_benchmarks.py': [Errno 2] No such file or directory\n",
      "--optimizer=sgd --model=vgg16 --num_gpus=1 --batch_size=64 --variable_update=parameter_server --distortions=false --num_batches=100 --data_name=imagenet --use_fp16=True\n",
      "python3: can't open file 'tf_cnn_benchmarks.py': [Errno 2] No such file or directory\n",
      "--optimizer=sgd --model=vgg16 --num_gpus=1 --batch_size=64 --variable_update=parameter_server --distortions=false --num_batches=100 --data_name=imagenet --use_fp16=True\n",
      "python3: can't open file 'tf_cnn_benchmarks.py': [Errno 2] No such file or directory\n",
      "--optimizer=sgd --model=vgg16 --num_gpus=1 --batch_size=64 --variable_update=parameter_server --distortions=false --num_batches=100 --data_name=imagenet --use_fp16=True\n",
      "python3: can't open file 'tf_cnn_benchmarks.py': [Errno 2] No such file or directory\n",
      "--optimizer=sgd --model=alexnet --num_gpus=1 --batch_size=512 --variable_update=parameter_server --distortions=false --num_batches=100 --data_name=imagenet --use_fp16=True\n",
      "python3: can't open file 'tf_cnn_benchmarks.py': [Errno 2] No such file or directory\n",
      "--optimizer=sgd --model=alexnet --num_gpus=1 --batch_size=512 --variable_update=parameter_server --distortions=false --num_batches=100 --data_name=imagenet --use_fp16=True\n",
      "python3: can't open file 'tf_cnn_benchmarks.py': [Errno 2] No such file or directory\n",
      "--optimizer=sgd --model=alexnet --num_gpus=1 --batch_size=512 --variable_update=parameter_server --distortions=false --num_batches=100 --data_name=imagenet --use_fp16=True\n",
      "python3: can't open file 'tf_cnn_benchmarks.py': [Errno 2] No such file or directory\n",
      "--optimizer=sgd --model=alexnet --num_gpus=1 --batch_size=512 --variable_update=parameter_server --distortions=false --num_batches=100 --data_name=imagenet --use_fp16=True\n",
      "python3: can't open file 'tf_cnn_benchmarks.py': [Errno 2] No such file or directory\n",
      "--optimizer=sgd --model=alexnet --num_gpus=1 --batch_size=512 --variable_update=parameter_server --distortions=false --num_batches=100 --data_name=imagenet --use_fp16=True\n",
      "python3: can't open file 'tf_cnn_benchmarks.py': [Errno 2] No such file or directory\n",
      "--optimizer=sgd --model=alexnet --num_gpus=1 --batch_size=512 --variable_update=parameter_server --distortions=false --num_batches=100 --data_name=imagenet --use_fp16=True\n",
      "python3: can't open file 'tf_cnn_benchmarks.py': [Errno 2] No such file or directory\n",
      "--optimizer=sgd --model=alexnet --num_gpus=1 --batch_size=512 --variable_update=parameter_server --distortions=false --num_batches=100 --data_name=imagenet --use_fp16=True\n",
      "python3: can't open file 'tf_cnn_benchmarks.py': [Errno 2] No such file or directory\n",
      "--optimizer=sgd --model=alexnet --num_gpus=1 --batch_size=512 --variable_update=parameter_server --distortions=false --num_batches=100 --data_name=imagenet --use_fp16=True\n",
      "python3: can't open file 'tf_cnn_benchmarks.py': [Errno 2] No such file or directory\n",
      "--optimizer=sgd --model=alexnet --num_gpus=1 --batch_size=512 --variable_update=parameter_server --distortions=false --num_batches=100 --data_name=imagenet --use_fp16=True\n",
      "python3: can't open file 'tf_cnn_benchmarks.py': [Errno 2] No such file or directory\n",
      "--optimizer=sgd --model=alexnet --num_gpus=1 --batch_size=512 --variable_update=parameter_server --distortions=false --num_batches=100 --data_name=imagenet --use_fp16=True\n",
      "python3: can't open file 'tf_cnn_benchmarks.py': [Errno 2] No such file or directory\n",
      "--optimizer=sgd --model=ssd300 --num_gpus=1 --batch_size=32 --variable_update=parameter_server --distortions=false --num_batches=100 --data_name=coco --use_fp16=True\n",
      "python3: can't open file 'tf_cnn_benchmarks.py': [Errno 2] No such file or directory\n",
      "--optimizer=sgd --model=ssd300 --num_gpus=1 --batch_size=32 --variable_update=parameter_server --distortions=false --num_batches=100 --data_name=coco --use_fp16=True\n",
      "python3: can't open file 'tf_cnn_benchmarks.py': [Errno 2] No such file or directory\n",
      "--optimizer=sgd --model=ssd300 --num_gpus=1 --batch_size=32 --variable_update=parameter_server --distortions=false --num_batches=100 --data_name=coco --use_fp16=True\n",
      "python3: can't open file 'tf_cnn_benchmarks.py': [Errno 2] No such file or directory\n",
      "--optimizer=sgd --model=ssd300 --num_gpus=1 --batch_size=32 --variable_update=parameter_server --distortions=false --num_batches=100 --data_name=coco --use_fp16=True\n",
      "python3: can't open file 'tf_cnn_benchmarks.py': [Errno 2] No such file or directory\n",
      "--optimizer=sgd --model=ssd300 --num_gpus=1 --batch_size=32 --variable_update=parameter_server --distortions=false --num_batches=100 --data_name=coco --use_fp16=True\n",
      "python3: can't open file 'tf_cnn_benchmarks.py': [Errno 2] No such file or directory\n",
      "--optimizer=sgd --model=ssd300 --num_gpus=1 --batch_size=32 --variable_update=parameter_server --distortions=false --num_batches=100 --data_name=coco --use_fp16=True\n",
      "python3: can't open file 'tf_cnn_benchmarks.py': [Errno 2] No such file or directory\n",
      "--optimizer=sgd --model=ssd300 --num_gpus=1 --batch_size=32 --variable_update=parameter_server --distortions=false --num_batches=100 --data_name=coco --use_fp16=True\n",
      "python3: can't open file 'tf_cnn_benchmarks.py': [Errno 2] No such file or directory\n",
      "--optimizer=sgd --model=ssd300 --num_gpus=1 --batch_size=32 --variable_update=parameter_server --distortions=false --num_batches=100 --data_name=coco --use_fp16=True\n",
      "python3: can't open file 'tf_cnn_benchmarks.py': [Errno 2] No such file or directory\n",
      "--optimizer=sgd --model=ssd300 --num_gpus=1 --batch_size=32 --variable_update=parameter_server --distortions=false --num_batches=100 --data_name=coco --use_fp16=True\n",
      "python3: can't open file 'tf_cnn_benchmarks.py': [Errno 2] No such file or directory\n",
      "--optimizer=sgd --model=ssd300 --num_gpus=1 --batch_size=32 --variable_update=parameter_server --distortions=false --num_batches=100 --data_name=coco --use_fp16=True\n",
      "python3: can't open file 'tf_cnn_benchmarks.py': [Errno 2] No such file or directory\n"
     ]
    }
   ],
   "source": [
    "# Actually just runs the benchmark below so ignore. Directory structure looks like its messed up.\n",
    "!bash ../repos/lambda-tensorflow-benchmark/benchmark.sh 0 10"
   ]
  },
  {
   "cell_type": "code",
   "execution_count": 6,
   "metadata": {
    "scrolled": false
   },
   "outputs": [
    {
     "name": "stdout",
     "output_type": "stream",
     "text": [
      "WARNING: Logging before flag parsing goes to stderr.\n",
      "W0219 22:38:18.301284 140239143397184 deprecation.py:323] From /home/daniel/anaconda3/lib/python3.7/site-packages/tensorflow/python/compat/v2_compat.py:61: disable_resource_variables (from tensorflow.python.ops.variable_scope) is deprecated and will be removed in a future version.\n",
      "Instructions for updating:\n",
      "non-resource variables are not supported in the long term\n",
      "2020-02-19 22:38:18.303619: I tensorflow/core/platform/cpu_feature_guard.cc:142] Your CPU supports instructions that this TensorFlow binary was not compiled to use: SSE4.1 SSE4.2 AVX AVX2 FMA\n",
      "2020-02-19 22:38:18.326465: I tensorflow/core/platform/profile_utils/cpu_utils.cc:94] CPU Frequency: 3600000000 Hz\n",
      "2020-02-19 22:38:18.327209: I tensorflow/compiler/xla/service/service.cc:168] XLA service 0x5635c0900530 executing computations on platform Host. Devices:\n",
      "2020-02-19 22:38:18.327219: I tensorflow/compiler/xla/service/service.cc:175]   StreamExecutor device (0): <undefined>, <undefined>\n",
      "2020-02-19 22:38:18.327765: I tensorflow/stream_executor/platform/default/dso_loader.cc:42] Successfully opened dynamic library libcuda.so.1\n",
      "2020-02-19 22:38:18.346783: I tensorflow/stream_executor/cuda/cuda_gpu_executor.cc:1005] successful NUMA node read from SysFS had negative value (-1), but there must be at least one NUMA node, so returning NUMA node zero\n",
      "2020-02-19 22:38:18.347617: I tensorflow/core/common_runtime/gpu/gpu_device.cc:1640] Found device 0 with properties: \n",
      "name: GeForce RTX 2080 Ti major: 7 minor: 5 memoryClockRate(GHz): 1.65\n",
      "pciBusID: 0000:01:00.0\n",
      "2020-02-19 22:38:18.347724: I tensorflow/stream_executor/platform/default/dso_loader.cc:42] Successfully opened dynamic library libcudart.so.10.1\n",
      "2020-02-19 22:38:18.348590: I tensorflow/stream_executor/platform/default/dso_loader.cc:42] Successfully opened dynamic library libcublas.so.10\n",
      "2020-02-19 22:38:18.349505: I tensorflow/stream_executor/platform/default/dso_loader.cc:42] Successfully opened dynamic library libcufft.so.10\n",
      "2020-02-19 22:38:18.349704: I tensorflow/stream_executor/platform/default/dso_loader.cc:42] Successfully opened dynamic library libcurand.so.10\n",
      "2020-02-19 22:38:18.350641: I tensorflow/stream_executor/platform/default/dso_loader.cc:42] Successfully opened dynamic library libcusolver.so.10\n",
      "2020-02-19 22:38:18.351188: I tensorflow/stream_executor/platform/default/dso_loader.cc:42] Successfully opened dynamic library libcusparse.so.10\n",
      "2020-02-19 22:38:18.353249: I tensorflow/stream_executor/platform/default/dso_loader.cc:42] Successfully opened dynamic library libcudnn.so.7\n",
      "2020-02-19 22:38:18.353316: I tensorflow/stream_executor/cuda/cuda_gpu_executor.cc:1005] successful NUMA node read from SysFS had negative value (-1), but there must be at least one NUMA node, so returning NUMA node zero\n",
      "2020-02-19 22:38:18.354107: I tensorflow/stream_executor/cuda/cuda_gpu_executor.cc:1005] successful NUMA node read from SysFS had negative value (-1), but there must be at least one NUMA node, so returning NUMA node zero\n",
      "2020-02-19 22:38:18.354887: I tensorflow/core/common_runtime/gpu/gpu_device.cc:1763] Adding visible gpu devices: 0\n",
      "2020-02-19 22:38:18.354909: I tensorflow/stream_executor/platform/default/dso_loader.cc:42] Successfully opened dynamic library libcudart.so.10.1\n",
      "2020-02-19 22:38:18.423682: I tensorflow/core/common_runtime/gpu/gpu_device.cc:1181] Device interconnect StreamExecutor with strength 1 edge matrix:\n",
      "2020-02-19 22:38:18.423700: I tensorflow/core/common_runtime/gpu/gpu_device.cc:1187]      0 \n",
      "2020-02-19 22:38:18.423704: I tensorflow/core/common_runtime/gpu/gpu_device.cc:1200] 0:   N \n",
      "2020-02-19 22:38:18.423834: I tensorflow/stream_executor/cuda/cuda_gpu_executor.cc:1005] successful NUMA node read from SysFS had negative value (-1), but there must be at least one NUMA node, so returning NUMA node zero\n",
      "2020-02-19 22:38:18.424375: I tensorflow/stream_executor/cuda/cuda_gpu_executor.cc:1005] successful NUMA node read from SysFS had negative value (-1), but there must be at least one NUMA node, so returning NUMA node zero\n",
      "2020-02-19 22:38:18.424896: I tensorflow/stream_executor/cuda/cuda_gpu_executor.cc:1005] successful NUMA node read from SysFS had negative value (-1), but there must be at least one NUMA node, so returning NUMA node zero\n",
      "2020-02-19 22:38:18.425400: I tensorflow/core/common_runtime/gpu/gpu_device.cc:1326] Created TensorFlow device (/job:localhost/replica:0/task:0/device:GPU:0 with 9687 MB memory) -> physical GPU (device: 0, name: GeForce RTX 2080 Ti, pci bus id: 0000:01:00.0, compute capability: 7.5)\n",
      "2020-02-19 22:38:18.426462: I tensorflow/compiler/xla/service/service.cc:168] XLA service 0x5635c22be810 executing computations on platform CUDA. Devices:\n",
      "2020-02-19 22:38:18.426472: I tensorflow/compiler/xla/service/service.cc:175]   StreamExecutor device (0): GeForce RTX 2080 Ti, Compute Capability 7.5\n",
      "TensorFlow:  1.14\n",
      "Model:       alexnet\n",
      "Dataset:     imagenet (synthetic)\n",
      "Mode:        training\n",
      "SingleSess:  False\n",
      "Batch size:  128 global\n",
      "             128 per device\n",
      "Num batches: 100\n",
      "Num epochs:  0.01\n",
      "Devices:     ['/gpu:0']\n",
      "NUMA bind:   False\n",
      "Data format: NCHW\n",
      "Optimizer:   sgd\n",
      "Variables:   parameter_server\n",
      "==========\n",
      "Generating training model\n",
      "W0219 22:38:18.437102 140239143397184 deprecation.py:323] From /home/daniel/repos/benchmarks/scripts/tf_cnn_benchmarks/convnet_builder.py:134: conv2d (from tensorflow.python.layers.convolutional) is deprecated and will be removed in a future version.\n",
      "Instructions for updating:\n",
      "Use `tf.keras.layers.Conv2D` instead.\n",
      "W0219 22:38:18.540461 140239143397184 deprecation.py:323] From /home/daniel/repos/benchmarks/scripts/tf_cnn_benchmarks/convnet_builder.py:266: max_pooling2d (from tensorflow.python.layers.pooling) is deprecated and will be removed in a future version.\n",
      "Instructions for updating:\n",
      "Use keras.layers.MaxPooling2D instead.\n",
      "W0219 22:38:18.641538 140239143397184 deprecation.py:323] From /home/daniel/repos/benchmarks/scripts/tf_cnn_benchmarks/convnet_builder.py:408: dropout (from tensorflow.python.layers.core) is deprecated and will be removed in a future version.\n",
      "Instructions for updating:\n",
      "Use keras.layers.dropout instead.\n",
      "W0219 22:38:18.693001 140239143397184 deprecation.py:323] From /home/daniel/anaconda3/lib/python3.7/site-packages/tensorflow/python/ops/losses/losses_impl.py:121: add_dispatch_support.<locals>.wrapper (from tensorflow.python.ops.array_ops) is deprecated and will be removed in a future version.\n",
      "Instructions for updating:\n",
      "Use tf.where in 2.0, which has the same broadcast rule as np.where\n",
      "Initializing graph\n",
      "W0219 22:38:18.790568 140239143397184 deprecation.py:323] From /home/daniel/repos/benchmarks/scripts/tf_cnn_benchmarks/benchmark_cnn.py:2267: Supervisor.__init__ (from tensorflow.python.training.supervisor) is deprecated and will be removed in a future version.\n",
      "Instructions for updating:\n",
      "Please switch to tf.train.MonitoredTrainingSession\n",
      "2020-02-19 22:38:18.855257: I tensorflow/stream_executor/cuda/cuda_gpu_executor.cc:1005] successful NUMA node read from SysFS had negative value (-1), but there must be at least one NUMA node, so returning NUMA node zero\n",
      "2020-02-19 22:38:18.855795: I tensorflow/core/common_runtime/gpu/gpu_device.cc:1640] Found device 0 with properties: \n",
      "name: GeForce RTX 2080 Ti major: 7 minor: 5 memoryClockRate(GHz): 1.65\n",
      "pciBusID: 0000:01:00.0\n",
      "2020-02-19 22:38:18.855826: I tensorflow/stream_executor/platform/default/dso_loader.cc:42] Successfully opened dynamic library libcudart.so.10.1\n",
      "2020-02-19 22:38:18.855838: I tensorflow/stream_executor/platform/default/dso_loader.cc:42] Successfully opened dynamic library libcublas.so.10\n",
      "2020-02-19 22:38:18.855849: I tensorflow/stream_executor/platform/default/dso_loader.cc:42] Successfully opened dynamic library libcufft.so.10\n",
      "2020-02-19 22:38:18.855858: I tensorflow/stream_executor/platform/default/dso_loader.cc:42] Successfully opened dynamic library libcurand.so.10\n",
      "2020-02-19 22:38:18.855868: I tensorflow/stream_executor/platform/default/dso_loader.cc:42] Successfully opened dynamic library libcusolver.so.10\n",
      "2020-02-19 22:38:18.855877: I tensorflow/stream_executor/platform/default/dso_loader.cc:42] Successfully opened dynamic library libcusparse.so.10\n",
      "2020-02-19 22:38:18.855887: I tensorflow/stream_executor/platform/default/dso_loader.cc:42] Successfully opened dynamic library libcudnn.so.7\n",
      "2020-02-19 22:38:18.855924: I tensorflow/stream_executor/cuda/cuda_gpu_executor.cc:1005] successful NUMA node read from SysFS had negative value (-1), but there must be at least one NUMA node, so returning NUMA node zero\n",
      "2020-02-19 22:38:18.856444: I tensorflow/stream_executor/cuda/cuda_gpu_executor.cc:1005] successful NUMA node read from SysFS had negative value (-1), but there must be at least one NUMA node, so returning NUMA node zero\n",
      "2020-02-19 22:38:18.856936: I tensorflow/core/common_runtime/gpu/gpu_device.cc:1763] Adding visible gpu devices: 0\n",
      "2020-02-19 22:38:18.856953: I tensorflow/core/common_runtime/gpu/gpu_device.cc:1181] Device interconnect StreamExecutor with strength 1 edge matrix:\n",
      "2020-02-19 22:38:18.856956: I tensorflow/core/common_runtime/gpu/gpu_device.cc:1187]      0 \n",
      "2020-02-19 22:38:18.856959: I tensorflow/core/common_runtime/gpu/gpu_device.cc:1200] 0:   N \n",
      "2020-02-19 22:38:18.857025: I tensorflow/stream_executor/cuda/cuda_gpu_executor.cc:1005] successful NUMA node read from SysFS had negative value (-1), but there must be at least one NUMA node, so returning NUMA node zero\n",
      "2020-02-19 22:38:18.857566: I tensorflow/stream_executor/cuda/cuda_gpu_executor.cc:1005] successful NUMA node read from SysFS had negative value (-1), but there must be at least one NUMA node, so returning NUMA node zero\n",
      "2020-02-19 22:38:18.858067: I tensorflow/core/common_runtime/gpu/gpu_device.cc:1326] Created TensorFlow device (/job:localhost/replica:0/task:0/device:GPU:0 with 9687 MB memory) -> physical GPU (device: 0, name: GeForce RTX 2080 Ti, pci bus id: 0000:01:00.0, compute capability: 7.5)\n"
     ]
    },
    {
     "name": "stdout",
     "output_type": "stream",
     "text": [
      "2020-02-19 22:38:18.885718: W tensorflow/compiler/jit/mark_for_compilation_pass.cc:1412] (One-time warning): Not using XLA:CPU for cluster because envvar TF_XLA_FLAGS=--tf_xla_cpu_global_jit was not set.  If you want XLA:CPU, either set that envvar, or use experimental_jit_scope to enable XLA:CPU.  To confirm that XLA is active, pass --vmodule=xla_compilation_cache=1 (as a proper command-line flag, not via TF_XLA_FLAGS) or set the envvar XLA_FLAGS=--xla_hlo_profile.\n",
      "I0219 22:38:19.280107 140239143397184 session_manager.py:500] Running local_init_op.\n",
      "I0219 22:38:19.287192 140239143397184 session_manager.py:502] Done running local_init_op.\n",
      "Running warm up\n",
      "2020-02-19 22:38:19.379757: I tensorflow/stream_executor/platform/default/dso_loader.cc:42] Successfully opened dynamic library libcublas.so.10\n",
      "2020-02-19 22:38:19.573685: I tensorflow/stream_executor/platform/default/dso_loader.cc:42] Successfully opened dynamic library libcudnn.so.7\n",
      "Done warm up\n",
      "Step\tImg/sec\ttotal_loss\n",
      "1\timages/sec: 3123.4 +/- 0.0 (jitter = 0.0)\tnan\n",
      "10\timages/sec: 3334.9 +/- 37.6 (jitter = 25.2)\tnan\n",
      "20\timages/sec: 3336.3 +/- 25.7 (jitter = 19.9)\tnan\n",
      "30\timages/sec: 3337.6 +/- 21.0 (jitter = 17.8)\tnan\n",
      "40\timages/sec: 3338.7 +/- 18.5 (jitter = 16.8)\tnan\n",
      "50\timages/sec: 3336.2 +/- 15.8 (jitter = 13.2)\tnan\n",
      "60\timages/sec: 3337.2 +/- 14.7 (jitter = 12.3)\tnan\n",
      "70\timages/sec: 3338.9 +/- 13.1 (jitter = 11.8)\tnan\n",
      "80\timages/sec: 3337.9 +/- 12.3 (jitter = 11.9)\tnan\n",
      "90\timages/sec: 3292.5 +/- 19.5 (jitter = 13.3)\tnan\n",
      "100\timages/sec: 3297.0 +/- 17.9 (jitter = 13.6)\tnan\n",
      "----------------------------------------------------------------\n",
      "total images/sec: 3286.79\n",
      "----------------------------------------------------------------\n"
     ]
    }
   ],
   "source": [
    "!python ../repos/benchmarks/scripts/tf_cnn_benchmarks/tf_cnn_benchmarks.py --num_gpus=1 --batch_size=128 --model=alexnet --variable_update=parameter_server --use_fp16=False --datasets_use_prefetch=False --data_name imagenet"
   ]
  },
  {
   "cell_type": "code",
   "execution_count": null,
   "metadata": {},
   "outputs": [],
   "source": []
  }
 ],
 "metadata": {
  "kernelspec": {
   "display_name": "Python 3",
   "language": "python",
   "name": "python3"
  },
  "language_info": {
   "codemirror_mode": {
    "name": "ipython",
    "version": 3
   },
   "file_extension": ".py",
   "mimetype": "text/x-python",
   "name": "python",
   "nbconvert_exporter": "python",
   "pygments_lexer": "ipython3",
   "version": "3.7.3"
  }
 },
 "nbformat": 4,
 "nbformat_minor": 2
}
